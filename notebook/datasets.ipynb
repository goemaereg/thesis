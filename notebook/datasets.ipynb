{
 "cells": [
  {
   "cell_type": "code",
   "execution_count": 2,
   "outputs": [],
   "source": [
    "import os\n",
    "import munch\n",
    "import pandas as pd\n",
    "import numpy as np"
   ],
   "metadata": {
    "collapsed": false
   }
  },
  {
   "cell_type": "code",
   "execution_count": 34,
   "outputs": [],
   "source": [
    "def mch(**kwargs):\n",
    "    return munch.Munch(dict(**kwargs))"
   ],
   "metadata": {
    "collapsed": false
   }
  },
  {
   "cell_type": "code",
   "execution_count": 35,
   "outputs": [],
   "source": [
    "def configure_metadata(metadata_root):\n",
    "    metadata = mch()\n",
    "    metadata.image_ids = os.path.join(metadata_root, 'image_ids.txt')\n",
    "    metadata.image_ids_proxy = os.path.join(metadata_root,\n",
    "                                            'image_ids_proxy.txt')\n",
    "    metadata.class_labels = os.path.join(metadata_root, 'class_labels.txt')\n",
    "    metadata.image_sizes = os.path.join(metadata_root, 'image_sizes.txt')\n",
    "    metadata.localization = os.path.join(metadata_root, 'localization.txt')\n",
    "    return metadata"
   ],
   "metadata": {
    "collapsed": false
   }
  },
  {
   "cell_type": "code",
   "execution_count": 36,
   "outputs": [],
   "source": [
    "data_root = '../src/dataset'\n",
    "metadata_root = '../src/metadata'\n",
    "dataset_list = ['CUB', 'ILSVRC']\n",
    "_SPLITS = ('train', 'val', 'test')\n",
    "metadata_cub_path = os.path.join(metadata_root, 'CUB')\n",
    "metadata_cub_splits = {split: configure_metadata(os.path.join(metadata_cub_path, split)) for split in _SPLITS}"
   ],
   "metadata": {
    "collapsed": false
   }
  },
  {
   "cell_type": "code",
   "execution_count": 37,
   "outputs": [],
   "source": [
    "def get_class_labels(metadata):\n",
    "    \"\"\"\n",
    "    image_ids.txt has the structure\n",
    "\n",
    "    <path>,<integer_class_label>\n",
    "    path/to/image1.jpg,0\n",
    "    path/to/image2.jpg,1\n",
    "    path/to/image3.jpg,1\n",
    "    ...\n",
    "    \"\"\"\n",
    "    class_labels = {}\n",
    "    with open(metadata.class_labels) as f:\n",
    "        for line in f.readlines():\n",
    "            image_id, class_label_string = line.strip('\\n').split(',')\n",
    "            class_labels[image_id] = int(class_label_string)\n",
    "    return class_labels"
   ],
   "metadata": {
    "collapsed": false
   }
  },
  {
   "cell_type": "code",
   "execution_count": 38,
   "outputs": [],
   "source": [
    "def get_bounding_boxes(metadata):\n",
    "    \"\"\"\n",
    "    localization.txt (for bounding box) has the structure\n",
    "\n",
    "    <path>,<x0>,<y0>,<x1>,<y1>\n",
    "    path/to/image1.jpg,156,163,318,230\n",
    "    path/to/image1.jpg,23,12,101,259\n",
    "    path/to/image2.jpg,143,142,394,248\n",
    "    path/to/image3.jpg,28,94,485,303\n",
    "    ...\n",
    "\n",
    "    One image may contain multiple boxes (multiple boxes for the same path).\n",
    "    \"\"\"\n",
    "    boxes = {}\n",
    "    with open(metadata.localization) as f:\n",
    "        for line in f.readlines():\n",
    "            image_id, x0s, y0s, x1s, y1s = line.strip('\\n').split(',')\n",
    "            x0, y0, x1, y1 = int(x0s), int(y0s), int(x1s), int(y1s)\n",
    "            if image_id in boxes:\n",
    "                boxes[image_id].append((x0, y0, x1, y1))\n",
    "            else:\n",
    "                boxes[image_id] = [(x0, y0, x1, y1)]\n",
    "    return boxes"
   ],
   "metadata": {
    "collapsed": false
   }
  },
  {
   "cell_type": "code",
   "execution_count": 43,
   "outputs": [],
   "source": [
    "labels = get_class_labels(metadata_cub_splits['test'])\n",
    "cub_train_labels = {'id': labels.keys(), 'label': labels.values()}"
   ],
   "metadata": {
    "collapsed": false
   }
  },
  {
   "cell_type": "code",
   "execution_count": 44,
   "outputs": [],
   "source": [
    "df = pd.DataFrame.from_dict(cub_train_labels)"
   ],
   "metadata": {
    "collapsed": false
   }
  },
  {
   "cell_type": "code",
   "execution_count": 45,
   "outputs": [
    {
     "name": "stdout",
     "output_type": "stream",
     "text": [
      "<class 'pandas.core.frame.DataFrame'>\n",
      "RangeIndex: 5794 entries, 0 to 5793\n",
      "Data columns (total 2 columns):\n",
      " #   Column  Non-Null Count  Dtype \n",
      "---  ------  --------------  ----- \n",
      " 0   id      5794 non-null   object\n",
      " 1   label   5794 non-null   int64 \n",
      "dtypes: int64(1), object(1)\n",
      "memory usage: 90.7+ KB\n"
     ]
    }
   ],
   "source": [
    "df.info()"
   ],
   "metadata": {
    "collapsed": false
   }
  },
  {
   "cell_type": "code",
   "execution_count": 42,
   "outputs": [
    {
     "data": {
      "text/plain": "               id\ncount  200.000000\nmean    29.970000\nstd      0.171015\nmin     29.000000\n25%     30.000000\n50%     30.000000\n75%     30.000000\nmax     30.000000",
      "text/html": "<div>\n<style scoped>\n    .dataframe tbody tr th:only-of-type {\n        vertical-align: middle;\n    }\n\n    .dataframe tbody tr th {\n        vertical-align: top;\n    }\n\n    .dataframe thead th {\n        text-align: right;\n    }\n</style>\n<table border=\"1\" class=\"dataframe\">\n  <thead>\n    <tr style=\"text-align: right;\">\n      <th></th>\n      <th>id</th>\n    </tr>\n  </thead>\n  <tbody>\n    <tr>\n      <th>count</th>\n      <td>200.000000</td>\n    </tr>\n    <tr>\n      <th>mean</th>\n      <td>29.970000</td>\n    </tr>\n    <tr>\n      <th>std</th>\n      <td>0.171015</td>\n    </tr>\n    <tr>\n      <th>min</th>\n      <td>29.000000</td>\n    </tr>\n    <tr>\n      <th>25%</th>\n      <td>30.000000</td>\n    </tr>\n    <tr>\n      <th>50%</th>\n      <td>30.000000</td>\n    </tr>\n    <tr>\n      <th>75%</th>\n      <td>30.000000</td>\n    </tr>\n    <tr>\n      <th>max</th>\n      <td>30.000000</td>\n    </tr>\n  </tbody>\n</table>\n</div>"
     },
     "execution_count": 42,
     "metadata": {},
     "output_type": "execute_result"
    }
   ],
   "source": [
    "df.groupby(df.label).count().describe()"
   ],
   "metadata": {
    "collapsed": false
   }
  },
  {
   "cell_type": "code",
   "execution_count": 63,
   "outputs": [
    {
     "name": "stdout",
     "output_type": "stream",
     "text": [
      "\n",
      "CUB train: images = 5994 classes = 200\n",
      "        count   mean       std   min   25%   50%   75%   max\n",
      "images  200.0  29.97  0.171015  29.0  30.0  30.0  30.0  30.0\n",
      "boxes   200.0   1.00  0.000000   1.0   1.0   1.0   1.0   1.0\n",
      "\n",
      "CUB val: images = 1000 classes = 200\n",
      "        count  mean      std  min  25%  50%  75%  max\n",
      "images  200.0   5.0  0.17364  3.0  5.0  5.0  5.0  6.0\n",
      "boxes   200.0   1.0  0.00000  1.0  1.0  1.0  1.0  1.0\n",
      "\n",
      "CUB test: images = 5794 classes = 200\n",
      "        count   mean       std   min   25%   50%   75%   max\n",
      "images  200.0  28.97  2.920917  11.0  29.0  30.0  30.0  30.0\n",
      "boxes   200.0   1.00  0.000000   1.0   1.0   1.0   1.0   1.0\n",
      "\n",
      "ILSVRC train: images = 1281167 classes = 1000\n",
      "         count      mean        std    min     25%     50%     75%     max\n",
      "images  1000.0  1281.167  70.221807  732.0  1300.0  1300.0  1300.0  1300.0\n",
      "boxes   1000.0     0.000   0.000000    0.0     0.0     0.0     0.0     0.0\n",
      "\n",
      "ILSVRC val: images = 10000 classes = 1000\n",
      "         count    mean        std   min   25%   50%   75%    max\n",
      "images  1000.0  10.000   0.000000  10.0  10.0  10.0  10.0   10.0\n",
      "boxes   1000.0   6.022  14.843647   1.0   1.0   2.0   5.0  259.0\n",
      "\n",
      "ILSVRC test: images = 50000 classes = 1000\n",
      "         count    mean       std   min   25%   50%   75%   max\n",
      "images  1000.0  50.000  0.000000  50.0  50.0  50.0  50.0  50.0\n",
      "boxes   1000.0   6.832  4.915072   1.0   3.0   5.0   9.0  20.0\n"
     ]
    }
   ],
   "source": [
    "metadata_path = os.path.join(metadata_root, 'CUB')\n",
    "metadata_splits = {split: configure_metadata(os.path.join(metadata_cub_path, split)) for split in _SPLITS}\n",
    "\n",
    "for dataset in dataset_list:\n",
    "    metadata_path = os.path.join(metadata_root, dataset)\n",
    "    metadata_splits = {split: configure_metadata(os.path.join(metadata_path, split)) for split in _SPLITS}\n",
    "    for split in _SPLITS:\n",
    "        labels = get_class_labels(metadata_splits[split])\n",
    "        boxes = get_bounding_boxes(metadata_splits[split])\n",
    "        boxes_len = list(map(len, boxes.values()))\n",
    "        if not boxes_len:\n",
    "            boxes_len = [0] * len(labels)\n",
    "        info = {'images': labels.keys(), 'labels': labels.values(), 'boxes': boxes_len}\n",
    "        _min = min(boxes_len) if boxes_len else 0\n",
    "        _max = max(boxes_len) if boxes_len else 0\n",
    "        _max_image = list(boxes.keys())[boxes_len.index(_max)] if _max > 1 else ''\n",
    "        print()\n",
    "        print(f'{dataset} {split}: images = {len(labels)} classes = {len(set(labels.values()))}')\n",
    "        df = pd.DataFrame.from_dict(info)\n",
    "        df_grp_lbl = df.groupby(df.labels).agg({'images': 'count', 'boxes': 'max'})\n",
    "        print(df_grp_lbl.describe().T)"
   ],
   "metadata": {
    "collapsed": false
   }
  },
  {
   "cell_type": "code",
   "execution_count": 102,
   "outputs": [
    {
     "name": "stdout",
     "output_type": "stream",
     "text": [
      "ILSVRC test: images = 50000 classes = 1000\n"
     ]
    }
   ],
   "source": [
    "split = 'test'\n",
    "dataset = 'ILSVRC'\n",
    "metadata_path = os.path.join(metadata_root, dataset)\n",
    "metadata_splits = {split: configure_metadata(os.path.join(metadata_path, split)) for split in _SPLITS}\n",
    "labels = get_class_labels(metadata_splits[split])\n",
    "boxes = get_bounding_boxes(metadata_splits[split])\n",
    "boxes_len = list(map(len, boxes.values()))\n",
    "if not boxes_len:\n",
    "    boxes_len = [0] * len(labels)\n",
    "info = {'images': labels.keys(), 'labels': labels.values(), 'boxes': boxes_len}\n",
    "print(f'{dataset} {split}: images = {len(labels)} classes = {len(set(labels.values()))}')\n",
    "df = pd.DataFrame.from_dict(info)"
   ],
   "metadata": {
    "collapsed": false
   }
  },
  {
   "cell_type": "code",
   "execution_count": 109,
   "outputs": [
    {
     "data": {
      "text/plain": "             labels         boxes\ncount  50000.000000  50000.000000\nmean     499.500000      1.609540\nstd      288.677877      1.759029\nmin        0.000000      1.000000\n25%      249.750000      1.000000\n50%      499.500000      1.000000\n75%      749.250000      1.000000\nmax      999.000000     20.000000",
      "text/html": "<div>\n<style scoped>\n    .dataframe tbody tr th:only-of-type {\n        vertical-align: middle;\n    }\n\n    .dataframe tbody tr th {\n        vertical-align: top;\n    }\n\n    .dataframe thead th {\n        text-align: right;\n    }\n</style>\n<table border=\"1\" class=\"dataframe\">\n  <thead>\n    <tr style=\"text-align: right;\">\n      <th></th>\n      <th>labels</th>\n      <th>boxes</th>\n    </tr>\n  </thead>\n  <tbody>\n    <tr>\n      <th>count</th>\n      <td>50000.000000</td>\n      <td>50000.000000</td>\n    </tr>\n    <tr>\n      <th>mean</th>\n      <td>499.500000</td>\n      <td>1.609540</td>\n    </tr>\n    <tr>\n      <th>std</th>\n      <td>288.677877</td>\n      <td>1.759029</td>\n    </tr>\n    <tr>\n      <th>min</th>\n      <td>0.000000</td>\n      <td>1.000000</td>\n    </tr>\n    <tr>\n      <th>25%</th>\n      <td>249.750000</td>\n      <td>1.000000</td>\n    </tr>\n    <tr>\n      <th>50%</th>\n      <td>499.500000</td>\n      <td>1.000000</td>\n    </tr>\n    <tr>\n      <th>75%</th>\n      <td>749.250000</td>\n      <td>1.000000</td>\n    </tr>\n    <tr>\n      <th>max</th>\n      <td>999.000000</td>\n      <td>20.000000</td>\n    </tr>\n  </tbody>\n</table>\n</div>"
     },
     "execution_count": 109,
     "metadata": {},
     "output_type": "execute_result"
    }
   ],
   "source": [
    "df.describe()"
   ],
   "metadata": {
    "collapsed": false
   }
  },
  {
   "cell_type": "code",
   "execution_count": 87,
   "outputs": [],
   "source": [
    "df2 = df.groupby(df.boxes).agg({'images': 'count', 'labels': 'unique'})\n",
    "df2['labels'] = df2.labels.map(len)"
   ],
   "metadata": {
    "collapsed": false
   }
  },
  {
   "cell_type": "code",
   "execution_count": 93,
   "outputs": [
    {
     "name": "stdout",
     "output_type": "stream",
     "text": [
      "       images  labels\n",
      "boxes                \n",
      "1       38285    1000\n",
      "2        6128     963\n",
      "3        2103     713\n",
      "4        1106     514\n",
      "5         668     363\n",
      "6         438     278\n",
      "7         290     203\n",
      "8         214     148\n",
      "9         150     119\n",
      "10        128      93\n",
      "11         97      81\n",
      "12         93      78\n",
      "13         66      57\n",
      "14         46      44\n",
      "15         50      42\n",
      "16         38      30\n",
      "17         26      24\n",
      "18         40      35\n",
      "19         22      20\n",
      "20         12      12\n"
     ]
    }
   ],
   "source": [
    "print(df2)"
   ],
   "metadata": {
    "collapsed": false
   }
  },
  {
   "cell_type": "code",
   "execution_count": 98,
   "outputs": [
    {
     "data": {
      "text/plain": "<AxesSubplot: xlabel='boxes'>"
     },
     "execution_count": 98,
     "metadata": {},
     "output_type": "execute_result"
    },
    {
     "data": {
      "text/plain": "<Figure size 640x480 with 1 Axes>",
      "image/png": "[encoded data removed]"
     },
     "metadata": {},
     "output_type": "display_data"
    }
   ],
   "source": [
    "df2.plot.bar(log=True)"
   ],
   "metadata": {
    "collapsed": false
   }
  },
  {
   "cell_type": "code",
   "execution_count": 34,
   "outputs": [],
   "source": [
    "z = np.random.random((6,2))\n",
    "zmask = np.ones((len(e),len(g)), dtype=bool)"
   ],
   "metadata": {
    "collapsed": false
   }
  },
  {
   "cell_type": "code",
   "execution_count": 23,
   "outputs": [],
   "source": [
    "g = np.arange(2)\n",
    "gmask = np.ones(len(g), dtype=bool)"
   ],
   "metadata": {
    "collapsed": false
   }
  },
  {
   "cell_type": "code",
   "execution_count": 24,
   "outputs": [],
   "source": [
    "e = np.arange(6)\n",
    "emask = np.ones(len(e), dtype=bool)"
   ],
   "metadata": {
    "collapsed": false
   }
  },
  {
   "cell_type": "code",
   "execution_count": 109,
   "outputs": [],
   "source": [
    "number_of_box_list = [2,2,2]\n",
    "num_threshold = len(number_of_box_list)\n",
    "iou_threshold = 0.5\n",
    "num_correct = {iou_threshold: np.zeros(shape=(3, z.shape[1]))}\n",
    "num_correct_aggregated = {iou_threshold: np.zeros(shape=(3,))}\n",
    "num_gt_boxes = 0\n",
    "\n",
    "idx = 0\n",
    "sliced_multiple_iou = []\n",
    "sliced_multiple_iou_index = []\n",
    "y = z.copy()\n",
    "for nr_box in number_of_box_list:\n",
    "    gt_iou_max_index = []\n",
    "    gt_iou_max = []\n",
    "    x = y[idx:idx+nr_box]\n",
    "    for g_index in range(x.shape[1]):\n",
    "        max_iou_index = np.unravel_index(np.argmax(x), shape=x.shape)\n",
    "        gt_iou_max_index.append((max_iou_index[0] + idx, max_iou_index[1]))\n",
    "        gt_iou_max.append(x[max_iou_index[0],max_iou_index[1]])\n",
    "        x[max_iou_index[0], :] = 0\n",
    "        x[:, max_iou_index[1]] = 0\n",
    "    sliced_multiple_iou.append(np.asarray(gt_iou_max))\n",
    "    sliced_multiple_iou_index.append(gt_iou_max_index)\n",
    "    idx += nr_box\n",
    "num_gt_boxes += len(g)"
   ],
   "metadata": {
    "collapsed": false
   }
  },
  {
   "cell_type": "code",
   "execution_count": 110,
   "outputs": [
    {
     "data": {
      "text/plain": "[array([0.84180655, 0.72144019]),\n array([0.83656069, 0.181785  ]),\n array([0.77082073, 0.46672577])]"
     },
     "execution_count": 110,
     "metadata": {},
     "output_type": "execute_result"
    }
   ],
   "source": [
    "sliced_multiple_iou"
   ],
   "metadata": {
    "collapsed": false
   }
  },
  {
   "cell_type": "code",
   "execution_count": 111,
   "outputs": [
    {
     "data": {
      "text/plain": "array([[0.84180655, 0.72144019],\n       [0.83656069, 0.181785  ],\n       [0.77082073, 0.46672577]])"
     },
     "execution_count": 111,
     "metadata": {},
     "output_type": "execute_result"
    }
   ],
   "source": [
    "multi_iou_per_threshold = np.asarray(sliced_multiple_iou)\n",
    "multi_iou_per_threshold"
   ],
   "metadata": {
    "collapsed": false
   }
  },
  {
   "cell_type": "code",
   "execution_count": 112,
   "outputs": [
    {
     "data": {
      "text/plain": "array([0.84180655, 0.72144019])"
     },
     "execution_count": 112,
     "metadata": {},
     "output_type": "execute_result"
    }
   ],
   "source": [
    "multi_iou_max_threshold = multi_iou_per_threshold[np.average(multi_iou_per_threshold, axis=1).argmax()]\n",
    "multi_iou_max_threshold"
   ],
   "metadata": {
    "collapsed": false
   }
  },
  {
   "cell_type": "code",
   "execution_count": 113,
   "outputs": [
    {
     "data": {
      "text/plain": "(array([0, 0, 1, 2]), array([0, 1, 0, 0]))"
     },
     "execution_count": 113,
     "metadata": {},
     "output_type": "execute_result"
    }
   ],
   "source": [
    "correct_threshold_indices = np.where(multi_iou_per_threshold > 0.5)\n",
    "correct_threshold_indices"
   ],
   "metadata": {
    "collapsed": false
   }
  },
  {
   "cell_type": "code",
   "execution_count": 114,
   "outputs": [],
   "source": [
    "for threshold in [0.5]:\n",
    "    num_correct[threshold][correct_threshold_indices] += 1\n",
    "    num_correct_aggregated[threshold] = np.sum(num_correct[threshold], axis=1)"
   ],
   "metadata": {
    "collapsed": false
   }
  },
  {
   "cell_type": "code",
   "execution_count": 115,
   "outputs": [
    {
     "data": {
      "text/plain": "{0.5: array([[1., 1.],\n        [1., 0.],\n        [1., 0.]])}"
     },
     "execution_count": 115,
     "metadata": {},
     "output_type": "execute_result"
    }
   ],
   "source": [
    "num_correct"
   ],
   "metadata": {
    "collapsed": false
   }
  },
  {
   "cell_type": "code",
   "execution_count": 116,
   "outputs": [
    {
     "data": {
      "text/plain": "{0.5: array([2., 1., 1.])}"
     },
     "execution_count": 116,
     "metadata": {},
     "output_type": "execute_result"
    }
   ],
   "source": [
    "num_correct_aggregated"
   ],
   "metadata": {
    "collapsed": false
   }
  },
  {
   "cell_type": "code",
   "execution_count": null,
   "outputs": [],
   "source": [],
   "metadata": {
    "collapsed": false
   }
  }
 ],
 "metadata": {
  "kernelspec": {
   "display_name": "Python 3",
   "language": "python",
   "name": "python3"
  },
  "language_info": {
   "codemirror_mode": {
    "name": "ipython",
    "version": 2
   },
   "file_extension": ".py",
   "mimetype": "text/x-python",
   "name": "python",
   "nbconvert_exporter": "python",
   "pygments_lexer": "ipython2",
   "version": "2.7.6"
  }
 },
 "nbformat": 4,
 "nbformat_minor": 0
}
