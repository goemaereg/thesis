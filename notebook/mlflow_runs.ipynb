{
 "cells": [
  {
   "cell_type": "markdown",
   "source": [
    "# MLFlow runs"
   ],
   "metadata": {
    "collapsed": false
   }
  },
  {
   "cell_type": "code",
   "execution_count": 2,
   "metadata": {
    "collapsed": true
   },
   "outputs": [],
   "source": [
    "import mlflow\n",
    "from mlflow.tracking import MlflowClient\n",
    "import itertools\n",
    "import matplotlib.pyplot as plt\n",
    "from mlflow.entities import ViewType\n",
    "\n",
    "mlflow.tracking.set_tracking_uri('../mlruns')"
   ]
  },
  {
   "cell_type": "markdown",
   "source": [
    "## Functions"
   ],
   "metadata": {
    "collapsed": false
   }
  },
  {
   "cell_type": "code",
   "execution_count": 3,
   "outputs": [],
   "source": [
    "def get_runs(experiment_name, filter_string=''):\n",
    "    client = MlflowClient()\n",
    "    exp_ids = [client.get_experiment_by_name(experiment_name).experiment_id]\n",
    "    runs = mlflow.search_runs(experiment_ids=exp_ids, filter_string=filter_string)\n",
    "    return runs\n",
    "\n",
    "\n",
    "def get_best_run(runs, best_metrics):\n",
    "    if runs is None or runs.shape[0] == 0:\n",
    "        return None\n",
    "    for metric in best_metrics:\n",
    "        runs = runs.loc[runs[f'metrics.{metric}'] >= runs[f'metrics.{metric}'].max()]\n",
    "    # pick first in the list\n",
    "    run = runs.loc[runs.index[0]]\n",
    "    return run"
   ],
   "metadata": {
    "collapsed": false
   }
  },
  {
   "cell_type": "code",
   "execution_count": 4,
   "outputs": [],
   "source": [
    "def runs_to_latex(runs, threshold_method, caption, label, grouped=False):\n",
    "    cols = ['tags.mlflow.runName', 'tags.model', 'tags.method', 'metrics.test_auc', 'metrics.test_tax_yield', 'metrics.test_tax_score', 'metrics.test_effort', 'metrics.test_f1-score_1', 'metrics.test_recall_1', 'metrics.test_precision_1', 'metrics.threshold']\n",
    "    cols_renamed = [ 'name', 'model', 'method', 'auc', 'yield', 'value', 'effort', 'f1-score', 'recall', 'precision', 'threshold' ]\n",
    "    to_replace = {\n",
    "        'model': {'tree': 'DT', 'forest': 'RF', 'logit': 'LR'},\n",
    "        'method': {'imbalanced': 'IM', 'oversample': 'RO', 'weighted': 'BC'}}\n",
    "    df = runs.loc[:, :]\n",
    "    df = df.loc[df['tags.threshold_method']==threshold_method]\n",
    "    df = df.loc[df['tags.grouped']==str(grouped)]\n",
    "    df = df.sort_index(ascending=False)\n",
    "    df = df.loc[:, cols]\n",
    "    df = df.rename(columns=dict(zip(cols, cols_renamed)))\n",
    "    df = df.replace(to_replace=to_replace)\n",
    "    df.loc[:, 'name'] = df.model.str.cat(df.method, sep='-')\n",
    "    df = df.drop(columns=['model', 'method']).set_index(['name'])\n",
    "    if threshold_method=='default':\n",
    "        df = df.drop(columns=['threshold'])\n",
    "    else:\n",
    "        df = df.drop(columns=['auc'])\n",
    "    cols_max = df.columns.drop('effort').tolist()\n",
    "    s = df.style.highlight_max(subset=cols_max, axis=0, props='bfseries: ;')\n",
    "    s = s.highlight_min(subset='effort', axis=0, props='bfseries: ;')\n",
    "    latex_table = s.to_latex(\n",
    "        column_format=\"lrrrrrrr\", position=\"ht\", position_float=\"centering\",\n",
    "        hrules=True, label=label, caption=caption,\n",
    "        multirow_align=\"t\", multicol_align=\"r\")\n",
    "    return latex_table"
   ],
   "metadata": {
    "collapsed": false
   }
  },
  {
   "cell_type": "markdown",
   "source": [
    "## Reports"
   ],
   "metadata": {
    "collapsed": false
   }
  },
  {
   "cell_type": "code",
   "execution_count": 62,
   "outputs": [],
   "source": [
    "filter_string = 'tags.dataset = \"SYNTHETIC\" and tags.dataset_spec = \"d4b\" and status = \"FINISHED\" and tags.architecture_type = \"cam\"'\n",
    "runs = get_runs('wsol', filter_string=filter_string)"
   ],
   "metadata": {
    "collapsed": false
   }
  },
  {
   "cell_type": "code",
   "execution_count": 63,
   "outputs": [
    {
     "data": {
      "text/plain": "                             run_id       experiment_id    status  \\\n0  e79d5e097d044114bff1f05ae5e37d4b  444281214894994099  FINISHED   \n1  316d72602308482ca7c60e49bad2e84d  444281214894994099  FINISHED   \n2  e06bf522e10944f79b6f2a596d132b2f  444281214894994099  FINISHED   \n3  5106e27d6d7648048e60261474f7992b  444281214894994099  FINISHED   \n\n                                        artifact_uri  \\\n0  file:///Users/goemaereg/github.com/thesis/mlru...   \n1  file:///Users/goemaereg/github.com/thesis/mlru...   \n2  file:///Users/goemaereg/github.com/thesis/mlru...   \n3  file:///Users/goemaereg/github.com/thesis/mlru...   \n\n                        start_time                         end_time  \\\n0 2023-02-04 20:55:28.487000+00:00 2023-02-04 21:03:49.365000+00:00   \n1 2023-02-02 13:36:48.472000+00:00 2023-02-02 13:51:33.719000+00:00   \n2 2023-01-19 22:22:28.980000+00:00 2023-01-19 22:25:10.701000+00:00   \n3 2023-01-19 20:59:25.608000+00:00 2023-01-19 21:01:07.397000+00:00   \n\n   metrics.test_accuracy  metrics.val_loss  metrics.val_MaxBoxAccV3  \\\n0                   0.95          0.053912                 0.167917   \n1                   0.99          0.002068                 0.266667   \n2                   0.99          0.002068                 0.160833   \n3                   0.99          0.002068                 0.160833   \n\n   metrics.val_MaxBoxAccV3_IOU_30  ...  tags.model  tags.wsol_method  \\\n0                         0.30125  ...      VggCam         minmaxcam   \n1                         0.47625  ...      VggCam               cam   \n2                         0.30750  ...      VggCam               cam   \n3                         0.30750  ...      VggCam               cam   \n\n   tags.mlflow.project.backend  tags.optimizer  tags.pretrained  \\\n0                        local             SGD             True   \n1                        local             SGD             True   \n2                        local             SGD             True   \n3                        local             SGD             True   \n\n   tags.architecture                      tags.mlflow.log-model.history  \\\n0              vgg16  [{\"run_id\": \"e79d5e097d044114bff1f05ae5e37d4b\"...   \n1              vgg16  [{\"run_id\": \"316d72602308482ca7c60e49bad2e84d\"...   \n2              vgg16  [{\"run_id\": \"e06bf522e10944f79b6f2a596d132b2f\"...   \n3              vgg16  [{\"run_id\": \"5106e27d6d7648048e60261474f7992b\"...   \n\n        tags.mlflow.source.git.repoURL               tags.mlflow.gitRepoURL  \\\n0                                 None                                 None   \n1                                 None                                 None   \n2  git@github.com:goemaereg/thesis.git  git@github.com:goemaereg/thesis.git   \n3  git@github.com:goemaereg/thesis.git  git@github.com:goemaereg/thesis.git   \n\n              tags.mlflow.source.git.commit  \n0                                      None  \n1                                      None  \n2  0a34ae3aa7ee557ac0f16b28bae58b5f453b34f0  \n3  0a34ae3aa7ee557ac0f16b28bae58b5f453b34f0  \n\n[4 rows x 57 columns]",
      "text/html": "<div>\n<style scoped>\n    .dataframe tbody tr th:only-of-type {\n        vertical-align: middle;\n    }\n\n    .dataframe tbody tr th {\n        vertical-align: top;\n    }\n\n    .dataframe thead th {\n        text-align: right;\n    }\n</style>\n<table border=\"1\" class=\"dataframe\">\n  <thead>\n    <tr style=\"text-align: right;\">\n      <th></th>\n      <th>run_id</th>\n      <th>experiment_id</th>\n      <th>status</th>\n      <th>artifact_uri</th>\n      <th>start_time</th>\n      <th>end_time</th>\n      <th>metrics.test_accuracy</th>\n      <th>metrics.val_loss</th>\n      <th>metrics.val_MaxBoxAccV3</th>\n      <th>metrics.val_MaxBoxAccV3_IOU_30</th>\n      <th>...</th>\n      <th>tags.model</th>\n      <th>tags.wsol_method</th>\n      <th>tags.mlflow.project.backend</th>\n      <th>tags.optimizer</th>\n      <th>tags.pretrained</th>\n      <th>tags.architecture</th>\n      <th>tags.mlflow.log-model.history</th>\n      <th>tags.mlflow.source.git.repoURL</th>\n      <th>tags.mlflow.gitRepoURL</th>\n      <th>tags.mlflow.source.git.commit</th>\n    </tr>\n  </thead>\n  <tbody>\n    <tr>\n      <th>0</th>\n      <td>e79d5e097d044114bff1f05ae5e37d4b</td>\n      <td>444281214894994099</td>\n      <td>FINISHED</td>\n      <td>file:///Users/goemaereg/github.com/thesis/mlru...</td>\n      <td>2023-02-04 20:55:28.487000+00:00</td>\n      <td>2023-02-04 21:03:49.365000+00:00</td>\n      <td>0.95</td>\n      <td>0.053912</td>\n      <td>0.167917</td>\n      <td>0.30125</td>\n      <td>...</td>\n      <td>VggCam</td>\n      <td>minmaxcam</td>\n      <td>local</td>\n      <td>SGD</td>\n      <td>True</td>\n      <td>vgg16</td>\n      <td>[{\"run_id\": \"e79d5e097d044114bff1f05ae5e37d4b\"...</td>\n      <td>None</td>\n      <td>None</td>\n      <td>None</td>\n    </tr>\n    <tr>\n      <th>1</th>\n      <td>316d72602308482ca7c60e49bad2e84d</td>\n      <td>444281214894994099</td>\n      <td>FINISHED</td>\n      <td>file:///Users/goemaereg/github.com/thesis/mlru...</td>\n      <td>2023-02-02 13:36:48.472000+00:00</td>\n      <td>2023-02-02 13:51:33.719000+00:00</td>\n      <td>0.99</td>\n      <td>0.002068</td>\n      <td>0.266667</td>\n      <td>0.47625</td>\n      <td>...</td>\n      <td>VggCam</td>\n      <td>cam</td>\n      <td>local</td>\n      <td>SGD</td>\n      <td>True</td>\n      <td>vgg16</td>\n      <td>[{\"run_id\": \"316d72602308482ca7c60e49bad2e84d\"...</td>\n      <td>None</td>\n      <td>None</td>\n      <td>None</td>\n    </tr>\n    <tr>\n      <th>2</th>\n      <td>e06bf522e10944f79b6f2a596d132b2f</td>\n      <td>444281214894994099</td>\n      <td>FINISHED</td>\n      <td>file:///Users/goemaereg/github.com/thesis/mlru...</td>\n      <td>2023-01-19 22:22:28.980000+00:00</td>\n      <td>2023-01-19 22:25:10.701000+00:00</td>\n      <td>0.99</td>\n      <td>0.002068</td>\n      <td>0.160833</td>\n      <td>0.30750</td>\n      <td>...</td>\n      <td>VggCam</td>\n      <td>cam</td>\n      <td>local</td>\n      <td>SGD</td>\n      <td>True</td>\n      <td>vgg16</td>\n      <td>[{\"run_id\": \"e06bf522e10944f79b6f2a596d132b2f\"...</td>\n      <td>git@github.com:goemaereg/thesis.git</td>\n      <td>git@github.com:goemaereg/thesis.git</td>\n      <td>0a34ae3aa7ee557ac0f16b28bae58b5f453b34f0</td>\n    </tr>\n    <tr>\n      <th>3</th>\n      <td>5106e27d6d7648048e60261474f7992b</td>\n      <td>444281214894994099</td>\n      <td>FINISHED</td>\n      <td>file:///Users/goemaereg/github.com/thesis/mlru...</td>\n      <td>2023-01-19 20:59:25.608000+00:00</td>\n      <td>2023-01-19 21:01:07.397000+00:00</td>\n      <td>0.99</td>\n      <td>0.002068</td>\n      <td>0.160833</td>\n      <td>0.30750</td>\n      <td>...</td>\n      <td>VggCam</td>\n      <td>cam</td>\n      <td>local</td>\n      <td>SGD</td>\n      <td>True</td>\n      <td>vgg16</td>\n      <td>[{\"run_id\": \"5106e27d6d7648048e60261474f7992b\"...</td>\n      <td>git@github.com:goemaereg/thesis.git</td>\n      <td>git@github.com:goemaereg/thesis.git</td>\n      <td>0a34ae3aa7ee557ac0f16b28bae58b5f453b34f0</td>\n    </tr>\n  </tbody>\n</table>\n<p>4 rows × 57 columns</p>\n</div>"
     },
     "execution_count": 63,
     "metadata": {},
     "output_type": "execute_result"
    }
   ],
   "source": [
    "runs"
   ],
   "metadata": {
    "collapsed": false
   }
  },
  {
   "cell_type": "code",
   "execution_count": 64,
   "outputs": [],
   "source": [
    "cols = ['params.epochs','tags.wsol_method', 'tags.cam_method', 'metrics.test_MaxBoxAccV3', 'metrics.test_PxAP']"
   ],
   "metadata": {
    "collapsed": false
   }
  },
  {
   "cell_type": "code",
   "execution_count": 65,
   "outputs": [
    {
     "data": {
      "text/plain": "{'params.epochs': {0: '10', 1: '10', 2: '10', 3: '10'},\n 'tags.wsol_method': {0: 'minmaxcam', 1: 'cam', 2: 'cam', 3: 'cam'},\n 'tags.cam_method': {0: 'cam', 1: 'scorecam', 2: 'gradcam', 3: 'cam'},\n 'metrics.test_MaxBoxAccV3': {0: 0.16749999999999998,\n  1: 0.26499999999999996,\n  2: 0.15708333333333332,\n  3: 0.15708333333333332},\n 'metrics.test_PxAP': {0: 0.3128760840363067,\n  1: 0.39582912166223805,\n  2: 0.296918513557799,\n  3: 0.29691838737908316}}"
     },
     "execution_count": 65,
     "metadata": {},
     "output_type": "execute_result"
    }
   ],
   "source": [
    "runs.loc[:, cols].to_dict()\n"
   ],
   "metadata": {
    "collapsed": false
   }
  },
  {
   "cell_type": "code",
   "execution_count": null,
   "outputs": [],
   "source": [],
   "metadata": {
    "collapsed": false
   }
  }
 ],
 "metadata": {
  "kernelspec": {
   "display_name": "Python 3",
   "language": "python",
   "name": "python3"
  },
  "language_info": {
   "codemirror_mode": {
    "name": "ipython",
    "version": 2
   },
   "file_extension": ".py",
   "mimetype": "text/x-python",
   "name": "python",
   "nbconvert_exporter": "python",
   "pygments_lexer": "ipython2",
   "version": "2.7.6"
  }
 },
 "nbformat": 4,
 "nbformat_minor": 0
}
