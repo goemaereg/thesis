{
 "cells": [
  {
   "cell_type": "markdown",
   "metadata": {
    "collapsed": false,
    "jupyter": {
     "outputs_hidden": false
    }
   },
   "source": [
    "# Imports and definitions"
   ]
  },
  {
   "cell_type": "code",
   "execution_count": 1,
   "metadata": {
    "ExecuteTime": {
     "end_time": "2023-06-18T17:58:04.284839Z",
     "start_time": "2023-06-18T17:58:04.021072Z"
    }
   },
   "outputs": [],
   "source": [
    "import mlflow\n",
    "import seaborn as sns\n",
    "import sys\n",
    "import pandas as pd\n",
    "import numpy as np\n",
    "\n",
    "sys.path.append(\"../\") # go to parent dir\n",
    "mlflow.tracking.set_tracking_uri('../mlruns')\n",
    "\n",
    "labels_methods = {\n",
    "    'cam': 'CAM', 'gradcam': 'Grad-CAM', 'gradcam++': 'Grad-CAM++', 'scorecam': 'Score-CAM', 'minmaxcam': 'MinMaxCAM'}"
   ]
  },
  {
   "cell_type": "markdown",
   "metadata": {
    "collapsed": false,
    "jupyter": {
     "outputs_hidden": false
    }
   },
   "source": [
    "# Functions"
   ]
  },
  {
   "cell_type": "code",
   "execution_count": 2,
   "metadata": {
    "collapsed": false,
    "jupyter": {
     "outputs_hidden": false
    },
    "ExecuteTime": {
     "end_time": "2023-06-18T17:58:04.289174Z",
     "start_time": "2023-06-18T17:58:04.287362Z"
    }
   },
   "outputs": [],
   "source": [
    "def get_class_labels(split='val'):\n",
    "    \"\"\"\n",
    "    image_ids.txt has the structure\n",
    "\n",
    "    <path>,<integer_class_label>\n",
    "    path/to/image1.jpg,0\n",
    "    path/to/image2.jpg,1\n",
    "    path/to/image3.jpg,1\n",
    "    ...\n",
    "    \"\"\"\n",
    "    class_labels = {}\n",
    "    path = f'/Users/goemaereg/github.com/thesis/data/metadata/ILSVRC/{split}/class_labels.txt'\n",
    "    with open(path) as f:\n",
    "        for line in f.readlines():\n",
    "            image_id, class_label_string = line.strip('\\n').split(',')\n",
    "            class_labels[image_id] = int(class_label_string)\n",
    "    return class_labels\n",
    "\n",
    "def get_label_names():\n",
    "    label_names = {}\n",
    "    with open('/Users/goemaereg/github.com/thesis/other/imagenet1000/imagenet1000_clsidx_to_labels.txt', 'r') as fp:\n",
    "        for line in fp.readlines():\n",
    "            label, name = line[:-1].split(':')\n",
    "            label = label.strip()\n",
    "            name = name.strip()[1:-2]\n",
    "            # remove alternative names\n",
    "            name = name.split(',')[0]\n",
    "            label_names[label] = name\n",
    "    return label_names"
   ]
  },
  {
   "cell_type": "code",
   "execution_count": 3,
   "metadata": {
    "collapsed": false,
    "jupyter": {
     "outputs_hidden": false
    },
    "ExecuteTime": {
     "end_time": "2023-06-18T17:58:04.328647Z",
     "start_time": "2023-06-18T17:58:04.290463Z"
    }
   },
   "outputs": [],
   "source": [
    "class_labels = get_class_labels()\n",
    "label_names = get_label_names()"
   ]
  },
  {
   "cell_type": "code",
   "execution_count": 4,
   "metadata": {
    "collapsed": false,
    "jupyter": {
     "outputs_hidden": false
    },
    "ExecuteTime": {
     "end_time": "2023-06-18T17:58:04.328895Z",
     "start_time": "2023-06-18T17:58:04.317959Z"
    }
   },
   "outputs": [],
   "source": [
    "from mlflow import MlflowClient\n",
    "\n",
    "def mlflow_create_filter(conditions=None):\n",
    "    if conditions is None:\n",
    "        return ''\n",
    "    keys = conditions.keys()\n",
    "    values = [ f'\"{v}\"' if type(v) == str else v for v in conditions.values()]\n",
    "    filter = ' AND '.join([f'{k} = {v}' for k,v in zip(keys, values)])\n",
    "    return filter\n",
    "\n",
    "def mlflow_get_runs(experiment_name, conditions=None):\n",
    "    client = MlflowClient()\n",
    "    exp_ids = [client.get_experiment_by_name(experiment_name).experiment_id]\n",
    "    filter = mlflow_create_filter(conditions)\n",
    "    runs = mlflow.search_runs(experiment_ids=exp_ids, filter_string=filter)\n",
    "    return runs\n",
    "\n",
    "def get_runs(experiment_name, filter=''):\n",
    "    client = MlflowClient()\n",
    "    exp_ids = [client.get_experiment_by_name(experiment_name).experiment_id]\n",
    "    runs = mlflow.search_runs(experiment_ids=exp_ids, filter_string=filter)\n",
    "    return runs\n",
    "\n",
    "def get_best_run(runs, best_metrics):\n",
    "    if runs is None or runs.shape[0] == 0:\n",
    "        return None\n",
    "    for metric in best_metrics:\n",
    "        runs = runs.loc[runs[f'metrics.{metric}'] >= runs[f'metrics.{metric}'].max()]\n",
    "    # pick first in the list\n",
    "    run = runs.loc[runs.index[0]]\n",
    "    return run\n",
    "\n",
    "def epoch_values(x, metric):\n",
    "    run_id = x.run_id\n",
    "    client = MlflowClient()\n",
    "    values = [[m.value for m in client.get_metric_history(id, metric)] for id in run_id]\n",
    "    steps = [list(range(len(v))) for v in values]\n",
    "    return steps, values\n",
    "\n",
    "def epoch_steps(x):\n",
    "    steps, _ = epoch_values(x, 'val_accuracy')\n",
    "    return steps\n",
    "\n",
    "def epoch_val_accuracy(x):\n",
    "    _, values = epoch_values(x, 'val_accuracy')\n",
    "    return values\n",
    "\n",
    "def epoch_maxboxaccv3(x):\n",
    "    _, values = epoch_values(x, 'val_MaxBoxAccV3')\n",
    "    return values"
   ]
  },
  {
   "cell_type": "code",
   "execution_count": 5,
   "metadata": {
    "collapsed": false,
    "jupyter": {
     "outputs_hidden": false
    },
    "ExecuteTime": {
     "end_time": "2023-06-18T17:58:04.329002Z",
     "start_time": "2023-06-18T17:58:04.319857Z"
    }
   },
   "outputs": [],
   "source": [
    "def dataframe_to_latex(runs, split='test', metrics=None, label='', caption=''):\n",
    "    cols_metrics = [f'metrics.{split}_{metric}' for metric in metrics]\n",
    "    cols = ['tags.method', 'tags.architecture', 'tags.architecture_type', 'tags.dataset', 'tags.dataset_spec'] + cols_metrics\n",
    "    cols_renamed = [c.split('.')[-1] for c in cols]\n",
    "    mapper = dict(zip(cols, cols_renamed))\n",
    "    df = runs.loc[:, cols].rename(columns=mapper)\n",
    "    mapper = dict([(f'{split}_{metric}', metric) for metric in metrics])\n",
    "    df = df.loc[:, df.columns].rename(columns=mapper)\n",
    "    # df.loc[:, 'dataset'] = df['dataset'].str.cat(df['dataset_spec'], sep='\\_').str.lower()\n",
    "    # pd.set_option(\"display.precision\", 2)\n",
    "    for metric in metrics:\n",
    "        df[metric] *= 100 # to percentage\n",
    "    df = df.replace({'method': labels_methods})\n",
    "    if dataset == 'SYNTHETIC':\n",
    "        specs = df['dataset_spec'].unique()\n",
    "        cols_pivot = ['dataset_spec']\n",
    "        df = df.pivot(index='method', columns=cols_pivot, values=metrics)\n",
    "        cols = metrics\n",
    "        df = df.loc[:, cols]\n",
    "        df = df.sort_index()\n",
    "        latex_table = df.to_latex(float_format=\"%.2f\", multicolumn=True,\n",
    "                              label=label, caption=caption, position=\"ht\")\n",
    "\n",
    "        cols_format = dict([((m, spec), '{:.2f}') for m in metrics for spec in specs])\n",
    "        s = df.style\n",
    "        s = s.format(cols_format)\n",
    "        # s = s.highlight_max(subset=metrics, axis=0, props='bfseries: ;')\n",
    "        s = s.highlight_max(subset=metrics, axis=0, props='color:{teal}; bfseries: ;')\n",
    "        s = s.highlight_min(subset=metrics, axis=0, props='color:{purple}; bfseries: ;')\n",
    "\n",
    "        latex_table2 = s.to_latex(\n",
    "                column_format=\"lrrrrrrrr\", position=\"ht\", position_float=\"centering\",\n",
    "                hrules=False, label=label, caption=caption,\n",
    "                multirow_align=\"t\", multicol_align=\"c\")\n",
    "    else:\n",
    "        cols = ['method'] + metrics\n",
    "        df = df.loc[:, cols]\n",
    "        # remove minmaxcam from dataset for Imagenet VGG16-GAP (could not be trained enough)\n",
    "        if 'tags.architecture' in conditions and conditions['tags.architecture'] == 'vgg16':\n",
    "            if 'tags.architecture_type' in conditions and conditions['tags.architecture_type'] == 'cam':\n",
    "                df = df.loc[df['method'] != 'MinMaxCAM']\n",
    "        df = df.sort_values('method')\n",
    "        latex_table = df.to_latex(float_format=\"%.2f\", multicolumn=True,\n",
    "                      label=label, caption=caption, position=\"ht\", index=False)\n",
    "\n",
    "        cols_format = dict([(m, '{:.2f}') for m in metrics])\n",
    "        s = df.set_index('method').style\n",
    "        s = s.format(cols_format)\n",
    "        s = s.highlight_max(subset=metrics, axis=0, props='color:{teal}; bfseries: ;')\n",
    "        s = s.highlight_min(subset=metrics, axis=0, props='color:{purple}; bfseries: ;')\n",
    "\n",
    "        latex_table2 = s.to_latex(\n",
    "                column_format=\"lrrr\", position=\"ht\", position_float=\"centering\",\n",
    "                hrules=False, label=label, caption=caption,\n",
    "                multirow_align=\"t\", multicol_align=\"c\")\n",
    "    print(latex_table)\n",
    "    print(latex_table2)\n",
    "\n",
    "def mlflow_runs_to_latex(experiment_name, conditions=None, split='test', metrics=None, label='', caption=''):\n",
    "    if conditions is not None and 'tags.dataset' in conditions and conditions['tags.dataset'] == 'SYNTHETIC':\n",
    "        dataset = 'SYNTHETIC'\n",
    "    else:\n",
    "        dataset = 'ILSVRC'\n",
    "    if metrics is None:\n",
    "        metrics = ['MaxBoxAcc', 'MaxBoxAccV2', 'MaxBoxAccV3_precision', 'MaxBoxAccV3_recall']\n",
    "        if dataset == 'SYNTHETIC':\n",
    "            metrics.append('PxAP')\n",
    "    runs = mlflow_get_runs(experiment_name, conditions=conditions)\n",
    "    if experiment_name == 'mwsol_resnet50_imagenet':\n",
    "        runs = runs.loc[runs.start_time > '2023-05-01']\n",
    "    dataframe_to_latex(runs, split=split, metrics=metrics, label=label, caption=caption)"
   ]
  },
  {
   "cell_type": "code",
   "execution_count": 6,
   "metadata": {
    "collapsed": false,
    "jupyter": {
     "outputs_hidden": false
    },
    "ExecuteTime": {
     "end_time": "2023-06-18T17:58:04.335936Z",
     "start_time": "2023-06-18T17:58:04.327981Z"
    }
   },
   "outputs": [],
   "source": [
    "import matplotlib.pyplot as plt\n",
    "import os, json\n",
    "import numpy as np\n",
    "\n",
    "def get_mlflow_boxacc_prcurve(experiment_name = 'wsol2', conditions=None, split='test', box_metric='MaxBoxAccV3', mask_metric=None):\n",
    "    boxacc = {}\n",
    "    prcurve = {}\n",
    "    iou_thresholds = [30, 50, 70]\n",
    "    runs = mlflow_get_runs(experiment_name, conditions)\n",
    "    for row in runs.itertuples(index=False):\n",
    "        artifact_uri = row.artifact_uri\n",
    "        artifact_path = artifact_uri[len('file://'):]\n",
    "        config_path = os.path.join(artifact_path, 'state/config.json')\n",
    "        with open(config_path) as fp:\n",
    "            _config = json.load(fp)\n",
    "        boxacc[_config['wsol_method']] = {}\n",
    "        for iou_threshold in iou_thresholds:\n",
    "            boxacc_path = os.path.join(artifact_path, f'data/{split}/{box_metric}_box_acc_iou_{iou_threshold}.json')\n",
    "            with open(boxacc_path) as fp:\n",
    "                _boxacc = json.load(fp)\n",
    "                values = {k: _boxacc[k] for k in ['cam_threshold', 'box_accuracy']}\n",
    "                boxacc[_config['wsol_method']][iou_threshold] = values\n",
    "        if mask_metric is not None:\n",
    "            prcurve_path = os.path.join(artifact_path, f'data/{split}/pr_curve.json')\n",
    "            with open(prcurve_path) as fp:\n",
    "                # _prcurve = json.load(fp)\n",
    "                # values = {k: _prcurve[k] for k in ['precision', 'recall']}\n",
    "                prcurve[_config['wsol_method']] = json.load(fp)\n",
    "        else:\n",
    "            prcurve = None\n",
    "    return boxacc, prcurve\n",
    "\n",
    "def plot_boxacc(boxacc, title, iou_thresholds=None):\n",
    "    # plot lines\n",
    "    if iou_thresholds is None:\n",
    "        iou_thresholds = [30, 50, 70]\n",
    "    for method, iou_values in boxacc.items():\n",
    "        for iou_threshold, values in iou_values.items():\n",
    "            if iou_threshold not in iou_thresholds:\n",
    "                continue\n",
    "            x = np.asarray(values['cam_threshold'])\n",
    "            y = np.asarray(values['box_accuracy'])\n",
    "            y *= 100 # convert to percentage\n",
    "            xmax = x[np.argmax(y)]\n",
    "            ymax = y.max()\n",
    "            text = f\"({xmax:.2f}, {ymax:.2f})\"\n",
    "            lb_method = labels_methods[method]\n",
    "            label = lb_method if len(iou_thresholds) == 1 else f'{lb_method} {iou_threshold}'\n",
    "            label = f'{label} {text}'\n",
    "            plt.plot(x, y, label=label)\n",
    "            plt.plot(xmax, ymax, 'ro')\n",
    "            # plt.text(xmax + 0.01, ymax + 0.01, text)\n",
    "    plt.xlabel(\"Score map threshold\")\n",
    "    plt.ylabel(\"BoxAcc\")\n",
    "    plt.xlim((-0.05, 1.05))\n",
    "    plt.ylim((-5, 105))\n",
    "    plt.title(title)\n",
    "    plt.legend()\n",
    "    plt.show()\n",
    "\n",
    "def plot_prcurve(curve, title):\n",
    "    # plot lines\n",
    "    for method, values in curve.items():\n",
    "        label = f\"{method} (auc {values['auc']:.2f})\"\n",
    "        plt.plot(values['recall'], values['precision'], label=label)\n",
    "    plt.xlabel(\"Recall\")\n",
    "    plt.ylabel(\"Precision\")\n",
    "    plt.xlim((-0.05, 1.05))\n",
    "    plt.ylim((-0.05, 1.05))\n",
    "    plt.title(title)\n",
    "    plt.legend()\n",
    "    plt.show()"
   ]
  },
  {
   "cell_type": "markdown",
   "metadata": {
    "collapsed": false,
    "jupyter": {
     "outputs_hidden": false
    }
   },
   "source": [
    "# Localization synthetic datasets"
   ]
  },
  {
   "cell_type": "markdown",
   "metadata": {
    "collapsed": false,
    "jupyter": {
     "outputs_hidden": false
    }
   },
   "source": [
    "## VGG16-GAP"
   ]
  },
  {
   "cell_type": "markdown",
   "metadata": {
    "collapsed": false,
    "jupyter": {
     "outputs_hidden": false
    }
   },
   "source": [
    "### Classification versus localization"
   ]
  },
  {
   "cell_type": "code",
   "execution_count": null,
   "metadata": {
    "collapsed": false,
    "jupyter": {
     "outputs_hidden": false
    }
   },
   "outputs": [],
   "source": [
    "metric = 'MaxBoxAccV3'\n",
    "metric_name = metric if metric is not None else 'Metrics'\n",
    "arch = 'vgg16'\n",
    "arch_type = 'cam'\n",
    "network = 'VGG16-GAP'\n",
    "dataset = 'SYNTHETIC'\n",
    "dataset_name = 'ImageNet' if dataset == 'ILSVRC' else 'synthetic'\n",
    "experiment_name = f'mwsol3_{arch}_{dataset_name.lower()}'\n",
    "split = 'val' if dataset == 'ILSVRC' else 'test'\n",
    "conditions = {\n",
    "    'tags.dataset': dataset,\n",
    "    'tags.architecture': arch,\n",
    "    'tags.architecture_type': arch_type,\n",
    "    'tags.method': 'cam',\n",
    "    'tags.train': 'True',\n",
    "    'status': 'FINISHED'\n",
    "}\n",
    "\n",
    "df = mlflow_get_runs(experiment_name, conditions)\n",
    "\n",
    "cols_mlflow = ['run_id', 'tags.method', 'tags.dataset_spec', 'metrics.val_accuracy', 'metrics.val_MaxBoxAccV3', 'start_time']\n",
    "cols_renamed = ['run_id', 'method', 'dataset', 'accuracy', 'MaxBoxAccV3', 'start_time']\n",
    "mapper = dict(zip(cols_mlflow, cols_renamed))\n",
    "df = df.loc[:, cols_mlflow].rename(columns=mapper)\n",
    "df = df.drop(columns='start_time')\n",
    "df = df.assign(epochs=epoch_steps, accuracy=epoch_val_accuracy, MaxBoxAccV3=epoch_maxboxaccv3)\n",
    "df = df.explode(column=['epochs', 'accuracy', 'MaxBoxAccV3'])\n",
    "df = df.drop(columns='run_id').set_index(['method','dataset','epochs']).stack().reset_index()\n",
    "df.columns = ['method','dataset','epochs','metric','values']\n",
    "\n",
    "data = df.sort_values('dataset')\n",
    "\n",
    "sns.set_style(\"darkgrid\")\n",
    "hue_order = ['accuracy','MaxBoxAccV3']\n",
    "g = sns.FacetGrid(data, col=\"dataset\", hue=\"metric\", hue_order=hue_order, col_wrap=4, sharex=True, sharey=True)\n",
    "g.map_dataframe(sns.lineplot, x=\"epochs\", y=\"values\")\n",
    "g.add_legend()\n",
    "sns.move_legend(g, loc='lower center', bbox_to_anchor=(0.5, -0.1), ncol=2, labelspacing=1.0)\n",
    "g.savefig(f'fig_loc_vs_acc_vgg16_gap_minmaxcam_synthetic.png')"
   ]
  },
  {
   "cell_type": "code",
   "execution_count": null,
   "metadata": {
    "collapsed": false,
    "jupyter": {
     "outputs_hidden": false
    }
   },
   "outputs": [],
   "source": [
    "metric = 'MaxBoxAccV3'\n",
    "metric_name = metric if metric is not None else 'Metrics'\n",
    "arch = 'vgg16'\n",
    "arch_type = 'cam'\n",
    "network = 'VGG16-GAP'\n",
    "dataset = 'SYNTHETIC'\n",
    "dataset_name = 'ImageNet' if dataset == 'ILSVRC' else 'synthetic'\n",
    "experiment_name = f'mwsol3_{arch}_{dataset_name.lower()}'\n",
    "split = 'val' if dataset == 'ILSVRC' else 'test'\n",
    "conditions = {\n",
    "    'tags.dataset': dataset,\n",
    "    'tags.architecture': arch,\n",
    "    'tags.architecture_type': arch_type,\n",
    "    'tags.method': 'minmaxcam',\n",
    "    'tags.train': 'True',\n",
    "    'status': 'FINISHED'\n",
    "}\n",
    "\n",
    "df = mlflow_get_runs(experiment_name, conditions)\n",
    "\n",
    "cols_mlflow = ['run_id', 'tags.method', 'tags.dataset_spec', 'metrics.val_accuracy', 'metrics.val_MaxBoxAccV3', 'start_time']\n",
    "cols_renamed = ['run_id', 'method', 'dataset', 'accuracy', 'MaxBoxAccV3', 'start_time']\n",
    "mapper = dict(zip(cols_mlflow, cols_renamed))\n",
    "df = df.loc[:, cols_mlflow].rename(columns=mapper)\n",
    "df = df.drop(columns='start_time')\n",
    "df = df.assign(epochs=epoch_steps, accuracy=epoch_val_accuracy, MaxBoxAccV3=epoch_maxboxaccv3)\n",
    "df = df.explode(column=['epochs', 'accuracy', 'MaxBoxAccV3'])\n",
    "df = df.drop(columns='run_id').set_index(['method','dataset','epochs']).stack().reset_index()\n",
    "df.columns = ['method','dataset','epochs','metric','values']\n",
    "\n",
    "data = df.sort_values('dataset')\n",
    "\n",
    "sns.set_style(\"darkgrid\")\n",
    "hue_order = ['accuracy','MaxBoxAccV3']\n",
    "g = sns.FacetGrid(data, col=\"dataset\", hue=\"metric\", hue_order=hue_order, col_wrap=4, sharex=True, sharey=True)\n",
    "g.map_dataframe(sns.lineplot, x=\"epochs\", y=\"values\")\n",
    "g.add_legend()\n",
    "sns.move_legend(g, loc='lower center', bbox_to_anchor=(0.5, -0.1), ncol=2, labelspacing=1.0)\n",
    "g.savefig(f'fig_loc_vs_acc_vgg16_gap_minmaxcam_synthetic.png')"
   ]
  },
  {
   "cell_type": "markdown",
   "metadata": {
    "collapsed": false,
    "jupyter": {
     "outputs_hidden": false
    }
   },
   "source": [
    "### MaxBoxAccV3 recall"
   ]
  },
  {
   "cell_type": "markdown",
   "metadata": {
    "collapsed": false,
    "jupyter": {
     "outputs_hidden": false,
     "source_hidden": true
    }
   },
   "source": [
    "#### non-regularized"
   ]
  },
  {
   "cell_type": "code",
   "execution_count": null,
   "metadata": {
    "collapsed": false,
    "jupyter": {
     "outputs_hidden": false
    },
    "scrolled": true
   },
   "outputs": [],
   "source": [
    "metric = 'MaxBoxAccV3_recall'\n",
    "metric_name = metric if metric is not None else 'Metrics'\n",
    "arch = 'vgg16'\n",
    "arch_type = 'cam'\n",
    "network = 'VGG16-GAP'\n",
    "dataset = 'SYNTHETIC'\n",
    "dataset_name = 'ImageNet' if dataset == 'ILSVRC' else 'synthetic'\n",
    "experiment_name = f'mwsol3_{arch}_{dataset_name.lower()}'\n",
    "split = 'val' if dataset == 'ILSVRC' else 'test'\n",
    "caption=f'{metric_name} for {network} on {dataset_name}'\n",
    "label=f'tb:{metric_name}_{arch}_{dataset_name}'.lower()\n",
    "conditions = {\n",
    "    'tags.dataset': dataset,\n",
    "    'tags.architecture': arch,\n",
    "    'tags.architecture_type': arch_type,\n",
    "    'tags.label': 'gap',\n",
    "    'status': 'FINISHED'\n",
    "}\n",
    "runs = mlflow_get_runs(experiment_name, conditions)\n",
    "dataframe_to_latex(runs=runs, split=split, metrics=[metric], caption=caption, label=label)"
   ]
  },
  {
   "cell_type": "markdown",
   "metadata": {
    "collapsed": false,
    "jupyter": {
     "outputs_hidden": false
    }
   },
   "source": [
    "#### MinMaxCAM-regularized"
   ]
  },
  {
   "cell_type": "code",
   "execution_count": null,
   "metadata": {
    "collapsed": false,
    "jupyter": {
     "outputs_hidden": false
    }
   },
   "outputs": [],
   "source": [
    "metric = 'MaxBoxAccV3_recall'\n",
    "metric_name = metric if metric is not None else 'Metrics'\n",
    "arch = 'vgg16'\n",
    "arch_type = 'cam'\n",
    "network = 'VGG16-GAP'\n",
    "dataset = 'SYNTHETIC'\n",
    "dataset_name = 'ImageNet' if dataset == 'ILSVRC' else 'synthetic'\n",
    "experiment_name = f'mwsol3_{arch}_{dataset_name.lower()}'\n",
    "split = 'val' if dataset == 'ILSVRC' else 'test'\n",
    "caption=f'{metric_name} for {network} on {dataset_name}'\n",
    "label=f'tb:{metric_name}_{arch}_{dataset_name}'.lower()\n",
    "conditions = {\n",
    "    'tags.dataset': dataset,\n",
    "    'tags.architecture': arch,\n",
    "    'tags.architecture_type': arch_type,\n",
    "    'tags.label': 'minmaxcam',\n",
    "    'status': 'FINISHED'\n",
    "}\n",
    "runs = mlflow_get_runs(experiment_name, conditions)\n",
    "dataframe_to_latex(runs=runs, split=split, metrics=[metric], caption=caption, label=label)"
   ]
  },
  {
   "cell_type": "markdown",
   "metadata": {
    "collapsed": false,
    "jupyter": {
     "outputs_hidden": false
    }
   },
   "source": [
    "### MaxBoxAccV3 precision"
   ]
  },
  {
   "cell_type": "markdown",
   "metadata": {
    "collapsed": false,
    "jupyter": {
     "outputs_hidden": false
    }
   },
   "source": [
    "#### non-regularized"
   ]
  },
  {
   "cell_type": "code",
   "execution_count": null,
   "metadata": {
    "collapsed": false,
    "jupyter": {
     "outputs_hidden": false
    },
    "scrolled": true
   },
   "outputs": [],
   "source": [
    "metric = 'MaxBoxAccV3_precision'\n",
    "metric_name = metric if metric is not None else 'Metrics'\n",
    "arch = 'vgg16'\n",
    "arch_type = 'cam'\n",
    "network = 'VGG16-GAP'\n",
    "dataset = 'SYNTHETIC'\n",
    "dataset_name = 'ImageNet' if dataset == 'ILSVRC' else 'synthetic'\n",
    "experiment_name = f'mwsol3_{arch}_{dataset_name.lower()}'\n",
    "split = 'val' if dataset == 'ILSVRC' else 'test'\n",
    "caption=f'{metric_name} for {network} on {dataset_name}'\n",
    "label=f'tb:{metric_name}_{arch}_{dataset_name}'.lower()\n",
    "conditions = {\n",
    "    'tags.dataset': dataset,\n",
    "    'tags.architecture': arch,\n",
    "    'tags.architecture_type': arch_type,\n",
    "    'tags.label': 'gap',\n",
    "    'status': 'FINISHED'\n",
    "}\n",
    "mlflow_runs_to_latex(experiment_name, conditions=conditions, split=split, metrics=[metric], caption=caption, label=label)"
   ]
  },
  {
   "cell_type": "markdown",
   "metadata": {
    "collapsed": false,
    "jupyter": {
     "outputs_hidden": false
    }
   },
   "source": [
    "#### MinMaxCAM-regularized"
   ]
  },
  {
   "cell_type": "code",
   "execution_count": null,
   "metadata": {
    "collapsed": false,
    "jupyter": {
     "outputs_hidden": false
    }
   },
   "outputs": [],
   "source": [
    "metric = 'MaxBoxAccV3_precision'\n",
    "metric_name = metric if metric is not None else 'Metrics'\n",
    "arch = 'vgg16'\n",
    "arch_type = 'cam'\n",
    "network = 'VGG16-GAP'\n",
    "dataset = 'SYNTHETIC'\n",
    "dataset_name = 'ImageNet' if dataset == 'ILSVRC' else 'synthetic'\n",
    "experiment_name = f'mwsol3_{arch}_{dataset_name.lower()}'\n",
    "split = 'val' if dataset == 'ILSVRC' else 'test'\n",
    "caption=f'{metric_name} for {network} on {dataset_name}'\n",
    "label=f'tb:{metric_name}_{arch}_{dataset_name}'.lower()\n",
    "conditions = {\n",
    "    'tags.dataset': dataset,\n",
    "    'tags.architecture': arch,\n",
    "    'tags.architecture_type': arch_type,\n",
    "    'tags.label': 'minmaxcam',\n",
    "    'status': 'FINISHED'\n",
    "}\n",
    "mlflow_runs_to_latex(experiment_name, conditions=conditions, split=split, metrics=[metric], caption=caption, label=label)"
   ]
  },
  {
   "cell_type": "markdown",
   "metadata": {
    "collapsed": false,
    "jupyter": {
     "outputs_hidden": false
    }
   },
   "source": [
    "### PxAP"
   ]
  },
  {
   "cell_type": "markdown",
   "metadata": {
    "collapsed": false,
    "jupyter": {
     "outputs_hidden": false
    }
   },
   "source": [
    "#### non-regularized"
   ]
  },
  {
   "cell_type": "code",
   "execution_count": null,
   "metadata": {
    "collapsed": false,
    "jupyter": {
     "outputs_hidden": false
    }
   },
   "outputs": [],
   "source": [
    "metric = 'PxAP'\n",
    "metric_name = metric if metric is not None else 'Metrics'\n",
    "arch = 'vgg16'\n",
    "arch_type = 'cam'\n",
    "network = 'VGG16-GAP'\n",
    "dataset = 'SYNTHETIC'\n",
    "dataset_name = 'ImageNet' if dataset == 'ILSVRC' else 'synthetic'\n",
    "experiment_name = f'mwsol3_{arch}_{dataset_name.lower()}'\n",
    "split = 'val' if dataset == 'ILSVRC' else 'test'\n",
    "caption=f'{metric_name} for {network} on {dataset_name}'\n",
    "label=f'tb:{metric_name}_{arch}_{dataset_name}'.lower()\n",
    "conditions = {\n",
    "    'tags.dataset': dataset,\n",
    "    'tags.architecture': arch,\n",
    "    'tags.architecture_type': arch_type,\n",
    "    'tags.label': 'gap',\n",
    "    'status': 'FINISHED'\n",
    "}\n",
    "# conditions |= {\n",
    "#     'tags.dataset_spec': 'd4b'\n",
    "# }\n",
    "mlflow_runs_to_latex(experiment_name, conditions=conditions, split=split, metrics=[metric], caption=caption, label=label)"
   ]
  },
  {
   "cell_type": "markdown",
   "metadata": {
    "collapsed": false,
    "jupyter": {
     "outputs_hidden": false
    }
   },
   "source": [
    "#### MinMaxCAM-regularized"
   ]
  },
  {
   "cell_type": "code",
   "execution_count": null,
   "metadata": {
    "collapsed": false,
    "jupyter": {
     "outputs_hidden": false
    }
   },
   "outputs": [],
   "source": [
    "metric = 'PxAP'\n",
    "metric_name = metric if metric is not None else 'Metrics'\n",
    "arch = 'vgg16'\n",
    "arch_type = 'cam'\n",
    "network = 'VGG16-GAP'\n",
    "dataset = 'SYNTHETIC'\n",
    "dataset_name = 'ImageNet' if dataset == 'ILSVRC' else 'synthetic'\n",
    "experiment_name = f'mwsol3_{arch}_{dataset_name.lower()}'\n",
    "split = 'val' if dataset == 'ILSVRC' else 'test'\n",
    "caption=f'{metric_name} for {network} on {dataset_name}'\n",
    "label=f'tb:{metric_name}_{arch}_{dataset_name}'.lower()\n",
    "conditions = {\n",
    "    'tags.dataset': dataset,\n",
    "    'tags.architecture': arch,\n",
    "    'tags.architecture_type': arch_type,\n",
    "    'tags.label': 'minmaxcam',\n",
    "    'status': 'FINISHED'\n",
    "}\n",
    "# conditions |= {\n",
    "#     'tags.dataset_spec': 'd4b'\n",
    "# }\n",
    "mlflow_runs_to_latex(experiment_name, conditions=conditions, split=split, metrics=[metric], caption=caption, label=label)"
   ]
  },
  {
   "cell_type": "markdown",
   "metadata": {
    "collapsed": false,
    "jupyter": {
     "outputs_hidden": false
    }
   },
   "source": [
    "### Visual explanation examples"
   ]
  },
  {
   "cell_type": "code",
   "execution_count": null,
   "metadata": {
    "collapsed": false,
    "jupyter": {
     "outputs_hidden": false
    }
   },
   "outputs": [],
   "source": [
    "from torchvision.io.image import read_image\n",
    "from torchvision.transforms.functional import to_pil_image\n",
    "\n",
    "split = 'test'\n",
    "image_id = 10\n",
    "iter = 0\n",
    "arch = 'vgg16'\n",
    "arch_type = 'cam'\n",
    "network = 'VGG16'\n",
    "dataset = 'SYNTHETIC'\n",
    "dataset_name = 'ImageNet' if dataset == 'ILSVRC' else 'synthetic'\n",
    "experiment_name = f'mwsol2_{arch}_{dataset_name.lower()}'\n",
    "split = 'val' if dataset == 'ILSVRC' else 'test'\n",
    "conditions = {\n",
    "    'tags.dataset': dataset,\n",
    "    'tags.architecture': arch,\n",
    "    'tags.architecture_type': arch_type,\n",
    "    'tags.label': 'minmaxcam',\n",
    "    'status': 'FINISHED'\n",
    "}\n",
    "df = mlflow_get_runs(experiment_name, conditions)\n",
    "df.loc[:, 'artifact_uri'] = df['artifact_uri'].str.removeprefix('file://')\n",
    "\n",
    "speclist = sorted(df['tags.dataset_spec'].unique())\n",
    "for spec in speclist:\n",
    "    df_spec = df.loc[df['tags.dataset_spec'] == spec]\n",
    "    df_spec = df_spec.loc[:, ['tags.method', 'tags.dataset_spec', 'artifact_uri']]\n",
    "    df_spec = df_spec.sort_values('tags.method')\n",
    "    spec_dict = df_spec.set_index('tags.method').to_dict()\n",
    "    uris = spec_dict['artifact_uri']\n",
    "    spec = '_'.join(list(spec))\n",
    "    filebase = f'SYNTHETIC_{spec}_test_{image_id}'\n",
    "    file_img = filebase + f'_img_{iter}.png'\n",
    "    file_ann = filebase + f'_ann_{iter}.png'\n",
    "    file_cam = filebase + f'_cam_{iter}.png'\n",
    "    file_seg = filebase + f'_seg_{iter}.png'\n",
    "    path_img_orig = os.path.join(f'/Users/goemaereg/github.com/thesis/data/dataset/SYNTHETIC/{spec}/{split}/SYNTHETIC_{spec}_{split}_{image_id}.png')\n",
    "    _, axes = plt.subplots(1, len(uris) + 1, figsize=(16, 8))\n",
    "    img = read_image(path=path_img_orig)\n",
    "    axes[0].imshow(to_pil_image(img))\n",
    "    axes[0].axis('off')\n",
    "    axes[0].set_title('image')\n",
    "    for i, (method, uri) in enumerate(uris.items()):\n",
    "        path_img = os.path.join(uri, 'xai', split, file_ann)\n",
    "        img = read_image(path=path_img)\n",
    "        axes[i+1].imshow(to_pil_image(img))\n",
    "        axes[i+1].axis('off')\n",
    "        axes[i+1].set_title(labels_methods[method])\n",
    "    plt.show()"
   ]
  },
  {
   "cell_type": "markdown",
   "metadata": {
    "collapsed": false,
    "jupyter": {
     "outputs_hidden": false
    }
   },
   "source": [
    "### Localization performance at varying CAM thresholds"
   ]
  },
  {
   "cell_type": "code",
   "execution_count": null,
   "metadata": {
    "collapsed": false,
    "jupyter": {
     "outputs_hidden": false
    }
   },
   "outputs": [],
   "source": [
    "experiment_name = 'mwsol3_vgg16_synthetic'\n",
    "conditions = {\n",
    "    'tags.dataset': 'SYNTHETIC',\n",
    "    'tags.architecture': 'vgg16',\n",
    "    'tags.architecture_type': 'cam',\n",
    "    'tags.dataset_spec': 'd1b',\n",
    "    'tags.label': 'gap',\n",
    "    'status': 'FINISHED'\n",
    "}\n",
    "boxacc, prcurve = get_mlflow_boxacc_prcurve(\n",
    "    experiment_name=experiment_name, conditions=conditions, split='val', box_metric='MaxBoxAccV3', mask_metric=True)\n",
    "# BoxAcc\n",
    "title = f\"VGG16-GAP synthetic BoxAcc\"\n",
    "plot_boxacc(boxacc, title=title, iou_thresholds=[50])\n",
    "if prcurve is not None:\n",
    "    # PR Curve\n",
    "    title = f\"VGG16-GAP synthetic PR Curve\"\n",
    "    plot_prcurve(prcurve, title)"
   ]
  },
  {
   "cell_type": "markdown",
   "metadata": {
    "collapsed": false,
    "jupyter": {
     "outputs_hidden": false
    }
   },
   "source": [
    "## VGG16 vanilla"
   ]
  },
  {
   "cell_type": "markdown",
   "metadata": {
    "collapsed": false,
    "jupyter": {
     "outputs_hidden": false
    }
   },
   "source": [
    "### Classification versus localization"
   ]
  },
  {
   "cell_type": "code",
   "execution_count": null,
   "metadata": {
    "collapsed": false,
    "jupyter": {
     "outputs_hidden": false
    }
   },
   "outputs": [],
   "source": [
    "metric = 'MaxBoxAccV3'\n",
    "metric_name = metric if metric is not None else 'Metrics'\n",
    "arch = 'vgg16'\n",
    "arch_type = 'vanilla'\n",
    "network = 'VGG16'\n",
    "dataset = 'SYNTHETIC'\n",
    "dataset_name = 'ImageNet' if dataset == 'ILSVRC' else 'synthetic'\n",
    "experiment_name = f'mwsol3_{arch}_{dataset_name.lower()}'\n",
    "split = 'val' if dataset == 'ILSVRC' else 'test'\n",
    "conditions = {\n",
    "    'tags.dataset': dataset,\n",
    "    'tags.architecture': arch,\n",
    "    'tags.architecture_type': arch_type,\n",
    "    'tags.method': 'gradcam',\n",
    "    'tags.train': 'True',\n",
    "    'status': 'FINISHED'\n",
    "}\n",
    "\n",
    "df = mlflow_get_runs(experiment_name, conditions)\n",
    "\n",
    "cols_mlflow = ['run_id', 'tags.method', 'tags.dataset_spec', 'metrics.val_accuracy', 'metrics.val_MaxBoxAccV3', 'start_time']\n",
    "cols_renamed = ['run_id', 'method', 'dataset', 'accuracy', 'MaxBoxAccV3', 'start_time']\n",
    "mapper = dict(zip(cols_mlflow, cols_renamed))\n",
    "df = df.loc[:, cols_mlflow].rename(columns=mapper)\n",
    "df = df.drop(columns='start_time')\n",
    "df = df.assign(epochs=epoch_steps, accuracy=epoch_val_accuracy, MaxBoxAccV3=epoch_maxboxaccv3)\n",
    "df = df.explode(column=['epochs', 'accuracy', 'MaxBoxAccV3'])\n",
    "df = df.drop(columns='run_id').set_index(['method','dataset','epochs']).stack().reset_index()\n",
    "df.columns = ['method','dataset','epochs','metric','values']\n",
    "\n",
    "data = df.sort_values('dataset')\n",
    "\n",
    "sns.set_style(\"darkgrid\")\n",
    "hue_order = ['accuracy','MaxBoxAccV3']\n",
    "g = sns.FacetGrid(data, col=\"dataset\", hue=\"metric\", hue_order=hue_order, col_wrap=4, sharex=True, sharey=True)\n",
    "g.map_dataframe(sns.lineplot, x=\"epochs\", y=\"values\")\n",
    "g.add_legend()\n",
    "sns.move_legend(g, loc='lower center', bbox_to_anchor=(0.5, -0.1), ncol=2, labelspacing=1.0)\n",
    "g.savefig(f'fig_loc_vs_acc_vgg16_base_cam_synthetic.png')"
   ]
  },
  {
   "cell_type": "markdown",
   "metadata": {
    "collapsed": false,
    "jupyter": {
     "outputs_hidden": false
    }
   },
   "source": [
    "### MaxBoxAccV3 recall"
   ]
  },
  {
   "cell_type": "code",
   "execution_count": null,
   "metadata": {
    "collapsed": false,
    "jupyter": {
     "outputs_hidden": false
    }
   },
   "outputs": [],
   "source": [
    "metric = 'MaxBoxAccV3_recall'\n",
    "metric_name = metric if metric is not None else 'Metrics'\n",
    "arch = 'vgg16'\n",
    "arch_type = 'vanilla'\n",
    "network = 'VGG16'\n",
    "dataset = 'SYNTHETIC'\n",
    "dataset_name = 'ImageNet' if dataset == 'ILSVRC' else 'synthetic'\n",
    "experiment_name = f'mwsol3_{arch}_{dataset_name.lower()}'\n",
    "split = 'val' if dataset == 'ILSVRC' else 'test'\n",
    "caption=f'{metric_name} for {network} on {dataset_name}'\n",
    "label=f'tb:{metric_name}_{arch}_{dataset_name}'.lower()\n",
    "conditions = {\n",
    "    'tags.dataset': dataset,\n",
    "    'tags.architecture': arch,\n",
    "    'tags.architecture_type': arch_type,\n",
    "    'tags.label': 'base',\n",
    "    'status': 'FINISHED'\n",
    "}\n",
    "mlflow_runs_to_latex(experiment_name, conditions=conditions, split=split, metrics=[metric], caption=caption, label=label)"
   ]
  },
  {
   "cell_type": "code",
   "execution_count": null,
   "outputs": [],
   "source": [
    "df = mlflow_get_runs(experiment_name, conditions)\n",
    "df = df.loc[:, ['tags.method','tags.dataset_spec', 'metrics.test_MaxBoxAccV3_precision', 'metrics.test_MaxBoxAccV3_recall', 'metrics.test_PxAP']]\n",
    "df.columns = ['method', 'dataset', 'precision', 'recall', 'pxap']\n",
    "df = df.replace({'method': labels_methods})\n",
    "df = df.sort_values(['dataset','method'])\n",
    "df = df.set_index(['method', 'dataset']).unstack(1)\n",
    "for metric in ['precision', 'recall', 'pxap']:\n",
    "    print(df.loc[:, [metric]].to_string())"
   ],
   "metadata": {
    "collapsed": false
   }
  },
  {
   "cell_type": "code",
   "execution_count": null,
   "outputs": [],
   "source": [
    "df = mlflow_get_runs(f'mwsol4_{arch}_{dataset_name.lower()}', conditions)\n",
    "df = df.loc[:, ['tags.method','tags.dataset_spec', 'metrics.test_MaxBoxAccV3_recall', 'metrics.test_cam_energy_mean', 'metrics.test_cam_energy_std', 'metrics.test_cam_pixels_mean', 'metrics.test_cam_pixels_std']]\n",
    "df.columns = ['method', 'dataset', 'recall', 'energy_mean', 'energy_std', 'pixels_mean', 'pixels_std']\n",
    "df = df.replace({'method': labels_methods})\n",
    "df = df.sort_values(['dataset','method'])\n",
    "for dataset in sorted(df.loc[:, 'dataset'].unique()):\n",
    "    print(df.loc[df['dataset'] == dataset].set_index(['method', 'dataset']).unstack(1).to_string())"
   ],
   "metadata": {
    "collapsed": false
   }
  },
  {
   "cell_type": "code",
   "execution_count": null,
   "outputs": [],
   "source": [
    "df2 = df.loc[:, ['dataset', 'method', 'energy_mean', 'pixels_mean']]\n",
    "df2.columns = ['dataset','method','energy','pixels']\n",
    "df2 = df2.set_index(['dataset','method']).stack().reset_index()\n",
    "df2.columns = ['dataset','method','data','value']\n",
    "sns.set_style(\"darkgrid\")\n",
    "hue_order = ['gradcam','gradcam++','scorecam']\n",
    "# g = sns.FacetGrid(df2, col=\"data\", hue=\"method\", hue_order=hue_order, sharex=True, sharey=False)\n",
    "# g.map_dataframe(sns.barplot, x=\"dataset\", y=\"value\")\n",
    "# g.add_legend()\n",
    "sns_fig = sns.catplot(data=df2, x=\"dataset\", y=\"value\", hue=\"method\", col=\"data\", kind=\"bar\", sharey=False)\n",
    "sns_fig.savefig(f'fig_vgg16_base_pixel_energy.png')"
   ],
   "metadata": {
    "collapsed": false
   }
  },
  {
   "cell_type": "markdown",
   "metadata": {
    "collapsed": false,
    "jupyter": {
     "outputs_hidden": false
    }
   },
   "source": [
    "### MaxBoxAccV3 precision"
   ]
  },
  {
   "cell_type": "code",
   "execution_count": null,
   "metadata": {
    "collapsed": false,
    "jupyter": {
     "outputs_hidden": false
    }
   },
   "outputs": [],
   "source": [
    "metric = 'MaxBoxAccV3_precision'\n",
    "metric_name = metric if metric is not None else 'Metrics'\n",
    "arch = 'vgg16'\n",
    "arch_type = 'vanilla'\n",
    "network = 'VGG16'\n",
    "dataset = 'SYNTHETIC'\n",
    "dataset_name = 'ImageNet' if dataset == 'ILSVRC' else 'synthetic'\n",
    "experiment_name = f'mwsol3_{arch}_{dataset_name.lower()}'\n",
    "split = 'val' if dataset == 'ILSVRC' else 'test'\n",
    "caption=f'{metric_name} for {network} on {dataset_name}'\n",
    "label=f'tb:{metric_name}_{arch}_{dataset_name}'.lower()\n",
    "conditions = {\n",
    "    'tags.dataset': dataset,\n",
    "    'tags.architecture': arch,\n",
    "    'tags.architecture_type': arch_type,\n",
    "    'status': 'FINISHED'\n",
    "}\n",
    "mlflow_runs_to_latex(experiment_name, conditions=conditions, split=split, metrics=[metric], caption=caption, label=label)"
   ]
  },
  {
   "cell_type": "markdown",
   "metadata": {
    "collapsed": false,
    "jupyter": {
     "outputs_hidden": false
    }
   },
   "source": [
    "### PxAP"
   ]
  },
  {
   "cell_type": "code",
   "execution_count": null,
   "metadata": {
    "collapsed": false,
    "jupyter": {
     "outputs_hidden": false
    }
   },
   "outputs": [],
   "source": [
    "metric = 'PxAP'\n",
    "metric_name = metric if metric is not None else 'Metrics'\n",
    "arch = 'vgg16'\n",
    "arch_type = 'vanilla'\n",
    "network = 'VGG16'\n",
    "dataset = 'SYNTHETIC'\n",
    "dataset_name = 'ImageNet' if dataset == 'ILSVRC' else 'synthetic'\n",
    "experiment_name = f'mwsol3_{arch}_{dataset_name.lower()}'\n",
    "split = 'val' if dataset == 'ILSVRC' else 'test'\n",
    "caption=f'{metric_name} for {network} on {dataset_name}'\n",
    "label=f'tb:{metric_name}_{arch}_{dataset_name}'.lower()\n",
    "conditions = {\n",
    "    'tags.dataset': dataset,\n",
    "    'tags.architecture': arch,\n",
    "    'tags.architecture_type': arch_type,\n",
    "    'status': 'FINISHED'\n",
    "}\n",
    "mlflow_runs_to_latex(experiment_name, conditions=conditions, split=split, metrics=[metric], caption=caption, label=label)"
   ]
  },
  {
   "cell_type": "code",
   "execution_count": null,
   "metadata": {
    "collapsed": false,
    "jupyter": {
     "outputs_hidden": false
    }
   },
   "outputs": [],
   "source": [
    "metric = 'MaxBoxAccV3'\n",
    "metric_name = metric if metric is not None else 'Metrics'\n",
    "arch = 'vgg16'\n",
    "arch_type = 'vanilla'\n",
    "network = 'VGG16'\n",
    "dataset = 'SYNTHETIC'\n",
    "dataset_name = 'ImageNet' if dataset == 'ILSVRC' else 'synthetic'\n",
    "experiment_name = f'mwsol3_{arch}_{dataset_name.lower()}'\n",
    "split = 'val' if dataset == 'ILSVRC' else 'test'\n",
    "conditions = {\n",
    "    'tags.dataset': dataset,\n",
    "    'tags.architecture': arch,\n",
    "    'tags.architecture_type': arch_type,\n",
    "    'tags.method': 'gradcam',\n",
    "    'status': 'FINISHED'\n",
    "}\n",
    "\n",
    "df = mlflow_get_runs(experiment_name, conditions)\n",
    "\n",
    "cols_mlflow = ['run_id', 'tags.method', 'tags.dataset_spec']\n",
    "cols_renamed = ['run_id', 'method', 'dataset']\n",
    "mapper = dict(zip(cols_mlflow, cols_renamed))\n",
    "df = df.loc[:, cols_mlflow].rename(columns=mapper)\n",
    "df = df.assign(epochs=epoch_steps, accuracy=epoch_val_accuracy, MaxBoxAccV3=epoch_maxboxaccv3)\n",
    "df = df.explode(column=['epochs', 'accuracy', 'MaxBoxAccV3'])\n",
    "df = df.drop(columns='run_id').set_index(['method','dataset','epochs']).stack().reset_index()\n",
    "df.columns = ['method','dataset','epochs','metric','values']\n",
    "\n",
    "data = df.sort_values('dataset')\n",
    "\n",
    "sns.set_style(\"darkgrid\")\n",
    "# sns.set_context(\"paper\")\n",
    "hue_order = ['accuracy','MaxBoxAccV3']\n",
    "# sns_plot = sns.relplot(data, x=\"epochs\", y=\"values\", hue=\"metric\", col=\"dataset\", col_wrap=4, kind=\"line\")\n",
    "g = sns.FacetGrid(data, col=\"dataset\", hue=\"metric\", hue_order=hue_order, col_wrap=4, sharex=True, sharey=True)\n",
    "g.map_dataframe(sns.lineplot, x=\"epochs\", y=\"values\")\n",
    "g.add_legend()\n",
    "sns.move_legend(g, loc='lower center', bbox_to_anchor=(0.5, -0.1), ncol=2, labelspacing=1.0)\n",
    "g.savefig(f'fig_loc_vs_acc_vgg16_base_cam_synthetic.png')"
   ]
  },
  {
   "cell_type": "markdown",
   "metadata": {
    "collapsed": false,
    "jupyter": {
     "outputs_hidden": false
    }
   },
   "source": [
    "### Visual explanations"
   ]
  },
  {
   "cell_type": "code",
   "execution_count": null,
   "metadata": {
    "collapsed": false,
    "jupyter": {
     "outputs_hidden": false
    }
   },
   "outputs": [],
   "source": [
    "from torchvision.io.image import read_image\n",
    "from torchvision.transforms.functional import to_pil_image\n",
    "\n",
    "split = 'test'\n",
    "image_id = 4\n",
    "iter = 0\n",
    "metric = 'MaxBoxAccV3'\n",
    "metric_name = metric if metric is not None else 'Metrics'\n",
    "arch = 'vgg16'\n",
    "arch_type = 'vanilla'\n",
    "network = 'VGG16'\n",
    "dataset = 'SYNTHETIC'\n",
    "dataset_name = 'ImageNet' if dataset == 'ILSVRC' else 'synthetic'\n",
    "experiment_name = f'mwsol3_{arch}_{dataset_name.lower()}'\n",
    "split = 'val' if dataset == 'ILSVRC' else 'test'\n",
    "conditions = {\n",
    "    'tags.dataset': dataset,\n",
    "    'tags.architecture': arch,\n",
    "    'tags.architecture_type': arch_type,\n",
    "    'status': 'FINISHED'\n",
    "}\n",
    "df = mlflow_get_runs(experiment_name, conditions)\n",
    "df.loc[:, 'artifact_uri'] = df['artifact_uri'].str.removeprefix('file://')\n",
    "\n",
    "for spec in sorted(df['tags.dataset_spec'].unique()):\n",
    "    df_spec = df.loc[df['tags.dataset_spec'] == spec]\n",
    "    df_spec = df_spec.loc[:, ['tags.method', 'tags.dataset_spec', 'artifact_uri']]\n",
    "    spec_dict = df_spec.set_index('tags.method').sort_index().to_dict()\n",
    "    uris = spec_dict['artifact_uri']\n",
    "    spec = '_'.join(list(spec))\n",
    "    filebase = f'SYNTHETIC_{spec}_test_{image_id}'\n",
    "    file_img = filebase + f'_img_{iter}.png'\n",
    "    file_ann = filebase + f'_ann_{iter}.png'\n",
    "    path_img_orig = os.path.join(f'/Users/goemaereg/github.com/thesis/data/dataset/SYNTHETIC/{spec}/{split}/SYNTHETIC_{spec}_{split}_{image_id}.png')\n",
    "    _, axes = plt.subplots(1, 4, figsize=(16, 8))\n",
    "    img = read_image(path=path_img_orig)\n",
    "    axes[0].imshow(to_pil_image(img))\n",
    "    axes[0].axis('off')\n",
    "    axes[0].set_title('image')\n",
    "    for i, (method, uri) in enumerate(uris.items()):\n",
    "        path_img = os.path.join(uri, 'xai', split, file_ann)\n",
    "        img = read_image(path=path_img)\n",
    "        axes[i+1].imshow(to_pil_image(img))\n",
    "        axes[i+1].axis('off')\n",
    "        axes[i+1].set_title(labels_methods[method])\n",
    "    plt.show()"
   ]
  },
  {
   "cell_type": "markdown",
   "metadata": {
    "collapsed": false,
    "jupyter": {
     "outputs_hidden": false
    }
   },
   "source": [
    "## ResNet-50"
   ]
  },
  {
   "cell_type": "markdown",
   "metadata": {
    "collapsed": false,
    "jupyter": {
     "outputs_hidden": false
    }
   },
   "source": [
    "### Classificaton versus Localization"
   ]
  },
  {
   "cell_type": "code",
   "execution_count": null,
   "metadata": {
    "collapsed": false,
    "jupyter": {
     "outputs_hidden": false
    }
   },
   "outputs": [],
   "source": [
    "dataset = 'SYNTHETIC'\n",
    "spec = 'd1b'\n",
    "archtype = 'cam'\n",
    "experiment_name = 'wsol_resnet50_synthetic'\n",
    "run_name = 'resnet50_minmaxcam_synthetic_d1b'\n",
    "# run_id = '63fa71e18f4849a19f49b2923adf57a3'\n",
    "# run_id = 'e6f2d6ba4ca24e31ba7b57c2e2d0266b'\n",
    "conditions = {'tags.mlflow.runName': run_name}\n",
    "runs = mlflow_get_runs(experiment_name, conditions=conditions)"
   ]
  },
  {
   "cell_type": "code",
   "execution_count": null,
   "metadata": {
    "collapsed": false,
    "jupyter": {
     "outputs_hidden": false
    }
   },
   "outputs": [],
   "source": [
    "runs"
   ]
  },
  {
   "cell_type": "code",
   "execution_count": null,
   "metadata": {
    "collapsed": false,
    "jupyter": {
     "outputs_hidden": false
    }
   },
   "outputs": [],
   "source": [
    "from mlflow import MlflowClient\n",
    "\n",
    "run_id = runs['run_id'][0]\n",
    "client = MlflowClient()\n",
    "val_accuracy = [metric.value for metric in client.get_metric_history(run_id, 'val_accuracy')]\n",
    "steps = list(range(len(val_accuracy)))\n",
    "val_maxboxaccv3 = [metric.value for metric in client.get_metric_history(run_id, 'val_MaxBoxAccV3')]\n",
    "val_pxap = [metric.value for metric in client.get_metric_history(run_id, 'val_PxAP')]"
   ]
  },
  {
   "cell_type": "code",
   "execution_count": null,
   "metadata": {
    "collapsed": false,
    "jupyter": {
     "outputs_hidden": false
    },
    "scrolled": true
   },
   "outputs": [],
   "source": [
    "plt.plot(steps, val_maxboxaccv3, label = 'MaxBoxAccV3')\n",
    "plt.plot(steps, val_accuracy, label='Classification accuracy')\n",
    "plt.xlabel(\"Training steps\")\n",
    "plt.ylabel(\"Metric\")\n",
    "plt.title('Classification versus localization performance')\n",
    "plt.legend()\n",
    "plt.show()"
   ]
  },
  {
   "cell_type": "code",
   "execution_count": null,
   "metadata": {
    "collapsed": false,
    "jupyter": {
     "outputs_hidden": false
    }
   },
   "outputs": [],
   "source": [
    "arch = 'resnet50'\n",
    "arch_type = 'cam'\n",
    "network = 'ResNet-50'\n",
    "dataset = 'SYNTHETIC'\n",
    "dataset_name = 'ImageNet' if dataset == 'ILSVRC' else 'synthetic'\n",
    "experiment_name = f'mwsol3_{arch}_{dataset_name.lower()}'\n",
    "split = 'val' if dataset == 'ILSVRC' else 'test'\n",
    "conditions = {\n",
    "    'tags.dataset': dataset,\n",
    "    'tags.architecture': arch,\n",
    "    'tags.architecture_type': arch_type,\n",
    "    'tags.method': 'cam',\n",
    "    'tags.label': 'gap',\n",
    "    'tags.train': 'True',\n",
    "    'status': 'FINISHED'\n",
    "}\n",
    "\n",
    "df = mlflow_get_runs(experiment_name, conditions)\n",
    "\n",
    "cols_mlflow = ['run_id', 'tags.method', 'tags.dataset_spec', 'metrics.val_accuracy', 'metrics.val_MaxBoxAccV3', 'start_time']\n",
    "cols_renamed = ['run_id', 'method', 'dataset', 'accuracy', 'MaxBoxAccV3', 'start_time']\n",
    "mapper = dict(zip(cols_mlflow, cols_renamed))\n",
    "df = df.loc[:, cols_mlflow].rename(columns=mapper)\n",
    "df = df.drop(columns='start_time')\n",
    "df = df.assign(epochs=epoch_steps, accuracy=epoch_val_accuracy, MaxBoxAccV3=epoch_maxboxaccv3)\n",
    "df = df.explode(column=['epochs', 'accuracy', 'MaxBoxAccV3'])\n",
    "df = df.drop(columns='run_id').set_index(['method','dataset','epochs']).stack().reset_index()\n",
    "df.columns = ['method','dataset','epochs','metric','values']\n",
    "\n",
    "data = df.sort_values('dataset')\n",
    "\n",
    "sns.set_style(\"darkgrid\")\n",
    "hue_order = ['accuracy','MaxBoxAccV3']\n",
    "g = sns.FacetGrid(data, col=\"dataset\", hue=\"metric\", hue_order=hue_order, col_wrap=4, sharex=True, sharey=True)\n",
    "g.map_dataframe(sns.lineplot, x=\"epochs\", y=\"values\")\n",
    "g.add_legend()\n",
    "sns.move_legend(g, loc='lower center', bbox_to_anchor=(0.5, -0.1), ncol=2, labelspacing=1.0)\n",
    "g.savefig(f'fig_loc_vs_acc_resnet50_cam_synthetic.png')"
   ]
  },
  {
   "cell_type": "code",
   "execution_count": null,
   "metadata": {
    "collapsed": false,
    "jupyter": {
     "outputs_hidden": false
    }
   },
   "outputs": [],
   "source": [
    "arch = 'resnet50'\n",
    "arch_type = 'cam'\n",
    "network = 'ResNet-50'\n",
    "dataset = 'SYNTHETIC'\n",
    "dataset_name = 'ImageNet' if dataset == 'ILSVRC' else 'synthetic'\n",
    "experiment_name = f'mwsol3_{arch}_{dataset_name.lower()}'\n",
    "split = 'val' if dataset == 'ILSVRC' else 'test'\n",
    "conditions = {\n",
    "    'tags.dataset': dataset,\n",
    "    'tags.architecture': arch,\n",
    "    'tags.architecture_type': arch_type,\n",
    "    'tags.dataset_spec': 'd1b',\n",
    "    'tags.method': 'cam',\n",
    "    'tags.label': 'gap',\n",
    "    'tags.train': 'True',\n",
    "    'status': 'FINISHED'\n",
    "}\n",
    "\n",
    "df = mlflow_get_runs(experiment_name, conditions)\n",
    "\n",
    "cols_mlflow = ['run_id', 'tags.method', 'tags.dataset_spec', 'metrics.val_accuracy', 'metrics.val_MaxBoxAccV3', 'start_time']\n",
    "cols_renamed = ['run_id', 'method', 'dataset', 'accuracy', 'MaxBoxAccV3', 'start_time']\n",
    "mapper = dict(zip(cols_mlflow, cols_renamed))\n",
    "df = df.loc[:, cols_mlflow].rename(columns=mapper)\n",
    "df = df.drop(columns='start_time')\n",
    "df = df.assign(epochs=epoch_steps, accuracy=epoch_val_accuracy, MaxBoxAccV3=epoch_maxboxaccv3)\n",
    "df = df.explode(column=['epochs', 'accuracy', 'MaxBoxAccV3'])\n",
    "df = df.drop(columns='run_id').set_index(['method','dataset','epochs']).stack().reset_index()\n",
    "df.columns = ['method','dataset','epochs','metric','values']\n",
    "\n",
    "data = df.sort_values('dataset')\n",
    "\n",
    "sns.set_style(\"whitegrid\")\n",
    "hue_order = ['accuracy','MaxBoxAccV3']\n",
    "g = sns.FacetGrid(data, hue=\"metric\", hue_order=hue_order, height=4)\n",
    "g.map_dataframe(sns.lineplot, x=\"epochs\", y=\"values\")\n",
    "g.add_legend()\n",
    "# sns.move_legend(g, loc='lower center', bbox_to_anchor=(0.4, -0.1), ncol=2, labelspacing=1.0)\n",
    "g.savefig(f'fig_loc_vs_acc_resnet50_cam_d1b.png')"
   ]
  },
  {
   "cell_type": "code",
   "execution_count": null,
   "metadata": {
    "collapsed": false,
    "jupyter": {
     "outputs_hidden": false
    }
   },
   "outputs": [],
   "source": [
    "arch = 'resnet50'\n",
    "arch_type = 'cam'\n",
    "network = 'ResNet-50'\n",
    "dataset = 'SYNTHETIC'\n",
    "dataset_name = 'ImageNet' if dataset == 'ILSVRC' else 'synthetic'\n",
    "experiment_name = f'wsol_{arch}_{dataset_name.lower()}'\n",
    "split = 'val' if dataset == 'ILSVRC' else 'test'\n",
    "conditions = {\n",
    "    'tags.dataset': dataset,\n",
    "    'tags.architecture': arch,\n",
    "    'tags.architecture_type': arch_type,\n",
    "    'tags.method': 'minmaxcam',\n",
    "    'tags.dataset_spec': 'd1b',\n",
    "    'tags.train': 'True',\n",
    "    'run_id': 'df000b8b56444239967892aecd5cc432',\n",
    "    'status': 'FINISHED'\n",
    "}\n",
    "\n",
    "runs = mlflow_get_runs(experiment_name, conditions)\n",
    "df = runs\n",
    "cols_mlflow = ['run_id', 'tags.method', 'tags.dataset_spec', 'metrics.val_accuracy', 'metrics.val_MaxBoxAccV3', 'start_time']\n",
    "cols_renamed = ['run_id', 'method', 'dataset', 'accuracy', 'MaxBoxAccV3', 'start_time']\n",
    "mapper = dict(zip(cols_mlflow, cols_renamed))\n",
    "df = df.loc[:, cols_mlflow].rename(columns=mapper)\n",
    "df = df.drop(columns='start_time')\n",
    "df = df.assign(epochs=epoch_steps, accuracy=epoch_val_accuracy, MaxBoxAccV3=epoch_maxboxaccv3)\n",
    "df = df.explode(column=['epochs', 'accuracy', 'MaxBoxAccV3'])\n",
    "df = df.drop(columns='run_id').set_index(['method','dataset','epochs']).stack().reset_index()\n",
    "df.columns = ['method','dataset','epochs','metric','values']\n",
    "\n",
    "data = df.sort_values('dataset')\n",
    "\n",
    "sns.set_style(\"darkgrid\")\n",
    "hue_order = ['accuracy','MaxBoxAccV3']\n",
    "g = sns.FacetGrid(data, col=\"dataset\", hue=\"metric\", hue_order=hue_order, sharex=True, sharey=True)\n",
    "g.map_dataframe(sns.lineplot, x=\"epochs\", y=\"values\")\n",
    "g.add_legend()\n",
    "sns.move_legend(g, loc='lower center', bbox_to_anchor=(0.4, -0.1), ncol=2, labelspacing=1.0, title=None)"
   ]
  },
  {
   "cell_type": "markdown",
   "metadata": {
    "collapsed": false,
    "jupyter": {
     "outputs_hidden": false
    }
   },
   "source": [
    "### MaxBoxAccV3 recall"
   ]
  },
  {
   "cell_type": "markdown",
   "metadata": {
    "collapsed": false,
    "jupyter": {
     "outputs_hidden": false
    }
   },
   "source": [
    "#### non-regularized"
   ]
  },
  {
   "cell_type": "code",
   "execution_count": null,
   "metadata": {
    "collapsed": false,
    "jupyter": {
     "outputs_hidden": false
    }
   },
   "outputs": [],
   "source": [
    "metric = 'MaxBoxAccV3_recall'\n",
    "metric_name = metric if metric is not None else 'Metrics'\n",
    "arch = 'resnet50'\n",
    "arch_type = 'cam'\n",
    "network = 'ResNet-50'\n",
    "dataset = 'SYNTHETIC'\n",
    "dataset_name = 'ImageNet' if dataset == 'ILSVRC' else 'synthetic'\n",
    "experiment_name = f'mwsol3_{arch}_{dataset_name.lower()}'\n",
    "split = 'val' if dataset == 'ILSVRC' else 'test'\n",
    "caption=f'{metric_name} for {network} on {dataset_name}'\n",
    "label=f'tb:{metric_name}_{arch}_{dataset_name}'.lower()\n",
    "conditions = {\n",
    "    'tags.dataset': dataset,\n",
    "    'tags.architecture': arch,\n",
    "    'tags.architecture_type': arch_type,\n",
    "    'tags.label': 'gap',\n",
    "    'status': 'FINISHED'\n",
    "}\n",
    "mlflow_runs_to_latex(experiment_name, conditions=conditions, split=split, metrics=[metric], caption=caption, label=label)"
   ]
  },
  {
   "cell_type": "markdown",
   "metadata": {
    "collapsed": false,
    "jupyter": {
     "outputs_hidden": false
    }
   },
   "source": [
    "#### MinMaxCAM-regularized"
   ]
  },
  {
   "cell_type": "code",
   "execution_count": null,
   "metadata": {
    "collapsed": false,
    "jupyter": {
     "outputs_hidden": false
    }
   },
   "outputs": [],
   "source": [
    "metric = 'MaxBoxAccV3_recall'\n",
    "metric_name = metric if metric is not None else 'Metrics'\n",
    "arch = 'resnet50'\n",
    "arch_type = 'cam'\n",
    "network = 'ResNet-50'\n",
    "dataset = 'SYNTHETIC'\n",
    "dataset_name = 'ImageNet' if dataset == 'ILSVRC' else 'synthetic'\n",
    "experiment_name = f'mwsol3_{arch}_{dataset_name.lower()}'\n",
    "split = 'val' if dataset == 'ILSVRC' else 'test'\n",
    "caption=f'{metric_name} for {network} on {dataset_name}'\n",
    "label=f'tb:{metric_name}_{arch}_{dataset_name}'.lower()\n",
    "conditions = {\n",
    "    'tags.dataset': dataset,\n",
    "    'tags.architecture': arch,\n",
    "    'tags.architecture_type': arch_type,\n",
    "    'tags.label': 'minmaxcam',\n",
    "    'status': 'FINISHED'\n",
    "}\n",
    "mlflow_runs_to_latex(experiment_name, conditions=conditions, split=split, metrics=[metric], caption=caption, label=label)"
   ]
  },
  {
   "cell_type": "markdown",
   "metadata": {
    "collapsed": false,
    "jupyter": {
     "outputs_hidden": false
    }
   },
   "source": [
    "### MaxBoxAccV3 precision"
   ]
  },
  {
   "cell_type": "markdown",
   "metadata": {
    "collapsed": false,
    "jupyter": {
     "outputs_hidden": false
    }
   },
   "source": [
    "#### non-regularized"
   ]
  },
  {
   "cell_type": "code",
   "execution_count": null,
   "metadata": {
    "collapsed": false,
    "jupyter": {
     "outputs_hidden": false
    }
   },
   "outputs": [],
   "source": [
    "metric = 'MaxBoxAccV3_precision'\n",
    "metric_name = metric if metric is not None else 'Metrics'\n",
    "arch = 'resnet50'\n",
    "arch_type = 'cam'\n",
    "network = 'ResNet-50'\n",
    "dataset = 'SYNTHETIC'\n",
    "dataset_name = 'ImageNet' if dataset == 'ILSVRC' else 'synthetic'\n",
    "experiment_name = f'mwsol3_{arch}_{dataset_name.lower()}'\n",
    "split = 'val' if dataset == 'ILSVRC' else 'test'\n",
    "caption=f'{metric_name} for {network} on {dataset_name}'\n",
    "label=f'tb:{metric_name}_{arch}_{dataset_name}'.lower()\n",
    "conditions = {\n",
    "    'tags.dataset': dataset,\n",
    "    'tags.architecture': arch,\n",
    "    'tags.architecture_type': arch_type,\n",
    "    'tags.label': 'gap',\n",
    "    'status': 'FINISHED'\n",
    "}\n",
    "mlflow_runs_to_latex(experiment_name, conditions=conditions, split=split, metrics=[metric], caption=caption, label=label)"
   ]
  },
  {
   "cell_type": "markdown",
   "metadata": {
    "collapsed": false,
    "jupyter": {
     "outputs_hidden": false
    }
   },
   "source": [
    "#### MinMaxCAM-regularized"
   ]
  },
  {
   "cell_type": "code",
   "execution_count": null,
   "metadata": {
    "collapsed": false,
    "jupyter": {
     "outputs_hidden": false
    }
   },
   "outputs": [],
   "source": [
    "metric = 'MaxBoxAccV3_precision'\n",
    "metric_name = metric if metric is not None else 'Metrics'\n",
    "arch = 'resnet50'\n",
    "arch_type = 'cam'\n",
    "network = 'ResNet-50'\n",
    "dataset = 'SYNTHETIC'\n",
    "dataset_name = 'ImageNet' if dataset == 'ILSVRC' else 'synthetic'\n",
    "experiment_name = f'mwsol3_{arch}_{dataset_name.lower()}'\n",
    "split = 'val' if dataset == 'ILSVRC' else 'test'\n",
    "caption=f'{metric_name} for {network} on {dataset_name}'\n",
    "label=f'tb:{metric_name}_{arch}_{dataset_name}'.lower()\n",
    "conditions = {\n",
    "    'tags.dataset': dataset,\n",
    "    'tags.architecture': arch,\n",
    "    'tags.architecture_type': arch_type,\n",
    "    'tags.label': 'minmaxcam',\n",
    "    'status': 'FINISHED'\n",
    "}\n",
    "mlflow_runs_to_latex(experiment_name, conditions=conditions, split=split, metrics=[metric], caption=caption, label=label)"
   ]
  },
  {
   "cell_type": "markdown",
   "metadata": {
    "collapsed": false,
    "jupyter": {
     "outputs_hidden": false
    }
   },
   "source": [
    "### PxAP"
   ]
  },
  {
   "cell_type": "markdown",
   "metadata": {
    "collapsed": false,
    "jupyter": {
     "outputs_hidden": false
    }
   },
   "source": [
    "#### non-regularized"
   ]
  },
  {
   "cell_type": "code",
   "execution_count": null,
   "metadata": {
    "collapsed": false,
    "jupyter": {
     "outputs_hidden": false
    }
   },
   "outputs": [],
   "source": [
    "metric = 'PxAP'\n",
    "metric_name = metric if metric is not None else 'Metrics'\n",
    "arch = 'resnet50'\n",
    "arch_type = 'cam'\n",
    "network = 'ResNet-50'\n",
    "dataset = 'SYNTHETIC'\n",
    "dataset_name = 'ImageNet' if dataset == 'ILSVRC' else 'synthetic'\n",
    "experiment_name = f'mwsol3_{arch}_{dataset_name.lower()}'\n",
    "split = 'val' if dataset == 'ILSVRC' else 'test'\n",
    "caption=f'{metric_name} for {network} on {dataset_name}'\n",
    "label=f'tb:{metric_name}_{arch}_{dataset_name}'.lower()\n",
    "conditions = {\n",
    "    'tags.dataset': dataset,\n",
    "    'tags.architecture': arch,\n",
    "    'tags.architecture_type': arch_type,\n",
    "    'tags.label': 'gap',\n",
    "    'status': 'FINISHED'\n",
    "}\n",
    "mlflow_runs_to_latex(experiment_name, conditions=conditions, split=split, metrics=[metric], caption=caption, label=label)"
   ]
  },
  {
   "cell_type": "markdown",
   "metadata": {
    "collapsed": false,
    "jupyter": {
     "outputs_hidden": false
    }
   },
   "source": [
    "#### MinMaxCAM-regularized"
   ]
  },
  {
   "cell_type": "code",
   "execution_count": null,
   "metadata": {
    "collapsed": false,
    "jupyter": {
     "outputs_hidden": false
    }
   },
   "outputs": [],
   "source": [
    "metric = 'PxAP'\n",
    "metric_name = metric if metric is not None else 'Metrics'\n",
    "arch = 'resnet50'\n",
    "arch_type = 'cam'\n",
    "network = 'ResNet-50'\n",
    "dataset = 'SYNTHETIC'\n",
    "dataset_name = 'ImageNet' if dataset == 'ILSVRC' else 'synthetic'\n",
    "experiment_name = f'mwsol3_{arch}_{dataset_name.lower()}'\n",
    "split = 'val' if dataset == 'ILSVRC' else 'test'\n",
    "caption=f'{metric_name} for {network} on {dataset_name}'\n",
    "label=f'tb:{metric_name}_{arch}_{dataset_name}'.lower()\n",
    "conditions = {\n",
    "    'tags.dataset': dataset,\n",
    "    'tags.architecture': arch,\n",
    "    'tags.architecture_type': arch_type,\n",
    "    'tags.label': 'minmaxcam',\n",
    "    'status': 'FINISHED'\n",
    "}\n",
    "mlflow_runs_to_latex(experiment_name, conditions=conditions, split=split, metrics=[metric], caption=caption, label=label)"
   ]
  },
  {
   "cell_type": "markdown",
   "metadata": {
    "collapsed": false,
    "jupyter": {
     "outputs_hidden": false
    }
   },
   "source": [
    "### Visual explanation examples"
   ]
  },
  {
   "cell_type": "code",
   "execution_count": null,
   "metadata": {
    "collapsed": false,
    "jupyter": {
     "outputs_hidden": false
    }
   },
   "outputs": [],
   "source": [
    "from torchvision.io.image import read_image\n",
    "from torchvision.transforms.functional import to_pil_image\n",
    "\n",
    "image_id = 10\n",
    "arch = 'resnet50'\n",
    "arch_type = 'cam'\n",
    "network = 'ResNet-50'\n",
    "dataset = 'SYNTHETIC'\n",
    "dataset_name = 'ImageNet' if dataset == 'ILSVRC' else 'synthetic'\n",
    "experiment_name = f'mwsol2_{arch}_{dataset_name.lower()}'\n",
    "split = 'val' if dataset == 'ILSVRC' else 'test'\n",
    "conditions = {\n",
    "    'tags.dataset': dataset,\n",
    "    'tags.architecture': arch,\n",
    "    'tags.architecture_type': arch_type,\n",
    "    'status': 'FINISHED'\n",
    "}\n",
    "df = mlflow_get_runs(experiment_name, conditions)\n",
    "df.loc[:, 'artifact_uri'] = df['artifact_uri'].str.removeprefix('file://')\n",
    "\n",
    "speclist = sorted(df['tags.dataset_spec'].unique())\n",
    "for spec in speclist:\n",
    "    df_spec = df.loc[df['tags.dataset_spec'] == spec]\n",
    "    df_spec = df_spec.loc[:, ['tags.method', 'tags.dataset_spec', 'artifact_uri']]\n",
    "    df_spec = df_spec.sort_values('tags.method')\n",
    "    spec_dict = df_spec.set_index('tags.method').to_dict()\n",
    "    uris = spec_dict['artifact_uri']\n",
    "    spec = '_'.join(list(spec))\n",
    "    filebase = f'SYNTHETIC_{spec}_test_{image_id}'\n",
    "    file_img = filebase + '_img_0.png'\n",
    "    file_ann = filebase + '_ann_0.png'\n",
    "    file_cam = filebase + '_cam_0.png'\n",
    "    file_seg = filebase + '_seg_0.png'\n",
    "    path_img_orig = os.path.join(f'/Users/goemaereg/github.com/thesis/data/dataset/SYNTHETIC/{spec}/{split}/SYNTHETIC_{spec}_{split}_{image_id}.png')\n",
    "    _, axes = plt.subplots(1, len(uris) + 1, figsize=(16, 8))\n",
    "    img = read_image(path=path_img_orig)\n",
    "    axes[0].imshow(to_pil_image(img))\n",
    "    axes[0].axis('off')\n",
    "    axes[0].set_title('image')\n",
    "    for i, (method, uri) in enumerate(uris.items()):\n",
    "        path_img = os.path.join(uri, 'xai', split, file_ann)\n",
    "        img = read_image(path=path_img)\n",
    "        axes[i+1].imshow(to_pil_image(img))\n",
    "        axes[i+1].axis('off')\n",
    "        axes[i+1].set_title(labels_methods[method])\n",
    "    plt.show()"
   ]
  },
  {
   "cell_type": "markdown",
   "metadata": {
    "collapsed": false,
    "jupyter": {
     "outputs_hidden": false
    }
   },
   "source": [
    "# Localization ImageNet dataset"
   ]
  },
  {
   "cell_type": "markdown",
   "metadata": {
    "collapsed": false,
    "jupyter": {
     "outputs_hidden": false
    }
   },
   "source": [
    "## VGG16-GAP"
   ]
  },
  {
   "cell_type": "markdown",
   "metadata": {
    "collapsed": false,
    "jupyter": {
     "outputs_hidden": false
    }
   },
   "source": [
    "### Localization metrics"
   ]
  },
  {
   "cell_type": "code",
   "execution_count": null,
   "metadata": {
    "collapsed": false,
    "jupyter": {
     "outputs_hidden": false
    }
   },
   "outputs": [],
   "source": [
    "metrics = None\n",
    "metric_name = 'Metrics'\n",
    "arch = 'vgg16'\n",
    "arch_type = 'cam'\n",
    "network = 'VGG16-GAP'\n",
    "dataset = 'ILSVRC'\n",
    "dataset_name = 'ImageNet' if dataset == 'ILSVRC' else 'synthetic'\n",
    "experiment_name = f'mwsol_{arch}_{dataset_name.lower()}'\n",
    "split = 'val' if dataset == 'ILSVRC' else 'test'\n",
    "caption=f'{metric_name} for {network} on {dataset_name}'\n",
    "label=f'tb:{metric_name}_{arch}_{dataset_name}'.lower()\n",
    "conditions = {\n",
    "    'tags.dataset': dataset,\n",
    "    'tags.architecture': arch,\n",
    "    'tags.architecture_type': arch_type,\n",
    "    'status': 'FINISHED'\n",
    "}\n",
    "mlflow_runs_to_latex(experiment_name, conditions=conditions, split=split, metrics=metrics, caption=caption, label=label)"
   ]
  },
  {
   "cell_type": "markdown",
   "metadata": {
    "collapsed": false,
    "jupyter": {
     "outputs_hidden": false
    }
   },
   "source": [
    "### Visual explanations"
   ]
  },
  {
   "cell_type": "code",
   "execution_count": null,
   "metadata": {
    "collapsed": false,
    "jupyter": {
     "outputs_hidden": false
    }
   },
   "outputs": [],
   "source": [
    "from torchvision.io.image import read_image\n",
    "from torchvision.transforms.functional import to_pil_image\n",
    "\n",
    "# image_no_list = list(range(1,21))\n",
    "image_no_list = [1, 15]\n",
    "# image_no_list = [1,2,3,4,8]\n",
    "arch = 'vgg16'\n",
    "arch_type = 'cam'\n",
    "network = 'VGG16-GAP'\n",
    "dataset = 'ILSVRC'\n",
    "dataset_name = 'ImageNet' if dataset == 'ILSVRC' else 'synthetic'\n",
    "experiment_name = f'mwsol_{arch}_{dataset_name.lower()}'\n",
    "split = 'val' if dataset == 'ILSVRC' else 'test'\n",
    "iter = 0\n",
    "conditions = {\n",
    "    'tags.dataset': dataset,\n",
    "    'tags.architecture': arch,\n",
    "    'tags.architecture_type': arch_type,\n",
    "    'status': 'FINISHED'\n",
    "}\n",
    "df = mlflow_get_runs(experiment_name, conditions)\n",
    "df = df.loc[df['tags.method'] != 'minmaxcam'] # filter out minmaxcam network was not trained sufficiently\n",
    "df.loc[:, 'artifact_uri'] = df['artifact_uri'].str.removeprefix('file://')\n",
    "\n",
    "speclist = sorted(df['tags.dataset_spec'].unique())\n",
    "for spec in speclist:\n",
    "    df_spec = df.loc[df['tags.dataset_spec'] == spec]\n",
    "    df_spec = df_spec.loc[:, ['tags.method', 'tags.dataset_spec', 'artifact_uri',\n",
    "                              'metrics.val_MaxBoxAccV3_optimal_threshold_IOU_50']]\n",
    "    df_spec = df_spec.sort_values('tags.method')\n",
    "    spec_dict = df_spec.set_index('tags.method').to_dict()\n",
    "    uris = spec_dict['artifact_uri']\n",
    "    opt_thresholds = list(spec_dict['metrics.val_MaxBoxAccV3_optimal_threshold_IOU_50'].values())\n",
    "    spec = '_'.join(list(spec))\n",
    "    fig, axes = plt.subplots(len(image_no_list), len(uris) + 1, figsize=(16, 8))\n",
    "    for row, image_no in enumerate(image_no_list):\n",
    "        filebase = f'ILSVRC2012_{split}_{image_no:0>8}'\n",
    "        file_img = filebase + f'_img_{iter}.png'\n",
    "        file_ann = filebase + f'_ann_{iter}.png'\n",
    "        file_cam = filebase + f'_cam_{iter}.png'\n",
    "        file_seg = filebase + f'_seg_{iter}.png'\n",
    "        image_id = f'{split}/ILSVRC2012_{split}_{image_no:0>8}.JPEG'\n",
    "        path_img_orig = os.path.join(f'/Users/goemaereg/github.com/thesis/data/dataset/ILSVRC/{image_id}')\n",
    "        img = read_image(path=path_img_orig)\n",
    "        axes[row, 0].imshow(to_pil_image(img))\n",
    "        axes[row, 0].axis('off')\n",
    "        class_id = class_labels[image_id]\n",
    "        label_name = label_names[str(class_id)]\n",
    "        axes[row, 0].set_title(f'image ({label_name})')\n",
    "        for col, (method, uri) in enumerate(uris.items()):\n",
    "            path_img = os.path.join(uri, 'xai', split, file_ann)\n",
    "            img = read_image(path=path_img)\n",
    "            axes[row, col+1].imshow(to_pil_image(img))\n",
    "            axes[row, col+1].axis('off')\n",
    "            title = f\"{labels_methods[method]} (\" + r'$\\tau^*' + f' = {opt_thresholds[i]}$)'\n",
    "            axes[row, col+1].set_title(title)\n",
    "    plt.tight_layout()\n",
    "    plt.savefig(f'fig_explain_vgg16_gap_imagenet.png', dpi=fig.dpi)\n",
    "    plt.show()"
   ]
  },
  {
   "cell_type": "markdown",
   "metadata": {
    "collapsed": false,
    "jupyter": {
     "outputs_hidden": false
    }
   },
   "source": [
    "### Classification versus Localization"
   ]
  },
  {
   "cell_type": "code",
   "execution_count": null,
   "metadata": {
    "collapsed": false,
    "jupyter": {
     "outputs_hidden": false
    }
   },
   "outputs": [],
   "source": [
    "arch = 'vgg16'\n",
    "arch_type = 'cam'\n",
    "network = 'VGG16-GAP'\n",
    "dataset = 'ILSVRC'\n",
    "dataset_name = 'ImageNet' if dataset == 'ILSVRC' else 'synthetic'\n",
    "experiment_name = f'wsol_{arch}_{dataset_name.lower()}'\n",
    "split = 'val' if dataset == 'ILSVRC' else 'test'\n",
    "conditions = {\n",
    "    'tags.dataset': dataset,\n",
    "    'tags.architecture': arch,\n",
    "    'tags.architecture_type': arch_type,\n",
    "    'tags.method': 'cam',\n",
    "    'tags.train': 'True',\n",
    "    'status': 'FINISHED'\n",
    "}\n",
    "\n",
    "df = mlflow_get_runs(experiment_name, conditions)\n",
    "\n",
    "cols_mlflow = ['run_id', 'tags.method', 'tags.dataset_spec', 'metrics.val_accuracy', 'metrics.val_MaxBoxAccV3', 'start_time']\n",
    "cols_renamed = ['run_id', 'method', 'dataset', 'accuracy', 'MaxBoxAccV3', 'start_time']\n",
    "mapper = dict(zip(cols_mlflow, cols_renamed))\n",
    "df = df.loc[:, cols_mlflow].rename(columns=mapper)\n",
    "df = df.drop(columns='start_time')\n",
    "df = df.assign(epochs=epoch_steps, accuracy=epoch_val_accuracy, MaxBoxAccV3=epoch_maxboxaccv3)\n",
    "df = df.explode(column=['epochs', 'accuracy', 'MaxBoxAccV3'])\n",
    "df = df.drop(columns='run_id').set_index(['method','dataset','epochs']).stack().reset_index()\n",
    "df.columns = ['method','dataset','epochs','metric','values']\n",
    "\n",
    "data = df.sort_values('dataset')\n",
    "\n",
    "sns.set_style(\"darkgrid\")\n",
    "hue_order = ['accuracy','MaxBoxAccV3']\n",
    "g = sns.FacetGrid(data, col=\"dataset\", hue=\"metric\", hue_order=hue_order, sharex=True, sharey=True)\n",
    "g.map_dataframe(sns.lineplot, x=\"epochs\", y=\"values\")\n",
    "g.add_legend()\n",
    "# sns.move_legend(g, loc='lower center', bbox_to_anchor=(0.5, -0.1), ncol=2, labelspacing=1.0)\n",
    "g.savefig(f'fig_loc_vs_acc_vgg16_gap_cam_imagenet.png')"
   ]
  },
  {
   "cell_type": "markdown",
   "metadata": {
    "collapsed": false,
    "jupyter": {
     "outputs_hidden": false
    }
   },
   "source": [
    "## ResNet-50"
   ]
  },
  {
   "cell_type": "markdown",
   "metadata": {
    "collapsed": false,
    "jupyter": {
     "outputs_hidden": false
    }
   },
   "source": [
    "### Classification versus localization accuracy"
   ]
  },
  {
   "cell_type": "code",
   "execution_count": null,
   "metadata": {},
   "outputs": [],
   "source": [
    "df"
   ]
  },
  {
   "cell_type": "code",
   "execution_count": null,
   "metadata": {
    "collapsed": false,
    "jupyter": {
     "outputs_hidden": false
    }
   },
   "outputs": [],
   "source": [
    "arch = 'resnet50'\n",
    "arch_type = 'cam'\n",
    "network = 'ResNet-50'\n",
    "dataset = 'ILSVRC'\n",
    "dataset_name = 'ImageNet' if dataset == 'ILSVRC' else 'synthetic'\n",
    "experiment_name = f'mwsol_{arch}_{dataset_name.lower()}'\n",
    "split = 'val' if dataset == 'ILSVRC' else 'test'\n",
    "conditions = {\n",
    "    'tags.dataset': dataset,\n",
    "    'tags.architecture': arch,\n",
    "    'tags.architecture_type': arch_type,\n",
    "    'tags.method': 'minmaxcam',\n",
    "    'tags.train': 'True',\n",
    "    'status': 'FINISHED'\n",
    "}\n",
    "\n",
    "df = mlflow_get_runs(experiment_name, conditions)\n",
    "\n",
    "cols_mlflow = ['run_id', 'tags.method', 'tags.dataset', 'metrics.val_accuracy', 'metrics.val_MaxBoxAccV3', 'start_time']\n",
    "cols_renamed = ['run_id', 'method', 'dataset', 'accuracy', 'MaxBoxAccV3', 'start_time']\n",
    "mapper = dict(zip(cols_mlflow, cols_renamed))\n",
    "df = df.loc[:, cols_mlflow].rename(columns=mapper)\n",
    "df = df.drop(columns='start_time')\n",
    "df = df.assign(epochs=epoch_steps, accuracy=epoch_val_accuracy, MaxBoxAccV3=epoch_maxboxaccv3)\n",
    "df = df.explode(column=['epochs', 'accuracy', 'MaxBoxAccV3'])\n",
    "df = df.drop(columns='run_id').set_index(['method','dataset','epochs']).stack().reset_index()\n",
    "df.columns = ['method','dataset','epochs','metric','values']\n",
    "\n",
    "data = df.sort_values('dataset')\n",
    "\n",
    "sns.set_style(\"darkgrid\")\n",
    "hue_order = ['accuracy','MaxBoxAccV3']\n",
    "g = sns.FacetGrid(data, col=\"dataset\", hue=\"metric\", hue_order=hue_order, sharex=True, sharey=True)\n",
    "g.map_dataframe(sns.lineplot, x=\"epochs\", y=\"values\")\n",
    "g.add_legend()\n",
    "sns.move_legend(g, loc='lower center', bbox_to_anchor=(0.5, -0.1), ncol=2, labelspacing=1.0)\n",
    "g.savefig(f'fig_loc_vs_acc_resnet50_cam_synthetic.png')"
   ]
  },
  {
   "cell_type": "markdown",
   "metadata": {
    "collapsed": false,
    "jupyter": {
     "outputs_hidden": false
    }
   },
   "source": [
    "### Localization metrics"
   ]
  },
  {
   "cell_type": "markdown",
   "metadata": {
    "collapsed": false,
    "jupyter": {
     "outputs_hidden": false
    }
   },
   "source": [
    "#### Non-regularized"
   ]
  },
  {
   "cell_type": "code",
   "execution_count": null,
   "metadata": {
    "collapsed": false,
    "jupyter": {
     "outputs_hidden": false
    }
   },
   "outputs": [],
   "source": [
    "metrics = ['MaxBoxAcc', 'MaxBoxAccV2', 'MaxBoxAccV3_precision', 'MaxBoxAccV3_recall']\n",
    "metric_name = 'Metrics'\n",
    "arch = 'resnet50'\n",
    "arch_type = 'cam'\n",
    "network = 'ResNet-50'\n",
    "dataset = 'ILSVRC'\n",
    "dataset_name = 'ImageNet' if dataset == 'ILSVRC' else 'synthetic'\n",
    "experiment_name = f'mwsol_{arch}_{dataset_name.lower()}'\n",
    "split = 'val' if dataset == 'ILSVRC' else 'test'\n",
    "caption=f'{metric_name} for {network} on {dataset_name}'\n",
    "label=f'tb:{metric_name}_{arch}_{dataset_name}'.lower()\n",
    "conditions = {\n",
    "    'tags.dataset': dataset,\n",
    "    'tags.architecture': arch,\n",
    "    'tags.architecture_type': arch_type,\n",
    "    'status': 'FINISHED'\n",
    "}\n",
    "runs = mlflow_get_runs(experiment_name, conditions)\n",
    "runs = runs.loc[runs.start_time > '2023-05-01']\n",
    "runs = runs.loc[runs['tags.method']!='minmaxcam']\n",
    "dataframe_to_latex(runs, split=split, metrics=metrics, label=label, caption=caption)"
   ]
  },
  {
   "cell_type": "markdown",
   "metadata": {
    "collapsed": false,
    "jupyter": {
     "outputs_hidden": false
    }
   },
   "source": [
    "#### MinMaxCAM-regularized"
   ]
  },
  {
   "cell_type": "code",
   "execution_count": null,
   "metadata": {
    "collapsed": false,
    "jupyter": {
     "outputs_hidden": false
    }
   },
   "outputs": [],
   "source": [
    "metrics = None\n",
    "metric_name = 'Metrics'\n",
    "arch = 'resnet50'\n",
    "arch_type = 'cam'\n",
    "network = 'ResNet-50'\n",
    "dataset = 'ILSVRC'\n",
    "dataset_name = 'ImageNet' if dataset == 'ILSVRC' else 'synthetic'\n",
    "experiment_name = f'mwsol3_{arch}_{dataset_name.lower()}'\n",
    "split = 'val' if dataset == 'ILSVRC' else 'test'\n",
    "caption=f'{metric_name} for {network} on {dataset_name}'\n",
    "label=f'tb:{metric_name}_{arch}_{dataset_name}'.lower()\n",
    "conditions = {\n",
    "    'tags.dataset': dataset,\n",
    "    'tags.architecture': arch,\n",
    "    'tags.architecture_type': arch_type,\n",
    "    'tags.label': 'minmaxcam',\n",
    "    'status': 'FINISHED'\n",
    "}\n",
    "mlflow_runs_to_latex(experiment_name, conditions=conditions, split=split, metrics=metrics, caption=caption, label=label)"
   ]
  },
  {
   "cell_type": "markdown",
   "source": [
    "### Visual explanations non-regularized"
   ],
   "metadata": {
    "collapsed": false
   }
  },
  {
   "cell_type": "code",
   "execution_count": null,
   "outputs": [],
   "source": [
    "from torchvision.io.image import read_image\n",
    "from torchvision.transforms.functional import to_pil_image\n",
    "\n",
    "image_no_list = list(range(1,21))\n",
    "# image_no_list = [1, 15]\n",
    "# image_no_list = [2,3,4,8]\n",
    "arch = 'resnet50'\n",
    "arch_type = 'cam'\n",
    "network = 'ResNet-50'\n",
    "dataset = 'ILSVRC'\n",
    "dataset_name = 'ImageNet' if dataset == 'ILSVRC' else 'synthetic'\n",
    "experiment_name = f'mwsol_{arch}_{dataset_name.lower()}'\n",
    "split = 'val' if dataset == 'ILSVRC' else 'test'\n",
    "iter = 0\n",
    "conditions = {\n",
    "    'tags.dataset': dataset,\n",
    "    'tags.architecture': arch,\n",
    "    'tags.architecture_type': arch_type,\n",
    "    'status': 'FINISHED'\n",
    "}\n",
    "dfv = mlflow_get_runs(experiment_name, conditions)\n",
    "dfv = dfv.loc[dfv.start_time > '2023-05-01'] # use newest experiment runs\n",
    "dfv = dfv.loc[dfv['tags.method'] != 'minmaxcam'] # non-regularized\n",
    "dfv.loc[:, 'artifact_uri'] = dfv['artifact_uri'].str.removeprefix('file://')\n",
    "\n",
    "dfv = dfv.loc[:, ['tags.method', 'artifact_uri', 'metrics.val_MaxBoxAccV3_optimal_threshold_IOU_50']]\n",
    "dfv = dfv.sort_values('tags.method')\n",
    "dfv_dict = dfv.set_index('tags.method').to_dict()\n",
    "uris_vanilla = dfv_dict['artifact_uri']\n",
    "opt_thresholds_vanilla = list(dfv_dict['metrics.val_MaxBoxAccV3_optimal_threshold_IOU_50'].values())\n",
    "\n",
    "experiment_name = f'mwsol3_{arch}_{dataset_name.lower()}'\n",
    "conditions = {\n",
    "    'tags.dataset': dataset,\n",
    "    'tags.architecture': arch,\n",
    "    'tags.architecture_type': arch_type,\n",
    "    'status': 'FINISHED'\n",
    "}\n",
    "dfm = mlflow_get_runs(experiment_name, conditions)\n",
    "dfm = dfm.loc[dfm.start_time > '2023-05-01'] # use newest experiment runs\n",
    "dfm = dfm.loc[dfm['tags.method'] != 'minmaxcam'] # non-regularized\n",
    "dfm.loc[:, 'artifact_uri'] = dfm['artifact_uri'].str.removeprefix('file://')\n",
    "\n",
    "dfm = dfm.loc[:, ['tags.method', 'artifact_uri', 'metrics.val_MaxBoxAccV3_optimal_threshold_IOU_50']]\n",
    "dfm = dfm.sort_values('tags.method')\n",
    "dfm_dict = dfm.set_index('tags.method').to_dict()\n",
    "uris_minmaxcam = dfm_dict['artifact_uri']\n",
    "opt_thresholds_minmaxcam = list(dfm_dict['metrics.val_MaxBoxAccV3_optimal_threshold_IOU_50'].values())\n",
    "\n",
    "uris_list = [uris_vanilla, uris_minmaxcam]\n",
    "opt_thresholds_list = [opt_thresholds_vanilla, opt_thresholds_minmaxcam]\n",
    "regularization_list = ['Vanilla', 'MinMaxCAM']\n",
    "for image_no in image_no_list:\n",
    "    fig, axes = plt.subplots(2, len(uris_vanilla) + 1, figsize=(16, 8))\n",
    "    for row, (uris, opt_thresholds, regularization) in enumerate(zip(uris_list, opt_thresholds_list, regularization_list)):\n",
    "        filebase = f'ILSVRC2012_{split}_{image_no:0>8}'\n",
    "        file_img = filebase + f'_img_{iter}.png'\n",
    "        file_ann = filebase + f'_ann_{iter}.png'\n",
    "        file_cam = filebase + f'_cam_{iter}.png'\n",
    "        file_seg = filebase + f'_seg_{iter}.png'\n",
    "        image_id = f'{split}/ILSVRC2012_{split}_{image_no:0>8}.JPEG'\n",
    "        path_img_orig = os.path.join(f'/Users/goemaereg/github.com/thesis/data/dataset/ILSVRC/{image_id}')\n",
    "        img = read_image(path=path_img_orig)\n",
    "        axes[row, 0].imshow(to_pil_image(img))\n",
    "        axes[row, 0].axis('off')\n",
    "        class_id = class_labels[image_id]\n",
    "        label_name = label_names[str(class_id)]\n",
    "        axes[row, 0].set_title(f'image ({label_name})')\n",
    "        for col, (method, uri) in enumerate(uris.items()):\n",
    "            path_img = os.path.join(uri, 'xai', split, file_ann)\n",
    "            img = read_image(path=path_img)\n",
    "            axes[row, col+1].imshow(to_pil_image(img))\n",
    "            axes[row, col+1].axis('off')\n",
    "            title = f\"{labels_methods[method]} (\" + r'$\\tau^*' + ' = ' + f'{opt_thresholds[col]:.2f}$) | {regularization}'\n",
    "            axes[row, col+1].set_title(title)\n",
    "    plt.tight_layout()\n",
    "    # plt.savefig(f'fig_explain_resnet50_imagenet.png', dpi=fig.dpi)\n",
    "    plt.show()"
   ],
   "metadata": {
    "collapsed": false
   }
  },
  {
   "cell_type": "markdown",
   "metadata": {
    "collapsed": false,
    "jupyter": {
     "outputs_hidden": false
    }
   },
   "source": [
    "### Visual explanation non-regularized vs MinMaxCam-regularized"
   ]
  },
  {
   "cell_type": "code",
   "execution_count": null,
   "metadata": {
    "collapsed": false,
    "jupyter": {
     "outputs_hidden": false
    }
   },
   "outputs": [],
   "source": [
    "from torchvision.io.image import read_image\n",
    "from torchvision.transforms.functional import to_pil_image\n",
    "import pandas as pd\n",
    "\n",
    "image_no_list = list(range(1,21))\n",
    "# image_no_list = [1,2,3,4,8]\n",
    "arch = 'resnet50'\n",
    "arch_type = 'cam'\n",
    "network = 'ResNet-50'\n",
    "dataset = 'ILSVRC'\n",
    "dataset_name = 'ImageNet' if dataset == 'ILSVRC' else 'synthetic'\n",
    "experiment_name = f'mwsol_{arch}_{dataset_name.lower()}'\n",
    "split = 'val' if dataset == 'ILSVRC' else 'test'\n",
    "iter = 0\n",
    "conditions = {\n",
    "    'tags.dataset': dataset,\n",
    "    'tags.architecture': arch,\n",
    "    'tags.architecture_type': arch_type,\n",
    "    'tags.method': 'cam',\n",
    "    'status': 'FINISHED'\n",
    "}\n",
    "df = mlflow_get_runs(experiment_name, conditions)\n",
    "df = df.loc[df.start_time > '2023-05-01']\n",
    "df = df.loc[df['tags.method'] != 'minmaxcam']\n",
    "\n",
    "experiment_name = f'mwsol3_{arch}_{dataset_name.lower()}'\n",
    "conditions = {\n",
    "    'tags.dataset': dataset,\n",
    "    'tags.architecture': arch,\n",
    "    'tags.architecture_type': arch_type,\n",
    "    'tags.method': 'cam',\n",
    "    'tags.label': 'minmaxcam',\n",
    "    'status': 'FINISHED'\n",
    "}\n",
    "df2 = mlflow_get_runs(experiment_name, conditions)\n",
    "df2 = df2.replace({'tags.method': {'cam':'minmaxcam'}})\n",
    "df = pd.concat([df, df2], axis=0, ignore_index=True)\n",
    "\n",
    "df.loc[:, 'artifact_uri'] = df['artifact_uri'].str.removeprefix('file://')\n",
    "df = df.loc[:, ['tags.method', 'artifact_uri']]\n",
    "df = df.sort_values('tags.method')\n",
    "df_dict = df.set_index('tags.method').to_dict()\n",
    "uris = df_dict['artifact_uri']\n",
    "for image_no in image_no_list:\n",
    "    filebase = f'ILSVRC2012_{split}_{image_no:0>8}'\n",
    "    file_img = filebase + f'_img_{iter}.png'\n",
    "    file_ann = filebase + f'_ann_{iter}.png'\n",
    "    file_cam = filebase + f'_cam_{iter}.png'\n",
    "    file_seg = filebase + f'_seg_{iter}.png'\n",
    "    image_id = f'{split}/ILSVRC2012_{split}_{image_no:0>8}.JPEG'\n",
    "    path_img_orig = os.path.join(f'/Users/goemaereg/github.com/thesis/data/dataset/ILSVRC/{image_id}')\n",
    "    _, axes = plt.subplots(1, len(uris) + 1, figsize=(16, 8))\n",
    "    img = read_image(path=path_img_orig)\n",
    "    axes[0].imshow(to_pil_image(img))\n",
    "    axes[0].axis('off')\n",
    "    class_id = class_labels[image_id]\n",
    "    label_name = label_names[str(class_id)]\n",
    "    axes[0].set_title(f'image ({label_name})')\n",
    "    for i, (method, uri) in enumerate(uris.items()):\n",
    "        path_img = os.path.join(uri, 'xai', split, file_ann)\n",
    "        img = read_image(path=path_img)\n",
    "        axes[i+1].imshow(to_pil_image(img))\n",
    "        axes[i+1].axis('off')\n",
    "        axes[i+1].set_title(labels_methods[method])\n",
    "    plt.show()"
   ]
  },
  {
   "cell_type": "markdown",
   "metadata": {
    "collapsed": false,
    "jupyter": {
     "outputs_hidden": false
    }
   },
   "source": [
    "### Localization in function of object instances"
   ]
  },
  {
   "cell_type": "code",
   "execution_count": null,
   "metadata": {
    "collapsed": false,
    "jupyter": {
     "outputs_hidden": false
    }
   },
   "outputs": [],
   "source": [
    "import munch\n",
    "import pandas as pd\n",
    "from src.data_loaders import get_bounding_boxes\n",
    "\n",
    "def mch(**kwargs):\n",
    "    return munch.Munch(dict(**kwargs))\n",
    "\n",
    "def configure_metadata(metadata_root):\n",
    "    metadata = mch()\n",
    "    metadata.image_ids = os.path.join(metadata_root, 'image_ids.txt')\n",
    "    metadata.image_ids_proxy = os.path.join(metadata_root,\n",
    "                                            'image_ids_proxy.txt')\n",
    "    metadata.class_labels = os.path.join(metadata_root, 'class_labels.txt')\n",
    "    metadata.image_sizes = os.path.join(metadata_root, 'image_sizes.txt')\n",
    "    metadata.localization = os.path.join(metadata_root, 'localization.txt')\n",
    "    return metadata"
   ]
  },
  {
   "cell_type": "code",
   "execution_count": null,
   "metadata": {
    "collapsed": false,
    "jupyter": {
     "outputs_hidden": false
    }
   },
   "outputs": [],
   "source": [
    "data_root = '../data/dataset'\n",
    "metadata_root = '../data/metadata'\n",
    "dataset_list = ['CUB', 'ILSVRC', 'SYNTHETIC']\n",
    "_SPLITS = ('train', 'val', 'test')\n",
    "metadata_path = os.path.join(metadata_root, 'ILSVRC')\n",
    "metadata_splits = {split: configure_metadata(os.path.join(metadata_path, split)) for split in _SPLITS}\n",
    "\n",
    "bboxes_dict = get_bounding_boxes(metadata_splits['val'])\n",
    "bb_val = {}\n",
    "num_to_imgids = {}\n",
    "for image_id, bboxes in bboxes_dict.items():\n",
    "    instances = len(bboxes)\n",
    "    if instances in bb_val:\n",
    "        bb_val[instances] += 1\n",
    "        num_to_imgids[instances].append(image_id)\n",
    "    else:\n",
    "        bb_val[instances] = 1\n",
    "        num_to_imgids[instances] = [image_id]\n",
    "num_to_imgids = dict(sorted(num_to_imgids.items()))\n",
    "bb_val = dict(sorted(bb_val.items()))\n",
    "bb_dict = {'instances': bb_val.keys(), 'images': bb_val.values()}\n",
    "df_bb = pd.DataFrame(bb_dict)\n",
    "total_images = np.sum(df_bb.loc[:, 'images'])\n",
    "df_bb.loc[:, 'fraction'] = df_bb.loc[:, 'images'].div(total_images)\n",
    "df_bb"
   ]
  },
  {
   "cell_type": "code",
   "execution_count": null,
   "metadata": {
    "collapsed": false,
    "jupyter": {
     "outputs_hidden": false
    }
   },
   "outputs": [],
   "source": [
    "metrics = None\n",
    "metric_name = 'Metrics'\n",
    "arch = 'resnet50'\n",
    "arch_type = 'cam'\n",
    "network = 'ResNet-50'\n",
    "dataset = 'ILSVRC'\n",
    "dataset_name = 'ImageNet' if dataset == 'ILSVRC' else 'synthetic'\n",
    "experiment_name = f'mwsol3_{arch}_{dataset_name.lower()}_inst'\n",
    "split = 'val' if dataset == 'ILSVRC' else 'test'\n",
    "conditions = {\n",
    "    'tags.dataset': dataset,\n",
    "    'tags.architecture': arch,\n",
    "    'tags.architecture_type': arch_type,\n",
    "    'tags.method': 'cam',\n",
    "    'status': 'FINISHED'\n",
    "}\n",
    "df = mlflow_get_runs(experiment_name, conditions=conditions)\n",
    "cols = ['tags.method', 'tags.filter_instances', f'metrics.{split}_MaxBoxAccV3_f1', f'metrics.{split}_MaxBoxAccV3_precision', f'metrics.{split}_MaxBoxAccV3_recall']\n",
    "cols_renamed = ['method', 'instances', 'f1', 'precision', 'recall']\n",
    "mapper = dict(zip(cols, cols_renamed))\n",
    "df = df.loc[:, cols].rename(columns=mapper)\n",
    "df = df.replace({'method': labels_methods})\n",
    "for metric in ['precision', 'recall', 'f1']:\n",
    "    df[metric] *= 100 # to percentage\n",
    "df.loc[:, 'instances'] = df.instances.astype(int)\n",
    "df = df.merge(df_bb, on='instances', how='inner')\n",
    "df = df.sort_values(['instances'], ascending=[False])\n",
    "sns.set_style(\"darkgrid\")\n",
    "sns.set_context(\"paper\")\n",
    "ax = sns.barplot(data=df, y=\"instances\", x=\"recall\", color='blue', orient='h', order=df['instances'])\n",
    "ax.bar_label(ax.containers[0], fmt=' %.2f')\n",
    "ax.set_xlim(0, 100)\n",
    "plt.savefig(f'fig_resnet50_imagenet_inst_recall.png')"
   ]
  },
  {
   "cell_type": "code",
   "execution_count": null,
   "metadata": {
    "collapsed": false,
    "jupyter": {
     "outputs_hidden": false
    }
   },
   "outputs": [],
   "source": [
    "df.sort_values('instances', ascending=True)"
   ]
  },
  {
   "cell_type": "markdown",
   "metadata": {
    "collapsed": false,
    "jupyter": {
     "outputs_hidden": false
    }
   },
   "source": [
    "### Localization performance at varying CAM thresholds"
   ]
  },
  {
   "cell_type": "code",
   "execution_count": null,
   "metadata": {
    "collapsed": false,
    "jupyter": {
     "outputs_hidden": false
    }
   },
   "outputs": [],
   "source": [
    "metrics = None\n",
    "metric_name = 'Metrics'\n",
    "arch = 'resnet50'\n",
    "arch_type = 'cam'\n",
    "network = 'ResNet-50'\n",
    "dataset = 'ILSVRC'\n",
    "dataset_name = 'ImageNet' if dataset == 'ILSVRC' else 'synthetic'\n",
    "experiment_name = f'mwsol3_{arch}_{dataset_name.lower()}_inst'\n",
    "split = 'val' if dataset == 'ILSVRC' else 'test'\n",
    "conditions = {\n",
    "    'tags.dataset': dataset,\n",
    "    'tags.architecture': arch,\n",
    "    'tags.architecture_type': arch_type,\n",
    "    'tags.method': 'cam',\n",
    "    'status': 'FINISHED'\n",
    "}\n",
    "df = mlflow_get_runs(experiment_name, conditions=conditions)\n",
    "cols = ['tags.method', 'tags.filter_instances', f'metrics.{split}_MaxBoxAccV3_f1', f'metrics.{split}_MaxBoxAccV3_precision', f'metrics.{split}_MaxBoxAccV3_recall']\n",
    "cols_renamed = ['method', 'instances', 'f1', 'precision', 'recall']\n",
    "mapper = dict(zip(cols, cols_renamed))\n",
    "df = df.loc[:, cols].rename(columns=mapper)\n",
    "df = df.replace({'method': labels_methods})\n",
    "for metric in ['precision', 'recall', 'f1']:\n",
    "    df[metric] *= 100 # to percentage\n",
    "df.loc[:, 'instances'] = df.instances.astype(int)\n",
    "df = df.merge(df_bb, on='instances', how='inner')\n",
    "df = df.sort_values(['instances'], ascending=[False])\n",
    "sns.set_style(\"darkgrid\")\n",
    "sns.set_context(\"paper\")\n",
    "ax = sns.barplot(data=df, y=\"instances\", x=\"precision\", color='blue', orient='h', order=df['instances'])\n",
    "ax.bar_label(ax.containers[0], fmt=' %.2f')\n",
    "ax.set_xlim(0, 100)\n",
    "plt.savefig(f'fig_resnet50_imagenet_inst_precision.png')"
   ]
  },
  {
   "cell_type": "code",
   "execution_count": null,
   "metadata": {
    "collapsed": false,
    "jupyter": {
     "outputs_hidden": false
    }
   },
   "outputs": [],
   "source": [
    "metrics = None\n",
    "metric_name = 'Metrics'\n",
    "arch = 'resnet50'\n",
    "arch_type = 'cam'\n",
    "network = 'ResNet-50'\n",
    "dataset = 'ILSVRC'\n",
    "dataset_name = 'ImageNet' if dataset == 'ILSVRC' else 'synthetic'\n",
    "experiment_name = f'mwsol3_{arch}_{dataset_name.lower()}_inst'\n",
    "split = 'val' if dataset == 'ILSVRC' else 'test'\n",
    "conditions = {\n",
    "    'tags.dataset': dataset,\n",
    "    'tags.architecture': arch,\n",
    "    'tags.architecture_type': arch_type,\n",
    "    'tags.method': 'cam',\n",
    "    'status': 'FINISHED'\n",
    "}\n",
    "df = mlflow_get_runs(experiment_name, conditions=conditions)\n",
    "cols = ['tags.method', 'tags.filter_instances', f'metrics.{split}_MaxBoxAccV3_precision', f'metrics.{split}_MaxBoxAccV3_recall']\n",
    "cols_renamed = ['method', 'instances', 'precision', 'recall']\n",
    "mapper = dict(zip(cols, cols_renamed))\n",
    "df = df.loc[:, cols].rename(columns=mapper)\n",
    "df = df.replace({'method': labels_methods})\n",
    "for metric in ['precision', 'recall']:\n",
    "    df[metric] *= 100 # to percentage\n",
    "df.loc[:, 'instances'] = df.instances.astype(int)\n",
    "df = df.merge(df_bb, on='instances', how='inner')\n",
    "df = df.loc[:, ['instances', 'precision', 'recall']]\n",
    "df = df.sort_values(['instances'])\n",
    "df = df.set_index('instances').stack().reset_index()\n",
    "df.columns = ['instances', 'metric', 'values']\n",
    "sns.set_style(\"darkgrid\")\n",
    "sns.set_context(\"paper\")\n",
    "ax = sns.barplot(data=df, y=\"instances\", x=\"values\", hue='metric', hue_order=['precision','recall'], orient='h')\n",
    "for container in ax.containers:\n",
    "    ax.bar_label(container, fmt='%.2f')\n",
    "ax.set_xlim(0, 100)"
   ]
  },
  {
   "cell_type": "code",
   "execution_count": null,
   "metadata": {
    "collapsed": false,
    "jupyter": {
     "outputs_hidden": false
    }
   },
   "outputs": [],
   "source": [
    "experiment_name = 'mwsol_resnet50_imagenet'\n",
    "conditions = {\n",
    "    'tags.dataset': 'ILSVRC',\n",
    "    'tags.architecture': 'resnet50',\n",
    "    'tags.architecture_type': 'cam',\n",
    "    'status': 'FINISHED'\n",
    "}\n",
    "boxacc, prcurve = get_mlflow_boxacc_prcurve(experiment_name=experiment_name, conditions=conditions, split='val', box_metric='MaxBoxAccV3', mask_metric=None)\n",
    "# BoxAcc\n",
    "title = f\"ResNet-50 ImageNet BoxAcc\"\n",
    "plot_boxacc(boxacc, title=title, iou_thresholds=[50])\n",
    "if prcurve is not None:\n",
    "    # PR Curve\n",
    "    title = f\"ResNet-50 ImageNet PR Curve\"\n",
    "    plot_prcurve(prcurve, title)"
   ]
  },
  {
   "cell_type": "markdown",
   "metadata": {
    "collapsed": false,
    "jupyter": {
     "outputs_hidden": false
    }
   },
   "source": [
    "# Iterative localization"
   ]
  },
  {
   "cell_type": "markdown",
   "metadata": {
    "collapsed": false,
    "jupyter": {
     "outputs_hidden": false
    }
   },
   "source": [
    "## VGG16-GAP synthetic"
   ]
  },
  {
   "cell_type": "code",
   "execution_count": null,
   "metadata": {
    "collapsed": false,
    "jupyter": {
     "outputs_hidden": false
    }
   },
   "outputs": [],
   "source": [
    "experiment_name = 'mwsol_vgg16_synthetic_iter'\n",
    "conditions = {\n",
    "    'tags.dataset': 'SYNTHETIC',\n",
    "    'tags.dataset_spec': 'd4b',\n",
    "    'tags.architecture': 'vgg16',\n",
    "    'tags.architecture_type': 'cam',\n",
    "    'tags.method': 'cam',\n",
    "    'status': 'FINISHED'\n",
    "}\n",
    "# conditions |= {\n",
    "#     'params.bbox_mask_strategy': 'random',\n",
    "#     'params.bbox_merge_strategy': 'add',\n",
    "#     'params.iter_stop_prob_delta': '0.25',\n",
    "# }\n",
    "df_runs = mlflow_get_runs(experiment_name, conditions)"
   ]
  },
  {
   "cell_type": "code",
   "execution_count": null,
   "metadata": {
    "collapsed": false,
    "jupyter": {
     "outputs_hidden": false
    }
   },
   "outputs": [],
   "source": [
    "import itertools\n",
    "import numpy as np\n",
    "\n",
    "label = 'tab:iter_metrics_vgg16_cam_synthetic'\n",
    "caption = 'Iterative CAM localization metrics for VGG16-GAP on synthetic dataset'\n",
    "metrics = ['MaxBoxAccV3_recall', 'MaxBoxAccV3_precision', 'MaxBoxAccV3_f1']\n",
    "metrics_short = ['recall','precision','f1']\n",
    "split = 'test'\n",
    "\n",
    "df = df_runs\n",
    "cols_metrics_mlflow = [f'metrics.{split}_{metric}' for metric in metrics]\n",
    "cols_params = ['bbox_mask_strategy', 'bbox_merge_strategy', 'iter_stop_prob_delta']\n",
    "cols_params_mlflow = [f'params.{p}' for p in cols_params]\n",
    "cols_mlflow = ['tags.method', 'tags.architecture', 'tags.architecture_type', 'tags.dataset', 'tags.dataset_spec']\n",
    "cols_mlflow += cols_metrics_mlflow + cols_params_mlflow\n",
    "cols_renamed = [c.split('.')[-1] for c in cols_mlflow]\n",
    "mapper = dict(zip(cols_mlflow, cols_renamed))\n",
    "df = df.loc[:, cols_mlflow].rename(columns=mapper)\n",
    "mapper = dict([(f'{split}_{metric}', metric) for metric in metrics])\n",
    "df = df.rename(columns=mapper)\n",
    "mapper = dict(zip(metrics, metrics_short))\n",
    "df = df.rename(columns=mapper)\n",
    "cols_params_short = ['mask', 'merge', 'stop']\n",
    "mapper = dict(zip(cols_params, cols_params_short))\n",
    "df = df.rename(columns=mapper)\n",
    "# df.loc[:, 'dataset'] = df['dataset'].str.cat(df['dataset_spec'], sep='\\_').str.lower()\n",
    "# pd.set_option(\"display.precision\", 2)\n",
    "metrics = metrics_short\n",
    "for metric in metrics:\n",
    "    df[metric] *= 100 # to percentage\n",
    "cols_filter = cols_params_short + metrics\n",
    "df = df.loc[:, cols_filter]\n",
    "cols_pivot = ['merge']\n",
    "cols_index = ['stop', 'mask']\n",
    "pivot_values = [np.sort(df.loc[:, c].unique()).tolist() for c in cols_pivot]\n",
    "df = df.pivot(index=cols_index, columns=cols_pivot, values=metrics)\n",
    "iterables = [metrics]\n",
    "cols_format = dict([(col_index, '{:.2f}') for col_index in itertools.product(metrics, *pivot_values)])\n",
    "s = df.style\n",
    "s = s.format(cols_format)\n",
    "s = s.highlight_max(subset=metrics, axis=0, props='color:{teal}; bfseries: ;')\n",
    "s = s.highlight_min(subset=metrics, axis=0, props='color:{purple}; bfseries: ;')\n",
    "latex_table = s.to_latex(\n",
    "        # column_format=\"llll\" + \"r\"*len(metrics),\n",
    "        position=\"ht\", position_float=\"centering\",\n",
    "        hrules=False, label=label, caption=caption,\n",
    "        multirow_align=\"t\", multicol_align=\"c\")\n",
    "print(latex_table)"
   ]
  },
  {
   "cell_type": "code",
   "execution_count": null,
   "metadata": {
    "collapsed": false,
    "jupyter": {
     "outputs_hidden": false
    }
   },
   "outputs": [],
   "source": [
    "import itertools\n",
    "import numpy as np\n",
    "\n",
    "label = 'tab:iter_metrics_vgg16_cam_synthetic'\n",
    "caption = 'Iterative CAM localization metrics for VGG16-GAP on synthetic dataset'\n",
    "metrics = ['MaxBoxAccV3_recall', 'MaxBoxAccV3_precision', 'MaxBoxAccV3_f1']\n",
    "metrics_short = ['recall','precision','f1']\n",
    "split = 'test'\n",
    "\n",
    "df = df_runs\n",
    "cols_metrics_mlflow = [f'metrics.{split}_{metric}' for metric in metrics]\n",
    "cols_params = ['bbox_mask_strategy', 'bbox_merge_strategy', 'iter_stop_prob_delta']\n",
    "cols_params_mlflow = [f'params.{p}' for p in cols_params]\n",
    "cols_mlflow = ['tags.method', 'tags.architecture', 'tags.architecture_type', 'tags.dataset', 'tags.dataset_spec']\n",
    "cols_mlflow += cols_metrics_mlflow + cols_params_mlflow\n",
    "cols_renamed = [c.split('.')[-1] for c in cols_mlflow]\n",
    "mapper = dict(zip(cols_mlflow, cols_renamed))\n",
    "df = df.loc[:, cols_mlflow].rename(columns=mapper)\n",
    "mapper = dict([(f'{split}_{metric}', metric) for metric in metrics])\n",
    "df = df.rename(columns=mapper)\n",
    "mapper = dict(zip(metrics, metrics_short))\n",
    "df = df.rename(columns=mapper)\n",
    "cols_params_short = ['mask', 'merge', 'stop']\n",
    "mapper = dict(zip(cols_params, cols_params_short))\n",
    "df = df.rename(columns=mapper)\n",
    "# df.loc[:, 'dataset'] = df['dataset'].str.cat(df['dataset_spec'], sep='\\_').str.lower()\n",
    "# pd.set_option(\"display.precision\", 2)\n",
    "metrics = metrics_short\n",
    "for metric in metrics:\n",
    "    df[metric] *= 100 # to percentage\n",
    "cols_filter = cols_params_short + metrics\n",
    "df = df.loc[:, cols_filter]\n",
    "cols_pivot = ['merge']\n",
    "cols_index = ['stop', 'mask']\n",
    "pivot_values = [np.sort(df.loc[:, c].unique()).tolist() for c in cols_pivot]\n",
    "df = df.pivot(index=cols_index, columns=cols_pivot, values=metrics)\n",
    "cols_format = dict([(col_index, '{:.2f}') for col_index in itertools.product(metrics, *pivot_values)])\n",
    "s = df.style\n",
    "s = s.format(cols_format)\n",
    "s = s.highlight_max(subset=metrics, axis=0, props='color:{teal}; bfseries: ;')\n",
    "s = s.highlight_min(subset=metrics, axis=0, props='color:{purple}; bfseries: ;')\n",
    "latex_table = s.to_latex(\n",
    "        # column_format=\"llll\" + \"r\"*len(metrics),\n",
    "        position=\"ht\", position_float=\"centering\",\n",
    "        hrules=False, label=label, caption=caption,\n",
    "        multirow_align=\"t\", multicol_align=\"c\")\n",
    "print(latex_table)"
   ]
  },
  {
   "cell_type": "code",
   "execution_count": null,
   "metadata": {
    "collapsed": false,
    "jupyter": {
     "outputs_hidden": false
    }
   },
   "outputs": [],
   "source": [
    "experiment_name = 'mwsol_vgg16_synthetic_iter'\n",
    "split = 'test'\n",
    "conditions = {\n",
    "    'tags.dataset': 'SYNTHETIC',\n",
    "    'tags.architecture': 'vgg16',\n",
    "    'tags.architecture_type': 'cam',\n",
    "    'status': 'FINISHED'\n",
    "}\n",
    "# conditions |= {'tags.dataset_spec': 'd4b'}\n",
    "# conditions |= {\n",
    "#     'params.bbox_mask_strategy': 'mean',\n",
    "#     'params.bbox_merge_strategy': 'unify',\n",
    "#     'params.iter_stop_prob_delta': '0.5',\n",
    "# }\n",
    "\n",
    "df = mlflow_get_runs(experiment_name, conditions)\n",
    "\n",
    "label = 'tab:iter_metrics_vgg16_cam_synthetic'\n",
    "caption = 'Iterative localization metrics for VGG16-GAP on synthetic dataset'\n",
    "cols_metrics = ['MaxBoxAccV3_recall', 'MaxBoxAccV3_precision', 'MaxBoxAccV3_f1']\n",
    "cols_metrics_mlflow = [f'metrics.{split}_{metric}' for metric in cols_metrics]\n",
    "cols_metrics_short = ['recall','precision','f1']\n",
    "cols_params = ['bbox_mask_strategy', 'bbox_merge_strategy', 'iter_stop_prob_delta']\n",
    "cols_params_mlflow = [f'params.{p}' for p in cols_params]\n",
    "cols_params_short = ['mask', 'merge', 'stop']\n",
    "cols_tags_mlflow = ['tags.method', 'tags.dataset_spec']\n",
    "cols_tags_short = ['method', 'dataset']\n",
    "\n",
    "cols_mlflow = cols_tags_mlflow + cols_params_mlflow + cols_metrics_mlflow\n",
    "cols_renamed = cols_tags_short + cols_params_short + cols_metrics_short\n",
    "mapper = dict(zip(cols_mlflow, cols_renamed))\n",
    "df = df.loc[:, cols_mlflow].rename(columns=mapper)\n",
    "\n",
    "metrics = cols_metrics_short\n",
    "for metric in metrics:\n",
    "    df[metric] *= 100 # to percentage"
   ]
  },
  {
   "cell_type": "code",
   "execution_count": null,
   "metadata": {
    "collapsed": false,
    "jupyter": {
     "outputs_hidden": false
    }
   },
   "outputs": [],
   "source": [
    "# baseline without iteration\n",
    "experiment_name = 'mwsol3_vgg16_synthetic'#'mwsol_vgg16_synthetic'\n",
    "conditions = {\n",
    "    'tags.dataset': 'SYNTHETIC',\n",
    "    'tags.architecture': 'vgg16',\n",
    "    'tags.architecture_type': 'cam',\n",
    "    'status': 'FINISHED'\n",
    "}\n",
    "split = 'test'\n",
    "df_base = mlflow_get_runs(experiment_name, conditions)\n",
    "df_base = df_base.loc[((df_base['tags.method'] != \"minmaxcam\") & (df_base['tags.label'] == \"gap\")) | (df_base['tags.method'] == \"minmaxcam\")]\n",
    "cols = ['tags.method', 'tags.dataset_spec',\n",
    "        f'metrics.{split}_MaxBoxAccV3_f1', f'metrics.{split}_MaxBoxAccV3_precision', f'metrics.{split}_MaxBoxAccV3_recall']\n",
    "cols_renamed = ['method', 'spec', 'f1', 'precision', 'recall']\n",
    "df_base = df_base.loc[:, cols]\n",
    "df_base = df_base.rename(columns=dict(zip(cols, cols_renamed)))\n",
    "prec_base = df_base.set_index(['spec', 'method']).to_dict()\n",
    "\n",
    "# iterative experiments\n",
    "experiment_name = 'mwsol_vgg16_synthetic_iter'\n",
    "conditions = {\n",
    "    'tags.dataset': 'SYNTHETIC',\n",
    "    'tags.architecture': 'vgg16',\n",
    "    'tags.architecture_type': 'cam',\n",
    "    'status': 'FINISHED'\n",
    "}\n",
    "# conditions |= {\n",
    "#     'params.bbox_mask_strategy': 'random',\n",
    "#     'params.bbox_merge_strategy': 'add',\n",
    "#     'params.iter_stop_prob_delta': '0.25',\n",
    "# }\n",
    "df = mlflow_get_runs(experiment_name, conditions)\n",
    "cols = ['tags.method', 'tags.dataset_spec',\n",
    "        'params.bbox_mask_strategy', 'params.bbox_merge_strategy', 'params.iter_stop_prob_delta',\n",
    "        f'metrics.{split}_MaxBoxAccV3_f1', f'metrics.{split}_MaxBoxAccV3_precision', f'metrics.{split}_MaxBoxAccV3_recall']\n",
    "cols_renamed = ['method', 'spec',\n",
    "                'mask', 'merge', 'stop',\n",
    "                'f1', 'precision', 'recall']\n",
    "mapper = dict(zip(cols, cols_renamed))\n",
    "df = df.loc[:, cols].rename(columns=mapper)\n",
    "df = df.replace({'method': labels_methods})\n",
    "for metric in ['precision', 'recall', 'f1']:\n",
    "    df[metric] *= 100 # to percentage\n",
    "df = df.sort_values(['method', 'spec'])\n",
    "for spec in [f'd{i}b' for i in range(1,5)]:\n",
    "    df2 = df.loc[(df['spec'] == spec)]\n",
    "    sns.set_style(\"darkgrid\")\n",
    "    sns.set_context(\"paper\")\n",
    "    markers = {'drop': 'v', 'add': '^', 'unify':'o'}\n",
    "    sizes = {'0.25': 50, '0.5': 100, '1.0': 150}\n",
    "    size_order = ['0.25', '0.5', '1.0']\n",
    "    hue_order = ['mean','random','zero']\n",
    "    sns_fig = sns.relplot(data=df2, x=\"recall\", y=\"precision\", hue=\"mask\", style=\"merge\",\n",
    "                          size=\"stop\", size_order=size_order, col='method', col_wrap=2,\n",
    "                          markers=markers, sizes=sizes, hue_order=hue_order, alpha=0.5)\n",
    "    sns.move_legend(sns_fig, loc='center right', bbox_to_anchor=(1.02, 0.5), labelspacing=1.0, frameon=True)\n",
    "\n",
    "    # flatten axes into a 1-d array\n",
    "    axes = sns_fig.axes.flatten()\n",
    "    # iterate through the axes\n",
    "    methods = ['cam', 'gradcam++', 'minmaxcam', 'scorecam']\n",
    "    for i, ax in enumerate(axes):\n",
    "        method = methods[i]\n",
    "        precision = prec_base['precision'][(spec, method)] * 100\n",
    "        recall = prec_base['recall'][(spec, method)] * 100\n",
    "        line_prec = ax.axhline(precision, ls='--', c='purple', label='precision', alpha=0.5)\n",
    "        line_rec = ax.axvline(recall, ls='--', c='teal', label='recall', alpha=0.5)\n",
    "        if i == 1:\n",
    "            lines = [line_prec, line_rec]\n",
    "            labels = ['precision', 'recall']\n",
    "            legend = ax.legend(lines, labels, bbox_to_anchor=(1.02, 1.0), loc='upper left', title='baseline', frameon=True)\n",
    "    sns_fig.savefig(f'fig_iter_vgg16_gap_syn_{spec}.png')"
   ]
  },
  {
   "cell_type": "markdown",
   "metadata": {
    "collapsed": false,
    "jupyter": {
     "outputs_hidden": false
    }
   },
   "source": [
    "## ResNet-50 synthetic"
   ]
  },
  {
   "cell_type": "markdown",
   "source": [
    "### Oracle-based iterative localization"
   ],
   "metadata": {
    "collapsed": false
   }
  },
  {
   "cell_type": "code",
   "execution_count": null,
   "metadata": {
    "collapsed": false,
    "jupyter": {
     "outputs_hidden": false
    }
   },
   "outputs": [],
   "source": [
    "# baseline without iteration\n",
    "experiment_name = 'mwsol3_resnet50_synthetic'\n",
    "conditions = {\n",
    "    'tags.dataset': 'SYNTHETIC',\n",
    "    'tags.architecture': 'resnet50',\n",
    "    'tags.architecture_type': 'cam',\n",
    "    'status': 'FINISHED'\n",
    "}\n",
    "split = 'test'\n",
    "df_base = mlflow_get_runs(experiment_name, conditions)\n",
    "df_base = df_base.loc[\n",
    "    ((df_base['tags.method'] != \"minmaxcam\") & (df_base['tags.label'] == \"gap\")) | (df_base['tags.method'] == \"minmaxcam\")]\n",
    "cols = ['tags.method', 'tags.dataset_spec',\n",
    "        f'metrics.{split}_MaxBoxAccV3_f1', f'metrics.{split}_MaxBoxAccV3_precision', f'metrics.{split}_MaxBoxAccV3_recall']\n",
    "cols_renamed = ['method', 'spec', 'f1', 'precision', 'recall']\n",
    "df_base = df_base.loc[:, cols]\n",
    "df_base = df_base.rename(columns=dict(zip(cols, cols_renamed)))\n",
    "# replace gradcam method by cam: localization results are identical for resnet50 but in the iter dataset, cam is used.\n",
    "# df_base = df_base.replace({'method': {'gradcam':'cam'}})\n",
    "prec_base = df_base.set_index(['spec', 'method']).to_dict()\n",
    "\n",
    "# iterative experiments\n",
    "experiment_name = 'mwsol3_resnet50_synthetic_iter'\n",
    "conditions = {\n",
    "    'tags.dataset': 'SYNTHETIC',\n",
    "    'tags.architecture': 'resnet50',\n",
    "    'tags.architecture_type': 'cam',\n",
    "    'status': 'FINISHED'\n",
    "}\n",
    "# conditions |= {\n",
    "#     'params.bbox_mask_strategy': 'random',\n",
    "#     'params.bbox_merge_strategy': 'add',\n",
    "#     'params.iter_stop_prob_delta': '0.25',\n",
    "# }\n",
    "df = mlflow_get_runs(experiment_name, conditions)\n",
    "cols = ['tags.method', 'tags.dataset_spec',\n",
    "        'params.bbox_mask_strategy', 'params.bbox_merge_strategy', 'params.iter_stop_prob_delta',\n",
    "        f'metrics.{split}_MaxBoxAccV3_f1', f'metrics.{split}_MaxBoxAccV3_precision', f'metrics.{split}_MaxBoxAccV3_recall']\n",
    "cols_renamed = ['method', 'spec',\n",
    "                'mask', 'merge', 'stop',\n",
    "                'f1', 'precision', 'recall']\n",
    "mapper = dict(zip(cols, cols_renamed))\n",
    "df = df.loc[:, cols].rename(columns=mapper)\n",
    "df = df.replace({'method': labels_methods})\n",
    "for metric in ['precision', 'recall', 'f1']:\n",
    "    df[metric] *= 100 # to percentage\n",
    "df = df.sort_values(['method', 'spec'])\n",
    "for spec in [f'd{i}b' for i in range(1,5)]:\n",
    "    df2 = df.loc[(df['spec'] == spec)]\n",
    "    sns.set_style(\"darkgrid\")\n",
    "    sns.set_context(\"paper\")\n",
    "    markers = {'drop': 'v', 'add': '^', 'unify':'o'}\n",
    "    sizes = {'0.25': 50, '0.5': 100, '1.0': 150}\n",
    "    size_order = ['0.25', '0.5', '1.0']\n",
    "    hue_order = ['mean','random','zero']\n",
    "    sns_fig = sns.relplot(data=df2, x=\"recall\", y=\"precision\", hue=\"mask\", style=\"merge\",\n",
    "                          size=\"stop\", size_order=size_order, col='method', col_wrap=2,\n",
    "                          markers=markers, sizes=sizes, hue_order=hue_order, alpha=0.5)\n",
    "    sns.move_legend(sns_fig, loc='center right', bbox_to_anchor=(1.02, 0.5), labelspacing=1.0, frameon=True)\n",
    "\n",
    "    # flatten axes into a 1-d array\n",
    "    axes = sns_fig.axes.flatten()\n",
    "    # iterate through the axes\n",
    "    methods = ['cam', 'gradcam++', 'minmaxcam', 'scorecam']\n",
    "    for i, ax in enumerate(axes):\n",
    "        method = methods[i]\n",
    "        precision = prec_base['precision'][(spec, method)] * 100\n",
    "        recall = prec_base['recall'][(spec, method)] * 100\n",
    "        line_prec = ax.axhline(precision, ls='--', c='purple', label='precision', alpha=0.5)\n",
    "        line_rec = ax.axvline(recall, ls='--', c='teal', label='recall', alpha=0.5)\n",
    "        if i == 1:\n",
    "            lines = [line_prec, line_rec]\n",
    "            labels = ['precision', 'recall']\n",
    "            legend = ax.legend(lines, labels, bbox_to_anchor=(1.02, 1.0), loc='upper left', title='baseline', frameon=True)\n",
    "    sns_fig.savefig(f'fig_iter_resnet50_syn_{spec}.png')"
   ]
  },
  {
   "cell_type": "markdown",
   "source": [
    "### Score map based iterative localization"
   ],
   "metadata": {
    "collapsed": false
   }
  },
  {
   "cell_type": "code",
   "execution_count": null,
   "outputs": [],
   "source": [
    "# baseline without iteration\n",
    "experiment_name = 'mwsol3_resnet50_synthetic'\n",
    "conditions = {\n",
    "    'tags.dataset': 'SYNTHETIC',\n",
    "    'tags.architecture': 'resnet50',\n",
    "    'tags.architecture_type': 'cam',\n",
    "    'status': 'FINISHED'\n",
    "}\n",
    "split = 'test'\n",
    "df_base = mlflow_get_runs(experiment_name, conditions)\n",
    "df_base = df_base.loc[\n",
    "    ((df_base['tags.method'] != \"minmaxcam\") & (df_base['tags.label'] == \"gap\")) | (df_base['tags.method'] == \"minmaxcam\")]\n",
    "cols = ['tags.method', 'tags.dataset_spec',\n",
    "        f'metrics.{split}_MaxBoxAccV3_f1', f'metrics.{split}_MaxBoxAccV3_precision', f'metrics.{split}_MaxBoxAccV3_recall']\n",
    "cols_renamed = ['method', 'spec', 'f1', 'precision', 'recall']\n",
    "df_base = df_base.loc[:, cols]\n",
    "df_base = df_base.rename(columns=dict(zip(cols, cols_renamed)))\n",
    "# replace gradcam method by cam: localization results are identical for resnet50 but in the iter dataset, cam is used.\n",
    "# df_base = df_base.replace({'method': {'gradcam':'cam'}})\n",
    "prec_base = df_base.set_index(['spec', 'method']).to_dict()\n",
    "\n",
    "# iterative experiments\n",
    "experiment_name = 'mwsol4_resnet50_synthetic_iter_mask_cam'\n",
    "conditions = {\n",
    "    'tags.dataset': 'SYNTHETIC',\n",
    "    'tags.architecture': 'resnet50',\n",
    "    'tags.architecture_type': 'cam',\n",
    "    'status': 'FINISHED'\n",
    "}\n",
    "df = mlflow_get_runs(experiment_name, conditions)\n",
    "cols = ['tags.method', 'tags.dataset_spec',\n",
    "        'params.bbox_mask_strategy', 'params.bbox_merge_strategy', 'params.iter_stop_prob_delta',\n",
    "        f'metrics.{split}_MaxBoxAccV3_f1', f'metrics.{split}_MaxBoxAccV3_precision', f'metrics.{split}_MaxBoxAccV3_recall']\n",
    "cols_renamed = ['method', 'spec',\n",
    "                'mask', 'merge', 'stop',\n",
    "                'f1', 'precision', 'recall']\n",
    "mapper = dict(zip(cols, cols_renamed))\n",
    "df = df.loc[:, cols].rename(columns=mapper)\n",
    "df = df.replace({'method': labels_methods})\n",
    "for metric in ['precision', 'recall', 'f1']:\n",
    "    df[metric] *= 100 # to percentage\n",
    "df = df.sort_values(['method', 'spec'])\n",
    "for spec in [f'd{i}b' for i in range(1,5)]:\n",
    "    df2 = df.loc[(df['spec'] == spec)]\n",
    "    sns.set_style(\"darkgrid\")\n",
    "    sns.set_context(\"paper\")\n",
    "    markers = {'drop': 'v', 'add': '^', 'unify':'o'}\n",
    "    sizes = {'0.25': 50, '0.5': 100, '1.0': 150}\n",
    "    size_order = ['0.25', '0.5', '1.0']\n",
    "    hue_order = ['mean','random','zero']\n",
    "    sns_fig = sns.relplot(data=df2, x=\"recall\", y=\"precision\", hue=\"mask\", style=\"merge\",\n",
    "                          size=\"stop\", size_order=size_order, col='method', col_wrap=2,\n",
    "                          markers=markers, sizes=sizes, hue_order=hue_order, alpha=0.5)\n",
    "    sns.move_legend(sns_fig, loc='center right', bbox_to_anchor=(1.02, 0.5), labelspacing=1.0, frameon=True)\n",
    "\n",
    "    # flatten axes into a 1-d array\n",
    "    axes = sns_fig.axes.flatten()\n",
    "    # iterate through the axes\n",
    "    methods = ['cam', 'gradcam++', 'minmaxcam', 'scorecam']\n",
    "    for i, ax in enumerate(axes):\n",
    "        method = methods[i]\n",
    "        precision = prec_base['precision'][(spec, method)] * 100\n",
    "        recall = prec_base['recall'][(spec, method)] * 100\n",
    "        line_prec = ax.axhline(precision, ls='--', c='purple', label='precision', alpha=0.5)\n",
    "        line_rec = ax.axvline(recall, ls='--', c='teal', label='recall', alpha=0.5)\n",
    "        if i == 1:\n",
    "            lines = [line_prec, line_rec]\n",
    "            labels = ['precision', 'recall']\n",
    "            legend = ax.legend(lines, labels, bbox_to_anchor=(1.02, 1.0), loc='upper left', title='baseline', frameon=True)\n",
    "    sns_fig.savefig(f'fig_iter_mask_cam_resnet50_syn_{spec}.png')"
   ],
   "metadata": {
    "collapsed": false
   }
  },
  {
   "cell_type": "markdown",
   "source": [
    "### bbox_merge_iou_threshold evaluation"
   ],
   "metadata": {
    "collapsed": false
   }
  },
  {
   "cell_type": "code",
   "execution_count": null,
   "outputs": [],
   "source": [
    "df['stop'].unique()"
   ],
   "metadata": {
    "collapsed": false
   }
  },
  {
   "cell_type": "code",
   "execution_count": null,
   "outputs": [],
   "source": [
    "\n",
    "df.loc[(df['merge']=='add')&(df['mask']=='random')&(df['stop']=='1.0')&(df['spec']=='d1b')]"
   ],
   "metadata": {
    "collapsed": false
   }
  },
  {
   "cell_type": "code",
   "execution_count": null,
   "outputs": [],
   "source": [
    "# baseline without iteration\n",
    "experiment_name = 'mwsol3_resnet50_synthetic'\n",
    "conditions = {\n",
    "    'tags.dataset': 'SYNTHETIC',\n",
    "    'tags.architecture': 'resnet50',\n",
    "    'tags.architecture_type': 'cam',\n",
    "    'status': 'FINISHED'\n",
    "}\n",
    "split = 'test'\n",
    "df_base = mlflow_get_runs(experiment_name, conditions)\n",
    "df_base = df_base.loc[\n",
    "    ((df_base['tags.method'] != \"minmaxcam\") & (df_base['tags.label'] == \"gap\")) | (df_base['tags.method'] == \"minmaxcam\")]\n",
    "cols = ['tags.method', 'tags.dataset_spec',\n",
    "        f'metrics.{split}_MaxBoxAccV3_precision', f'metrics.{split}_MaxBoxAccV3_recall']\n",
    "cols_renamed = ['method', 'spec', 'precision', 'recall']\n",
    "df_base = df_base.loc[:, cols]\n",
    "df_base = df_base.rename(columns=dict(zip(cols, cols_renamed)))\n",
    "# replace gradcam method by cam: localization results are identical for resnet50 but in the iter dataset, cam is used.\n",
    "# df_base = df_base.replace({'method': {'gradcam':'cam'}})\n",
    "prec_base = df_base.set_index(['spec', 'method']).to_dict()\n",
    "\n",
    "# iterative experiments\n",
    "experiment_name = 'mwsol4_resnet50_synthetic_iter_iou'\n",
    "conditions = {\n",
    "    'tags.dataset': 'SYNTHETIC',\n",
    "    'tags.architecture': 'resnet50',\n",
    "    'tags.architecture_type': 'cam',\n",
    "    'status': 'FINISHED'\n",
    "}\n",
    "df = mlflow_get_runs(experiment_name, conditions)\n",
    "cols = ['tags.method', 'tags.dataset_spec',\n",
    "        'params.bbox_mask_strategy', 'params.bbox_merge_strategy', 'params.iter_stop_prob_delta', 'params.bbox_merge_iou_threshold',\n",
    "        f'metrics.{split}_MaxBoxAccV3_precision', f'metrics.{split}_MaxBoxAccV3_recall']\n",
    "cols_renamed = ['method', 'spec',\n",
    "                'mask', 'merge', 'stop', 'iou',\n",
    "                'precision', 'recall']\n",
    "mapper = dict(zip(cols, cols_renamed))\n",
    "df = df.loc[:, cols].rename(columns=mapper)\n",
    "df = df.replace({'method': labels_methods})\n",
    "for metric in ['precision', 'recall']:\n",
    "    df[metric] *= 100 # to percentage\n",
    "df = df.sort_values(['iou', 'spec'])\n",
    "for spec in [f'd{i}b' for i in range(1,5)]:\n",
    "    df2 = df.loc[(df['spec'] == spec)]\n",
    "    sns.set_style(\"darkgrid\")\n",
    "    sns.set_context(\"paper\")\n",
    "    markers = {'drop': 'v', 'add': '^', 'unify':'o'}\n",
    "    sizes = {'0.25': 50, '0.5': 100, '1.0': 150}\n",
    "    size_order = ['0.25', '0.5', '1.0']\n",
    "    hue_order = ['mean','random','zero']\n",
    "    sns_fig = sns.relplot(data=df2, x=\"recall\", y=\"precision\", hue=\"mask\", style=\"merge\",\n",
    "                          size=\"stop\", size_order=size_order, col='iou', col_wrap=2,\n",
    "                          markers=markers, sizes=sizes, hue_order=hue_order, alpha=0.5)\n",
    "    sns.move_legend(sns_fig, loc='center right', bbox_to_anchor=(1.02, 0.5), labelspacing=1.0, frameon=True)\n",
    "\n",
    "    # flatten axes into a 1-d array\n",
    "    axes = sns_fig.axes.flatten()\n",
    "    # iterate through the axes\n",
    "    methods = ['cam', 'gradcam++', 'minmaxcam', 'scorecam']\n",
    "    for i, ax in enumerate(axes):\n",
    "        method = 'cam'#methods[i]\n",
    "        precision = prec_base['precision'][(spec, method)] * 100\n",
    "        recall = prec_base['recall'][(spec, method)] * 100\n",
    "        line_prec = ax.axhline(precision, ls='--', c='purple', label='precision', alpha=0.5)\n",
    "        line_rec = ax.axvline(recall, ls='--', c='teal', label='recall', alpha=0.5)\n",
    "        if i == 1:\n",
    "            lines = [line_prec, line_rec]\n",
    "            labels = ['precision', 'recall']\n",
    "            legend = ax.legend(lines, labels, bbox_to_anchor=(1.02, 1.0), loc='upper left', title='baseline', frameon=True)\n",
    "    sns_fig.savefig(f'fig_iter_resnet50_syn_iou_{spec}.png')"
   ],
   "metadata": {
    "collapsed": false
   }
  },
  {
   "cell_type": "markdown",
   "metadata": {
    "collapsed": false,
    "jupyter": {
     "outputs_hidden": false
    }
   },
   "source": [
    "## ResNet-50 ImageNet"
   ]
  },
  {
   "cell_type": "markdown",
   "source": [
    "### Oracle-based iterative localization"
   ],
   "metadata": {
    "collapsed": false
   }
  },
  {
   "cell_type": "code",
   "execution_count": null,
   "metadata": {
    "collapsed": false,
    "jupyter": {
     "outputs_hidden": false
    }
   },
   "outputs": [],
   "source": [
    "# baseline without iteration\n",
    "experiment_name = 'mwsol_resnet50_imagenet'\n",
    "conditions = {\n",
    "    'tags.dataset': 'ILSVRC',\n",
    "    'tags.architecture': 'resnet50',\n",
    "    'tags.architecture_type': 'cam',\n",
    "    'status': 'FINISHED'\n",
    "}\n",
    "split = 'val'\n",
    "df_base = mlflow_get_runs(experiment_name, conditions)\n",
    "df_base = df_base.loc[df_base.start_time > '2023-05-01']\n",
    "cols = ['tags.method',\n",
    "        f'metrics.{split}_MaxBoxAccV3_f1', f'metrics.{split}_MaxBoxAccV3_precision', f'metrics.{split}_MaxBoxAccV3_recall']\n",
    "cols_renamed = ['method', 'f1', 'precision', 'recall']\n",
    "df_base = df_base.loc[:, cols]\n",
    "df_base = df_base.rename(columns=dict(zip(cols, cols_renamed)))\n",
    "prec_base = df_base.set_index(['method']).to_dict()\n",
    "\n",
    "# iterative experiments\n",
    "experiment_name = 'mwsol_resnet50_imagenet_iter'\n",
    "conditions = {\n",
    "    'tags.dataset': 'ILSVRC',\n",
    "    'tags.architecture': 'resnet50',\n",
    "    'tags.architecture_type': 'cam',\n",
    "    'status': 'FINISHED'\n",
    "}\n",
    "# conditions |= {\n",
    "#     'params.bbox_mask_strategy': 'random',\n",
    "#     'params.bbox_merge_strategy': 'add',\n",
    "#     'params.iter_stop_prob_delta': '0.25',\n",
    "# }\n",
    "df = mlflow_get_runs(experiment_name, conditions)\n",
    "cols = ['tags.method',\n",
    "        'params.bbox_mask_strategy', 'params.bbox_merge_strategy', 'params.iter_stop_prob_delta',\n",
    "        f'metrics.{split}_MaxBoxAccV3_f1', f'metrics.{split}_MaxBoxAccV3_precision', f'metrics.{split}_MaxBoxAccV3_recall']\n",
    "cols_renamed = ['method',\n",
    "                'mask', 'merge', 'stop',\n",
    "                'f1', 'precision', 'recall']\n",
    "mapper = dict(zip(cols, cols_renamed))\n",
    "df = df.loc[:, cols].rename(columns=mapper)\n",
    "df = df.replace({'method': labels_methods})\n",
    "for metric in ['precision', 'recall', 'f1']:\n",
    "    df[metric] *= 100 # to percentage\n",
    "df = df.sort_values(['method'])\n",
    "\n",
    "sns.set_style(\"darkgrid\")\n",
    "sns.set_context(\"paper\")\n",
    "markers = {'drop': 'v', 'add': '^', 'unify':'o'}\n",
    "# markers = {'drop': 'x', 'add': '+', 'unify':'2'}\n",
    "sizes = {'0.25': 50, '0.5': 100, '1.0': 150}\n",
    "size_order = ['0.25', '0.5', '1.0']\n",
    "hue_order = ['mean','random','zero']\n",
    "sns_fig = sns.relplot(data=df, x=\"recall\", y=\"precision\", hue=\"mask\", style=\"merge\",\n",
    "                      size=\"stop\", size_order=size_order, col='method', col_wrap=2,\n",
    "                      markers=markers, sizes=sizes, hue_order=hue_order, alpha=0.5)\n",
    "sns.move_legend(sns_fig, loc='center right', bbox_to_anchor=(1.02, 0.5), labelspacing=1.0, frameon=True)\n",
    "# flatten axes into a 1-d array\n",
    "axes = sns_fig.axes.flatten()\n",
    "# iterate through the axes\n",
    "methods = ['cam', 'gradcam++', 'minmaxcam', 'scorecam']\n",
    "for i, ax in enumerate(axes):\n",
    "    method = methods[i]\n",
    "    precision = prec_base['precision'][method] * 100\n",
    "    recall = prec_base['recall'][method] * 100\n",
    "    line_prec = ax.axhline(precision, ls='--', c='purple', label='precision', alpha=0.5)\n",
    "    line_rec = ax.axvline(recall, ls='--', c='teal', label='recall', alpha=0.5)\n",
    "    if i == 1:\n",
    "        lines = [line_prec, line_rec]\n",
    "        labels = ['precision', 'recall']\n",
    "        legend = ax.legend(lines, labels, bbox_to_anchor=(1.02, 1.0), loc='upper left', title='baseline', frameon=True)\n",
    "sns_fig.savefig(f'fig_iter_mask_cam_resnet50_imagenet.png')"
   ]
  },
  {
   "cell_type": "markdown",
   "source": [
    "### Score map based iterative localization"
   ],
   "metadata": {
    "collapsed": false
   }
  },
  {
   "cell_type": "code",
   "execution_count": null,
   "outputs": [],
   "source": [
    "# baseline without iteration\n",
    "experiment_name = 'mwsol_resnet50_imagenet'\n",
    "conditions = {\n",
    "    'tags.dataset': 'ILSVRC',\n",
    "    'tags.architecture': 'resnet50',\n",
    "    'tags.architecture_type': 'cam',\n",
    "    'status': 'FINISHED'\n",
    "}\n",
    "split = 'val'\n",
    "df_base = mlflow_get_runs(experiment_name, conditions)\n",
    "df_base = df_base.loc[df_base.start_time > '2023-05-01']\n",
    "cols = ['tags.method',\n",
    "        f'metrics.{split}_MaxBoxAccV3_f1', f'metrics.{split}_MaxBoxAccV3_precision', f'metrics.{split}_MaxBoxAccV3_recall']\n",
    "cols_renamed = ['method', 'f1', 'precision', 'recall']\n",
    "df_base = df_base.loc[:, cols]\n",
    "df_base = df_base.rename(columns=dict(zip(cols, cols_renamed)))\n",
    "prec_base = df_base.set_index(['method']).to_dict()\n",
    "\n",
    "# iterative experiments\n",
    "experiment_name = 'mwsol4_resnet50_imagenet_iter_mask_cam'\n",
    "conditions = {\n",
    "    'tags.dataset': 'ILSVRC',\n",
    "    'tags.architecture': 'resnet50',\n",
    "    'tags.architecture_type': 'cam',\n",
    "    'status': 'FINISHED'\n",
    "}\n",
    "\n",
    "df = mlflow_get_runs(experiment_name, conditions)\n",
    "cols = ['tags.method',\n",
    "        'params.bbox_mask_strategy', 'params.bbox_merge_strategy', 'params.iter_stop_prob_delta',\n",
    "        f'metrics.{split}_MaxBoxAccV3_f1', f'metrics.{split}_MaxBoxAccV3_precision', f'metrics.{split}_MaxBoxAccV3_recall']\n",
    "cols_renamed = ['method',\n",
    "                'mask', 'merge', 'stop',\n",
    "                'f1', 'precision', 'recall']\n",
    "mapper = dict(zip(cols, cols_renamed))\n",
    "df = df.loc[:, cols].rename(columns=mapper)\n",
    "df = df.replace({'method': labels_methods})\n",
    "for metric in ['precision', 'recall', 'f1']:\n",
    "    df[metric] *= 100 # to percentage\n",
    "df = df.sort_values(['method'])\n",
    "\n",
    "sns.set_style(\"darkgrid\")\n",
    "sns.set_context(\"paper\")\n",
    "markers = {'drop': 'v', 'add': '^', 'unify':'o'}\n",
    "# markers = {'drop': 'x', 'add': '+', 'unify':'2'}\n",
    "sizes = {'0.25': 50, '0.5': 100, '1.0': 150}\n",
    "size_order = ['0.25', '0.5', '1.0']\n",
    "hue_order = ['mean','random','zero']\n",
    "sns_fig = sns.relplot(data=df, x=\"recall\", y=\"precision\", hue=\"mask\", style=\"merge\",\n",
    "                      size=\"stop\", size_order=size_order, col='method', col_wrap=2,\n",
    "                      markers=markers, sizes=sizes, hue_order=hue_order, alpha=0.5)\n",
    "sns.move_legend(sns_fig, loc='center right', bbox_to_anchor=(1.02, 0.5), labelspacing=1.0, frameon=True)\n",
    "# flatten axes into a 1-d array\n",
    "axes = sns_fig.axes.flatten()\n",
    "# iterate through the axes\n",
    "methods = ['cam', 'gradcam++', 'minmaxcam', 'scorecam']\n",
    "for i, ax in enumerate(axes):\n",
    "    method = methods[i]\n",
    "    precision = prec_base['precision'][method] * 100\n",
    "    recall = prec_base['recall'][method] * 100\n",
    "    line_prec = ax.axhline(precision, ls='--', c='purple', label='precision', alpha=0.5)\n",
    "    line_rec = ax.axvline(recall, ls='--', c='teal', label='recall', alpha=0.5)\n",
    "    if i == 1:\n",
    "        lines = [line_prec, line_rec]\n",
    "        labels = ['precision', 'recall']\n",
    "        legend = ax.legend(lines, labels, bbox_to_anchor=(1.02, 1.0), loc='upper left', title='baseline', frameon=True)\n",
    "sns_fig.savefig(f'fig_iter_resnet50_imagenet.png')"
   ],
   "metadata": {
    "collapsed": false
   }
  },
  {
   "cell_type": "markdown",
   "source": [
    "### Iterative localization side-by-sice comparision (oracle vs score map)"
   ],
   "metadata": {
    "collapsed": false
   }
  },
  {
   "cell_type": "code",
   "execution_count": null,
   "outputs": [],
   "source": [
    "# baseline without iteration\n",
    "experiment_name = 'mwsol_resnet50_imagenet'\n",
    "conditions = {\n",
    "    'tags.dataset': 'ILSVRC',\n",
    "    'tags.architecture': 'resnet50',\n",
    "    'tags.architecture_type': 'cam',\n",
    "    'status': 'FINISHED'\n",
    "}\n",
    "df_base = mlflow_get_runs(experiment_name, conditions)\n",
    "df_base = df_base.loc[df_base.start_time > '2023-05-01']\n",
    "cols = ['tags.method',\n",
    "        'params.bbox_merge_strategy', 'params.bbox_mask_strategy', 'params.iter_stop_prob_delta',\n",
    "        f'metrics.{split}_MaxBoxAccV3_f1', f'metrics.{split}_MaxBoxAccV3_precision', f'metrics.{split}_MaxBoxAccV3_recall']\n",
    "cols_renamed = ['method', 'merge', 'mask', 'stop', 'f1', 'precision', 'recall']\n",
    "df_base = df_base.loc[:, cols]\n",
    "df_base = df_base.rename(columns=dict(zip(cols, cols_renamed)))\n",
    "prec_base = df_base.set_index(['method']).to_dict()\n",
    "\n",
    "split = 'val'\n",
    "conditions = {\n",
    "    'tags.dataset': 'ILSVRC',\n",
    "    'tags.architecture': 'resnet50',\n",
    "    'tags.architecture_type': 'cam',\n",
    "    'status': 'FINISHED'\n",
    "}\n",
    "cols = ['tags.method',\n",
    "        'params.bbox_mask_strategy', 'params.bbox_merge_strategy', 'params.iter_stop_prob_delta',\n",
    "        f'metrics.{split}_MaxBoxAccV3_f1', f'metrics.{split}_MaxBoxAccV3_precision', f'metrics.{split}_MaxBoxAccV3_recall',\n",
    "        'artifact_uri']\n",
    "cols_renamed = ['method',\n",
    "                'mask', 'merge', 'stop',\n",
    "                'f1', 'precision', 'recall', 'artifact_uri']\n",
    "df_list = []\n",
    "for mask_type, experiment_name in [('oracle based', 'mwsol_resnet50_imagenet_iter'),\n",
    "                                   ('score map based', 'mwsol4_resnet50_imagenet_iter_mask_cam')]:\n",
    "    df = mlflow_get_runs(experiment_name, conditions)\n",
    "    mapper = dict(zip(cols, cols_renamed))\n",
    "    df = df.loc[:, cols].rename(columns=mapper)\n",
    "    df = df.replace({'method': labels_methods})\n",
    "    df = df.loc[df.method != 'Score-CAM'] # not available for score map based i.l.\n",
    "    for metric in ['precision', 'recall', 'f1']:\n",
    "        df[metric] *= 100 # to percentage\n",
    "    df.loc[:, 'type'] = mask_type\n",
    "    df_list.append(df)\n",
    "\n",
    "# concatenate dataframes\n",
    "df = pd.concat(df_list, axis=0, ignore_index=True)\n",
    "df.loc[:, 'artifact_uri'] = df['artifact_uri'].str.removeprefix('file://')\n",
    "df = df.sort_values(['method', 'mask'])\n",
    "\n",
    "# plots\n",
    "sns.set_style(\"darkgrid\")\n",
    "sns.set_context(\"paper\")\n",
    "markers = {'drop': 'v', 'add': '^', 'unify':'o'}\n",
    "sizes = {'0.25': 50, '0.5': 100, '1.0': 150}\n",
    "size_order = ['0.25', '0.5', '1.0']\n",
    "hue_order = ['mean','random','zero']\n",
    "sns_fig = sns.relplot(data=df, x=\"recall\", y=\"precision\", hue=\"mask\", style=\"merge\",\n",
    "                      size=\"stop\", size_order=size_order, col='method', row='type',\n",
    "                      markers=markers, sizes=sizes, hue_order=hue_order, alpha=0.5)\n",
    "sns.move_legend(sns_fig, loc='lower center', bbox_to_anchor=(0.6, 1.0), labelspacing=1.0, frameon=True, ncol=12)\n",
    "# flatten axes into a 1-d array\n",
    "# axes = sns_fig.axes.flatten()\n",
    "# iterate through the axes\n",
    "row_num, col_num = sns_fig.axes.shape\n",
    "methods = ['cam', 'gradcam++', 'minmaxcam', 'scorecam']\n",
    "for r in range(row_num):\n",
    "    for c in range(col_num):\n",
    "        ax = sns_fig.axes[r,c]\n",
    "        method = methods[c]\n",
    "        precision = prec_base['precision'][method] * 100\n",
    "        recall = prec_base['recall'][method] * 100\n",
    "        line_prec = ax.axhline(precision, ls='--', c='purple', label='precision', alpha=0.5)\n",
    "        line_rec = ax.axvline(recall, ls='--', c='teal', label='recall', alpha=0.5)\n",
    "        if r == 0 and c == 0:\n",
    "            lines = [line_prec, line_rec]\n",
    "            labels = ['baseline precision', 'baseline recall']\n",
    "            legend = ax.legend(lines, labels, bbox_to_anchor=(0.05, 1.075), loc='lower left', title=None, frameon=True, ncols=2)\n",
    "sns_fig.savefig(f'fig_iter_mask_bbox_vs_cam_resnet50_imagenet.png')"
   ],
   "metadata": {
    "collapsed": false
   }
  },
  {
   "cell_type": "code",
   "execution_count": null,
   "outputs": [],
   "source": [
    "df.sort_values(['method', 'merge', 'stop','mask', 'type'])"
   ],
   "metadata": {
    "collapsed": false
   }
  },
  {
   "cell_type": "markdown",
   "source": [
    "### Iterative localization ImageNet split by instances (oracle vs score map)"
   ],
   "metadata": {
    "collapsed": false
   }
  },
  {
   "cell_type": "code",
   "execution_count": null,
   "outputs": [],
   "source": [
    "# baseline without iteration\n",
    "experiment_name = 'mwsol_resnet50_imagenet'\n",
    "conditions = {\n",
    "    'tags.dataset': 'ILSVRC',\n",
    "    'tags.architecture': 'resnet50',\n",
    "    'tags.architecture_type': 'cam',\n",
    "    'status': 'FINISHED'\n",
    "}\n",
    "df_base = mlflow_get_runs(experiment_name, conditions)\n",
    "df_base = df_base.loc[df_base.start_time > '2023-05-01']\n",
    "cols = ['tags.method',\n",
    "        'params.bbox_merge_strategy', 'params.bbox_mask_strategy', 'params.iter_stop_prob_delta',\n",
    "        f'metrics.{split}_MaxBoxAccV3_f1', f'metrics.{split}_MaxBoxAccV3_precision', f'metrics.{split}_MaxBoxAccV3_recall']\n",
    "cols_renamed = ['method', 'merge', 'mask', 'stop', 'f1', 'precision', 'recall']\n",
    "df_base = df_base.loc[:, cols]\n",
    "df_base = df_base.rename(columns=dict(zip(cols, cols_renamed)))\n",
    "prec_base = df_base.set_index(['method']).to_dict()\n",
    "\n",
    "split = 'val'\n",
    "conditions = {\n",
    "    'tags.dataset': 'ILSVRC',\n",
    "    'tags.architecture': 'resnet50',\n",
    "    'tags.architecture_type': 'cam',\n",
    "    'status': 'FINISHED'\n",
    "}\n",
    "cols = ['tags.method',\n",
    "        'params.bbox_mask_strategy', 'params.bbox_merge_strategy', 'params.iter_stop_prob_delta',\n",
    "        f'metrics.{split}_MaxBoxAccV3_f1', f'metrics.{split}_MaxBoxAccV3_precision', f'metrics.{split}_MaxBoxAccV3_recall',\n",
    "        'artifact_uri']\n",
    "cols_renamed = ['method',\n",
    "                'mask', 'merge', 'stop',\n",
    "                'f1', 'precision', 'recall', 'artifact_uri']\n",
    "df_list = []\n",
    "for mask_type, experiment_name in [('oracle based', 'mwsol_resnet50_imagenet_iter'),\n",
    "                                   ('score map based', 'mwsol4_resnet50_imagenet_iter_mask_cam')]:\n",
    "    df = mlflow_get_runs(experiment_name, conditions)\n",
    "    mapper = dict(zip(cols, cols_renamed))\n",
    "    df = df.loc[:, cols].rename(columns=mapper)\n",
    "    df = df.replace({'method': labels_methods})\n",
    "    df = df.loc[df.method != 'Score-CAM'] # not available for score map based i.l.\n",
    "    for metric in ['precision', 'recall', 'f1']:\n",
    "        df[metric] *= 100 # to percentage\n",
    "    df.loc[:, 'type'] = mask_type\n",
    "    df_list.append(df)\n",
    "\n",
    "# concatenate dataframes\n",
    "df = pd.concat(df_list, axis=0, ignore_index=True)\n",
    "df.loc[:, 'artifact_uri'] = df['artifact_uri'].str.removeprefix('file://')\n",
    "df = df.sort_values(['method', 'mask'])\n",
    "\n",
    "# plots\n",
    "sns.set_style(\"darkgrid\")\n",
    "sns.set_context(\"paper\")\n",
    "markers = {'drop': 'v', 'add': '^', 'unify':'o'}\n",
    "sizes = {'0.25': 50, '0.5': 100, '1.0': 150}\n",
    "size_order = ['0.25', '0.5', '1.0']\n",
    "hue_order = ['mean','random','zero']\n",
    "sns_fig = sns.relplot(data=df, x=\"recall\", y=\"precision\", hue=\"mask\", style=\"merge\",\n",
    "                      size=\"stop\", size_order=size_order, col='method', row='type',\n",
    "                      markers=markers, sizes=sizes, hue_order=hue_order, alpha=0.5)\n",
    "sns.move_legend(sns_fig, loc='lower center', bbox_to_anchor=(0.6, 1.0), labelspacing=1.0, frameon=True, ncol=12)\n",
    "# flatten axes into a 1-d array\n",
    "# axes = sns_fig.axes.flatten()\n",
    "# iterate through the axes\n",
    "row_num, col_num = sns_fig.axes.shape\n",
    "methods = ['cam', 'gradcam++', 'minmaxcam', 'scorecam']\n",
    "for r in range(row_num):\n",
    "    for c in range(col_num):\n",
    "        ax = sns_fig.axes[r,c]\n",
    "        method = methods[c]\n",
    "        precision = prec_base['precision'][method] * 100\n",
    "        recall = prec_base['recall'][method] * 100\n",
    "        line_prec = ax.axhline(precision, ls='--', c='purple', label='precision', alpha=0.5)\n",
    "        line_rec = ax.axvline(recall, ls='--', c='teal', label='recall', alpha=0.5)\n",
    "        if r == 0 and c == 0:\n",
    "            lines = [line_prec, line_rec]\n",
    "            labels = ['baseline precision', 'baseline recall']\n",
    "            legend = ax.legend(lines, labels, bbox_to_anchor=(0.05, 1.075), loc='lower left', title=None, frameon=True, ncols=2)\n",
    "sns_fig.savefig(f'fig_iter_mask_bbox_vs_cam_resnet50_imagenet.png')"
   ],
   "metadata": {
    "collapsed": false
   }
  },
  {
   "cell_type": "markdown",
   "source": [
    "### Visual explanation"
   ],
   "metadata": {
    "collapsed": false
   }
  },
  {
   "cell_type": "code",
   "execution_count": null,
   "outputs": [],
   "source": [
    "from torchvision.io.image import read_image\n",
    "from torchvision.transforms.functional import to_pil_image\n",
    "import pandas as pd\n",
    "\n",
    "image_no_list = list(range(1,21))\n",
    "# image_no_list = [9]#1, 2,3,4,8]\n",
    "\n",
    "df2 = df\n",
    "df2 = df2.loc[df2['method'] == 'CAM']\n",
    "df2 = df2.loc[df2['merge'] == 'add']\n",
    "df2 = df2.loc[df2['mask'] == 'mean']\n",
    "df2 = df2.loc[df2['stop'] == '1.0']\n",
    "df2 = df2.loc[:, ['method', 'type', 'artifact_uri']]\n",
    "df2 = df2.sort_values(['method', 'type'])\n",
    "df_dict = df2.set_index('type').to_dict()\n",
    "uris = df_dict['artifact_uri']\n",
    "iterations = 3\n",
    "for image_no in image_no_list:\n",
    "    filebase = f'ILSVRC2012_{split}_{image_no:0>8}'\n",
    "    image_id = f'{split}/ILSVRC2012_{split}_{image_no:0>8}.JPEG'\n",
    "    path_img_orig = os.path.join(f'/Users/goemaereg/github.com/thesis/data/dataset/ILSVRC/{image_id}')\n",
    "    for r, (mask_type, uri) in enumerate(uris.items()):\n",
    "        _, axes = plt.subplots(1, 1 + iterations, figsize=(16, 8))\n",
    "        img = read_image(path=path_img_orig)\n",
    "        axes[0].imshow(to_pil_image(img))\n",
    "        axes[0].axis('off')\n",
    "        class_id = class_labels[image_id]\n",
    "        label_name = label_names[str(class_id)]\n",
    "        axes[0].set_title(f'image ({label_name})')\n",
    "        for iter in range(iterations):\n",
    "            c = 1 + iter\n",
    "            file_ann = f'{filebase}_ann_{iter}.png'\n",
    "            path_img = os.path.join(uri, 'xai', split, file_ann)\n",
    "            img = read_image(path=path_img)\n",
    "            axes[c].imshow(to_pil_image(img))\n",
    "            axes[c].axis('off')\n",
    "            title = f'{mask_type} | iter {iter + 1}'\n",
    "            axes[c].set_title(title)\n",
    "        plt.show()"
   ],
   "metadata": {
    "collapsed": false
   }
  },
  {
   "cell_type": "code",
   "execution_count": null,
   "outputs": [],
   "source": [
    "uris"
   ],
   "metadata": {
    "collapsed": false
   }
  },
  {
   "cell_type": "code",
   "execution_count": null,
   "outputs": [],
   "source": [],
   "metadata": {
    "collapsed": false
   }
  },
  {
   "cell_type": "code",
   "execution_count": null,
   "outputs": [],
   "source": [],
   "metadata": {
    "collapsed": false
   }
  }
 ],
 "metadata": {
  "kernelspec": {
   "display_name": "Python 3 (ipykernel)",
   "language": "python",
   "name": "python3"
  },
  "language_info": {
   "codemirror_mode": {
    "name": "ipython",
    "version": 3
   },
   "file_extension": ".py",
   "mimetype": "text/x-python",
   "name": "python",
   "nbconvert_exporter": "python",
   "pygments_lexer": "ipython3",
   "version": "3.9.6"
  }
 },
 "nbformat": 4,
 "nbformat_minor": 4
}
