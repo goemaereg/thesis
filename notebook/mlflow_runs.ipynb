{
 "cells": [
  {
   "cell_type": "markdown",
   "source": [
    "# MLFlow runs"
   ],
   "metadata": {
    "collapsed": false
   }
  },
  {
   "cell_type": "code",
   "execution_count": 1,
   "metadata": {
    "collapsed": true
   },
   "outputs": [],
   "source": [
    "import mlflow\n",
    "from mlflow.tracking import MlflowClient\n",
    "import itertools\n",
    "import matplotlib.pyplot as plt\n",
    "from mlflow.entities import ViewType\n",
    "\n",
    "mlflow.tracking.set_tracking_uri('../mlruns')"
   ]
  },
  {
   "cell_type": "markdown",
   "source": [
    "## Functions"
   ],
   "metadata": {
    "collapsed": false
   }
  },
  {
   "cell_type": "code",
   "execution_count": 2,
   "outputs": [],
   "source": [
    "def get_runs(experiment_name, filter_string=''):\n",
    "    client = MlflowClient()\n",
    "    exp_ids = [client.get_experiment_by_name(experiment_name).experiment_id]\n",
    "    runs = mlflow.search_runs(experiment_ids=exp_ids, filter_string=filter_string)\n",
    "    return runs\n",
    "\n",
    "\n",
    "def get_best_run(runs, best_metrics):\n",
    "    if runs is None or runs.shape[0] == 0:\n",
    "        return None\n",
    "    for metric in best_metrics:\n",
    "        runs = runs.loc[runs[f'metrics.{metric}'] >= runs[f'metrics.{metric}'].max()]\n",
    "    # pick first in the list\n",
    "    run = runs.loc[runs.index[0]]\n",
    "    return run"
   ],
   "metadata": {
    "collapsed": false
   }
  },
  {
   "cell_type": "code",
   "execution_count": 3,
   "outputs": [],
   "source": [
    "def runs_to_latex(runs, threshold_method, caption, label, grouped=False):\n",
    "    cols = ['tags.mlflow.runName', 'tags.model', 'tags.method', 'metrics.test_auc', 'metrics.test_tax_yield', 'metrics.test_tax_score', 'metrics.test_effort', 'metrics.test_f1-score_1', 'metrics.test_recall_1', 'metrics.test_precision_1', 'metrics.threshold']\n",
    "    cols_renamed = [ 'name', 'model', 'method', 'auc', 'yield', 'value', 'effort', 'f1-score', 'recall', 'precision', 'threshold' ]\n",
    "    to_replace = {\n",
    "        'model': {'tree': 'DT', 'forest': 'RF', 'logit': 'LR'},\n",
    "        'method': {'imbalanced': 'IM', 'oversample': 'RO', 'weighted': 'BC'}}\n",
    "    df = runs.loc[:, :]\n",
    "    df = df.loc[df['tags.threshold_method']==threshold_method]\n",
    "    df = df.loc[df['tags.grouped']==str(grouped)]\n",
    "    df = df.sort_index(ascending=False)\n",
    "    df = df.loc[:, cols]\n",
    "    df = df.rename(columns=dict(zip(cols, cols_renamed)))\n",
    "    df = df.replace(to_replace=to_replace)\n",
    "    df.loc[:, 'name'] = df.model.str.cat(df.method, sep='-')\n",
    "    df = df.drop(columns=['model', 'method']).set_index(['name'])\n",
    "    if threshold_method=='default':\n",
    "        df = df.drop(columns=['threshold'])\n",
    "    else:\n",
    "        df = df.drop(columns=['auc'])\n",
    "    cols_max = df.columns.drop('effort').tolist()\n",
    "    s = df.style.highlight_max(subset=cols_max, axis=0, props='bfseries: ;')\n",
    "    s = s.highlight_min(subset='effort', axis=0, props='bfseries: ;')\n",
    "    latex_table = s.to_latex(\n",
    "        column_format=\"lrrrrrrr\", position=\"ht\", position_float=\"centering\",\n",
    "        hrules=True, label=label, caption=caption,\n",
    "        multirow_align=\"t\", multicol_align=\"r\")\n",
    "    return latex_table"
   ],
   "metadata": {
    "collapsed": false
   }
  },
  {
   "cell_type": "markdown",
   "source": [
    "## Reports"
   ],
   "metadata": {
    "collapsed": false
   }
  },
  {
   "cell_type": "markdown",
   "source": [
    "### MaxBoxAccV3 and PxAP"
   ],
   "metadata": {
    "collapsed": false
   }
  },
  {
   "cell_type": "code",
   "execution_count": 114,
   "outputs": [],
   "source": [
    "filter_string = 'tags.dataset = \"SYNTHETIC\" and status = \"FINISHED\" and tags.architecture_type = \"vanilla\"'\n",
    "runs = get_runs('wsol', filter_string=filter_string)\n",
    "background_filter = 'b'\n",
    "runs = runs.loc[runs['tags.dataset_spec'].str.contains(background_filter)]"
   ],
   "metadata": {
    "collapsed": false
   }
  },
  {
   "cell_type": "code",
   "execution_count": 115,
   "outputs": [],
   "source": [
    "cols = ['tags.mlflow.runName', 'metrics.test_MaxBoxAccV3', 'metrics.test_PxAP']"
   ],
   "metadata": {
    "collapsed": false
   }
  },
  {
   "cell_type": "code",
   "execution_count": 116,
   "outputs": [],
   "source": [
    "runs2 = runs.loc[:, cols].sort_values(by='tags.mlflow.runName')"
   ],
   "metadata": {
    "collapsed": false
   }
  },
  {
   "cell_type": "code",
   "execution_count": 118,
   "outputs": [
    {
     "name": "stdout",
     "output_type": "stream",
     "text": [
      "             tags.mlflow.runName  metrics.test_MaxBoxAccV3\n",
      "12   vgg16_gradcam_synthetic_d2b                  0.320833\n",
      "10   vgg16_gradcam_synthetic_d3b                  0.301667\n",
      "8    vgg16_gradcam_synthetic_d4b                  0.091667\n",
      "14   vgg16_gradcam_synthetic_o1b                  0.745000\n",
      "4   vgg16_scorecam_synthetic_d2b                  0.430833\n",
      "2   vgg16_scorecam_synthetic_d3b                  0.351667\n",
      "0   vgg16_scorecam_synthetic_d4b                  0.132500\n",
      "6   vgg16_scorecam_synthetic_o1b                  0.705000\n"
     ]
    }
   ],
   "source": [
    "print(runs2.loc[:,['tags.mlflow.runName','metrics.test_MaxBoxAccV3']])"
   ],
   "metadata": {
    "collapsed": false
   }
  },
  {
   "cell_type": "code",
   "execution_count": 117,
   "outputs": [
    {
     "name": "stdout",
     "output_type": "stream",
     "text": [
      "             tags.mlflow.runName  metrics.test_PxAP\n",
      "12   vgg16_gradcam_synthetic_d2b           0.395897\n",
      "10   vgg16_gradcam_synthetic_d3b           0.422439\n",
      "8    vgg16_gradcam_synthetic_d4b           0.131227\n",
      "14   vgg16_gradcam_synthetic_o1b           0.683651\n",
      "4   vgg16_scorecam_synthetic_d2b           0.538016\n",
      "2   vgg16_scorecam_synthetic_d3b           0.461270\n",
      "0   vgg16_scorecam_synthetic_d4b           0.215631\n",
      "6   vgg16_scorecam_synthetic_o1b           0.692447\n"
     ]
    }
   ],
   "source": [
    "print(runs2.loc[:,['tags.mlflow.runName','metrics.test_PxAP']])"
   ],
   "metadata": {
    "collapsed": false
   }
  },
  {
   "cell_type": "markdown",
   "source": [
    "### Localization performance at varying CAM thresholds"
   ],
   "metadata": {
    "collapsed": false
   }
  },
  {
   "cell_type": "code",
   "execution_count": null,
   "outputs": [],
   "source": [
    "path_basedir = '../train_log'"
   ],
   "metadata": {
    "collapsed": false
   }
  }
 ],
 "metadata": {
  "kernelspec": {
   "display_name": "Python 3",
   "language": "python",
   "name": "python3"
  },
  "language_info": {
   "codemirror_mode": {
    "name": "ipython",
    "version": 2
   },
   "file_extension": ".py",
   "mimetype": "text/x-python",
   "name": "python",
   "nbconvert_exporter": "python",
   "pygments_lexer": "ipython2",
   "version": "2.7.6"
  }
 },
 "nbformat": 4,
 "nbformat_minor": 0
}
